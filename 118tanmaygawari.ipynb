{
  "cells": [
    {
      "cell_type": "code",
      "execution_count": null,
      "metadata": {
        "colab": {
          "base_uri": "https://localhost:8080/"
        },
        "id": "ND3ODV0eTSUT",
        "outputId": "e3221544-f84a-4428-8987-4ed060466b8c"
      },
      "outputs": [
        {
          "output_type": "stream",
          "name": "stdout",
          "text": [
            "10.9\n"
          ]
        }
      ],
      "source": [
        "a=10.9\n",
        "print(a)"
      ]
    },
    {
      "cell_type": "code",
      "source": [
        "from google.colab import drive\n",
        "drive.mount('/content/drive')"
      ],
      "metadata": {
        "id": "VV4ET6rdBCsK"
      },
      "execution_count": null,
      "outputs": []
    },
    {
      "cell_type": "code",
      "execution_count": null,
      "metadata": {
        "colab": {
          "base_uri": "https://localhost:8080/"
        },
        "id": "-Drg1iX1Tfkm",
        "outputId": "7cedaecc-d707-4dc1-a437-3ad941153e98"
      },
      "outputs": [
        {
          "name": "stdout",
          "output_type": "stream",
          "text": [
            "['nobody', 10.9, 90]\n"
          ]
        }
      ],
      "source": [
        " l1=[\"nobody\",10.9,90]\n",
        "print(l1)"
      ]
    },
    {
      "cell_type": "code",
      "execution_count": null,
      "metadata": {
        "colab": {
          "base_uri": "https://localhost:8080/"
        },
        "id": "3qcZ3lQuTpf3",
        "outputId": "e17902e9-e092-4626-d3bf-16ab89078c51"
      },
      "outputs": [
        {
          "name": "stdout",
          "output_type": "stream",
          "text": [
            "('tanmay', 565, 229.8)\n"
          ]
        }
      ],
      "source": [
        "t=(\"tanmay\",565,229.8)\n",
        "print(t)"
      ]
    },
    {
      "cell_type": "code",
      "execution_count": null,
      "metadata": {
        "colab": {
          "base_uri": "https://localhost:8080/"
        },
        "id": "OdRXsR_mT-Ie",
        "outputId": "6e35420c-fca9-411d-d44c-af8065cb80b7"
      },
      "outputs": [
        {
          "name": "stdout",
          "output_type": "stream",
          "text": [
            "{'and1': 2929, 'and2': 63736}\n"
          ]
        }
      ],
      "source": [
        "d={\"and1\":2929,\"and2\":63736}\n",
        "print(d)\n"
      ]
    },
    {
      "cell_type": "code",
      "execution_count": null,
      "metadata": {
        "colab": {
          "base_uri": "https://localhost:8080/"
        },
        "id": "lQkp8UsQUTX_",
        "outputId": "8c09732f-17bb-4b1e-b38a-286d043b1c92"
      },
      "outputs": [
        {
          "name": "stdout",
          "output_type": "stream",
          "text": [
            "hello world\n"
          ]
        }
      ],
      "source": [
        "s=\"hello world\"\n",
        "print(s)"
      ]
    },
    {
      "cell_type": "code",
      "execution_count": null,
      "metadata": {
        "colab": {
          "base_uri": "https://localhost:8080/"
        },
        "id": "ioaW7dMUVPAf",
        "outputId": "a793067a-74ad-4aad-f5d3-0961a003b88f"
      },
      "outputs": [
        {
          "name": "stdout",
          "output_type": "stream",
          "text": [
            "('tanmay', 565)\n"
          ]
        }
      ],
      "source": [
        "a=t\n",
        "print(a )\n"
      ]
    },
    {
      "cell_type": "code",
      "execution_count": null,
      "metadata": {
        "colab": {
          "base_uri": "https://localhost:8080/"
        },
        "id": "VDlJTvYYVzbY",
        "outputId": "d838283a-bd2b-4c43-9099-f3bc750cd242"
      },
      "outputs": [
        {
          "name": "stdout",
          "output_type": "stream",
          "text": [
            "tanmay\n"
          ]
        }
      ],
      "source": [
        "b=\"tanmay\"\n",
        "print(b)"
      ]
    },
    {
      "cell_type": "code",
      "execution_count": null,
      "metadata": {
        "colab": {
          "base_uri": "https://localhost:8080/"
        },
        "id": "zvnzMfdmcb3G",
        "outputId": "2e6d767a-c47b-4014-b34d-b5087186cc67"
      },
      "outputs": [
        {
          "name": "stdout",
          "output_type": "stream",
          "text": [
            "312\n",
            "13123\n",
            "23\n",
            "23.0 is smallest number\n"
          ]
        }
      ],
      "source": [
        "n1=int(input())\n",
        "n2=int(input())\n",
        "n3=int(input())\n",
        "if n1<n2 and n1<n3 :\n",
        "  print(n1,\"is smallest number\")\n",
        "if n2<n3 and n2<n1 :\n",
        "  print(n2,\"is smallest number\")\n",
        "if n3<n2 and n3<n1 :\n",
        "  print(n3,\"is smallest number\")\n",
        "\n",
        "\n",
        "\n"
      ]
    },
    {
      "cell_type": "code",
      "execution_count": null,
      "metadata": {
        "id": "TM9gdhFHT8Qa"
      },
      "outputs": [],
      "source": [
        "i=1\n",
        "while i<10:\n",
        "  print(\"et\")"
      ]
    },
    {
      "cell_type": "code",
      "execution_count": null,
      "metadata": {
        "colab": {
          "base_uri": "https://localhost:8080/"
        },
        "id": "01rPEGSLYc2-",
        "outputId": "cdbecf3d-dfa7-42c3-9d43-58dfb963201d"
      },
      "outputs": [
        {
          "name": "stdout",
          "output_type": "stream",
          "text": [
            "22\n",
            "22\n",
            "sum of n1 and n2 is 44\n",
            "multiple of n1 and n2 is 484\n",
            "remainder of n1 and n2 is 0\n"
          ]
        }
      ],
      "source": [
        "#enter n1\n",
        "n1=int(input())\n",
        "#enter n2\n",
        "n2=int(input())\n",
        "n3=n1+n2\n",
        "n4=n1*n2\n",
        "n5=n1%n2\n",
        "print(\"sum of n1 and n2 is\",n3)\n",
        "print(\"multiple of n1 and n2 is\",n4)\n",
        "print(\"remainder of n1 and n2 is\",n5)"
      ]
    },
    {
      "cell_type": "code",
      "execution_count": null,
      "metadata": {
        "colab": {
          "base_uri": "https://localhost:8080/"
        },
        "id": "6o5Lh0mbfc3l",
        "outputId": "08ae69d0-1b00-4945-9e68-eaeca4ed30d9"
      },
      "outputs": [
        {
          "name": "stdout",
          "output_type": "stream",
          "text": [
            "enter the number212\n",
            "even\n"
          ]
        }
      ],
      "source": [
        "n=int(input(\"enter the number\"))\n",
        "if n%2==0:\n",
        "  print(\"even\")\n",
        "else:\n",
        "  print(\"odd\")"
      ]
    },
    {
      "cell_type": "code",
      "execution_count": null,
      "metadata": {
        "id": "IJfpLspagQGI"
      },
      "outputs": [],
      "source": [
        "n=[\"c++\",\"5\"]\n"
      ]
    },
    {
      "cell_type": "code",
      "execution_count": null,
      "metadata": {
        "colab": {
          "base_uri": "https://localhost:8080/"
        },
        "id": "mzm4UriyLkXP",
        "outputId": "37905f6f-f135-4d79-c4f8-28f28fafdbf9"
      },
      "outputs": [
        {
          "name": "stdout",
          "output_type": "stream",
          "text": [
            "phyton is a programing language\n"
          ]
        }
      ],
      "source": [
        "def sayhello():\n",
        "  print(\"phyton is a programing language\")\n",
        "sayhello()"
      ]
    },
    {
      "cell_type": "code",
      "execution_count": null,
      "metadata": {
        "colab": {
          "base_uri": "https://localhost:8080/"
        },
        "id": "Qs90b7-uMDFS",
        "outputId": "9d6c03b4-9fe1-4a38-be3b-5f336c5ae3c5"
      },
      "outputs": [
        {
          "name": "stdout",
          "output_type": "stream",
          "text": [
            "enter the number\n",
            "21\n",
            "21 is odd\n"
          ]
        }
      ],
      "source": [
        "def even():\n",
        "  print(\"enter the number\")\n",
        "  n=int(input())\n",
        "  if(n%2==0):\n",
        "    print(n,\"is even\")\n",
        "  else:\n",
        "    print(n,\"is odd\")\n",
        "even()"
      ]
    },
    {
      "cell_type": "code",
      "execution_count": null,
      "metadata": {
        "colab": {
          "base_uri": "https://localhost:8080/"
        },
        "id": "udTpjamiM0lP",
        "outputId": "1434c756-593c-4e7b-d07a-af6d2983a770"
      },
      "outputs": [
        {
          "name": "stdout",
          "output_type": "stream",
          "text": [
            "enter two number\n",
            "1212\n",
            "1221\n",
            "addition of n1 and n2 is 2433.0\n"
          ]
        }
      ],
      "source": [
        "def addition():\n",
        "  print(\"enter two number\")\n",
        "  n1=float(input())\n",
        "  n2=float(input())\n",
        "  add=n1+n2\n",
        "  print(\"addition of n1 and n2 is\",add)\n",
        "addition()"
      ]
    },
    {
      "cell_type": "code",
      "execution_count": null,
      "metadata": {
        "colab": {
          "base_uri": "https://localhost:8080/"
        },
        "id": "wrmN2kvsNyv_",
        "outputId": "4afff208-164c-435d-fc2a-5a8f835af372"
      },
      "outputs": [
        {
          "name": "stdout",
          "output_type": "stream",
          "text": [
            "enter the marks out of 100\n",
            "if absent enter any number greater than 100\n",
            "45\n",
            "pass\n"
          ]
        }
      ],
      "source": [
        "def pass21():\n",
        "  print(\"enter the marks out of 100\")\n",
        "  print(\"if absent enter any number greater than 100\")\n",
        "  num=float(input())\n",
        "  if num>=40 and num<=100:\n",
        "    print(\"pass\")\n",
        "  else:\n",
        "    print(\"fail\")\n",
        "pass21()"
      ]
    },
    {
      "cell_type": "code",
      "execution_count": null,
      "metadata": {
        "colab": {
          "base_uri": "https://localhost:8080/"
        },
        "id": "WNFh0YYQUsvH",
        "outputId": "81c526b8-6eef-4b26-8e19-b3a0d7edd02b"
      },
      "outputs": [
        {
          "name": "stdout",
          "output_type": "stream",
          "text": [
            "<class 'float'>\n",
            "<class 'bool'>\n",
            "<class 'list'>\n",
            "<class 'list'>\n"
          ]
        }
      ],
      "source": [
        "a=11222.2\n",
        "b=True\n",
        "c=[12,12,22,21,56]\n",
        "print(type(a))\n",
        "print(type(b))\n",
        "print(type(c))\n",
        "print(type(c))"
      ]
    },
    {
      "cell_type": "code",
      "execution_count": null,
      "metadata": {
        "colab": {
          "base_uri": "https://localhost:8080/"
        },
        "id": "nCwxFVq0VOG6",
        "outputId": "2523867b-3feb-4087-c111-414ec739e613"
      },
      "outputs": [
        {
          "name": "stdout",
          "output_type": "stream",
          "text": [
            "False\n",
            "False\n",
            "False\n",
            "False\n",
            "True\n"
          ]
        }
      ],
      "source": [
        "a=[\"\",\"\",\"\"]\n",
        "b=[\"a\",\"\",\"\"]\n",
        "c=[True,False]\n",
        "d=[False,False]\n",
        "e=[True,True]\n",
        "l1=all(a)\n",
        "l2=all(b)\n",
        "l3=all(c)\n",
        "l4=all(d)\n",
        "l5=all(e)\n",
        "print(l1)\n",
        "print(l2)\n",
        "print(l3)\n",
        "print(l4)\n",
        "print(l5)"
      ]
    },
    {
      "cell_type": "code",
      "execution_count": null,
      "metadata": {
        "colab": {
          "base_uri": "https://localhost:8080/"
        },
        "id": "kBBzbrUOWKat",
        "outputId": "18fa2494-fe9d-4ad0-897a-10aca618f684"
      },
      "outputs": [
        {
          "name": "stdout",
          "output_type": "stream",
          "text": [
            "True\n",
            "True\n",
            "True\n",
            "False\n",
            "True\n"
          ]
        }
      ],
      "source": [
        "a=[\"\",\"a\",\"\"]\n",
        "b=[\"a\",\"a\",\"\"]\n",
        "c=[True,False]\n",
        "d=[False,False]\n",
        "e=[True,True]\n",
        "l1=any(a)\n",
        "l2=any(b)\n",
        "l3=any(c)\n",
        "l4=any(d)\n",
        "l5=any(e)\n",
        "print(l1)\n",
        "print(l2)\n",
        "print(l3)\n",
        "print(l4)\n",
        "print(l5)"
      ]
    },
    {
      "cell_type": "code",
      "execution_count": null,
      "metadata": {
        "colab": {
          "base_uri": "https://localhost:8080/"
        },
        "id": "3_-j-LnMWrL_",
        "outputId": "dc7a154b-2e5c-43df-fdcd-68ffe87d01ed"
      },
      "outputs": [
        {
          "name": "stdout",
          "output_type": "stream",
          "text": [
            "True\n"
          ]
        }
      ],
      "source": [
        "print(callable(type))"
      ]
    },
    {
      "cell_type": "code",
      "execution_count": null,
      "metadata": {
        "id": "hNuUjx_eYIP4",
        "colab": {
          "base_uri": "https://localhost:8080/"
        },
        "outputId": "ff101660-3c6b-4e61-9a02-8cbc2626c266"
      },
      "outputs": [
        {
          "output_type": "stream",
          "name": "stdout",
          "text": [
            "10 percent incrment\n"
          ]
        }
      ],
      "source": [
        "a=[100,200,300]\n",
        "s1=any(a)\n",
        "if s1==True:\n",
        "  print(\"10 percent incrment\")\n",
        "else:\n",
        "  print(\"no increment\")"
      ]
    },
    {
      "cell_type": "code",
      "execution_count": null,
      "metadata": {
        "colab": {
          "base_uri": "https://localhost:8080/"
        },
        "id": "4oaC51Dmkb48",
        "outputId": "51477372-7a50-4bdc-de5a-0c71fcb3af31"
      },
      "outputs": [
        {
          "name": "stdout",
          "output_type": "stream",
          "text": [
            "MARKS\n",
            "enter your roll no\n",
            "12\n",
            "enter your marks2\n",
            "11\n",
            "11\n",
            "11\n",
            "11\n",
            "total marks out of 100 are 44.0\n",
            "pass\n",
            "precentage are 44.0\n"
          ]
        }
      ],
      "source": [
        "print(\"MARKS\")\n",
        "print(\"enter your roll no\")\n",
        "e=int(input())\n",
        "print(\"enter your marks2\")\n",
        "a=float(input())\n",
        "b=float(input())\n",
        "c=float(input())\n",
        "d=float(input())\n",
        "total=a+b+c+d\n",
        "print(\"total marks out of 100 are\",total)\n",
        "if total>=40 and total<=100:\n",
        "  print(\"pass\")\n",
        "else:\n",
        "  print(\"fail\")\n",
        "h=total%100\n",
        "print(\"precentage are\",h)\n"
      ]
    },
    {
      "cell_type": "code",
      "execution_count": null,
      "metadata": {
        "colab": {
          "base_uri": "https://localhost:8080/"
        },
        "id": "l_lsQzJ6JMNd",
        "outputId": "e9ed0757-e064-4501-91cc-a268aabb5baa"
      },
      "outputs": [
        {
          "name": "stdout",
          "output_type": "stream",
          "text": [
            "[10, 20, 30, 40, 50, 60, 70, 80]\n"
          ]
        }
      ],
      "source": [
        "l1=[10,20,30,40,50,60,70]\n",
        "l1.append(80)\n",
        "print(l1)"
      ]
    },
    {
      "cell_type": "code",
      "execution_count": null,
      "metadata": {
        "colab": {
          "base_uri": "https://localhost:8080/"
        },
        "id": "9dZsfIFyJlzr",
        "outputId": "39bf4e53-7f0e-4e45-af3e-f3d30e5b4d6b"
      },
      "outputs": [
        {
          "name": "stdout",
          "output_type": "stream",
          "text": [
            "[10, 'egr', 30, 40, 'hello', 60, 70]\n",
            "[10, 'egr', 30, 'foc', 40, 'hello', 60, 70]\n"
          ]
        }
      ],
      "source": [
        "l1=[10,\"egr\",30,40 ,\"hello\",60,70]\n",
        "print(l1)\n",
        "l1.insert(3,\"foc\")\n",
        "print(l1)"
      ]
    },
    {
      "cell_type": "code",
      "execution_count": null,
      "metadata": {
        "colab": {
          "base_uri": "https://localhost:8080/",
          "height": 585
        },
        "id": "1QBQvZSGW15B",
        "outputId": "29721aa3-092c-4ca2-88ae-23ffab73f537"
      },
      "outputs": [
        {
          "data": {
            "text/html": [
              "\n",
              "  <div id=\"df-de8ed5f2-fc8f-42c3-ad2e-cd4fd9fcf64d\">\n",
              "    <div class=\"colab-df-container\">\n",
              "      <div>\n",
              "<style scoped>\n",
              "    .dataframe tbody tr th:only-of-type {\n",
              "        vertical-align: middle;\n",
              "    }\n",
              "\n",
              "    .dataframe tbody tr th {\n",
              "        vertical-align: top;\n",
              "    }\n",
              "\n",
              "    .dataframe thead th {\n",
              "        text-align: right;\n",
              "    }\n",
              "</style>\n",
              "<table border=\"1\" class=\"dataframe\">\n",
              "  <thead>\n",
              "    <tr style=\"text-align: right;\">\n",
              "      <th></th>\n",
              "      <th>Unnamed: 0</th>\n",
              "      <th>Unnamed: 1</th>\n",
              "      <th>Unnamed: 2</th>\n",
              "      <th>Unnamed: 3</th>\n",
              "      <th>Unnamed: 4</th>\n",
              "    </tr>\n",
              "  </thead>\n",
              "  <tbody>\n",
              "    <tr>\n",
              "      <th>0</th>\n",
              "      <td>Sr no.</td>\n",
              "      <td>Emp Name</td>\n",
              "      <td>Emp id</td>\n",
              "      <td>Date</td>\n",
              "      <td>Leaves</td>\n",
              "    </tr>\n",
              "    <tr>\n",
              "      <th>1</th>\n",
              "      <td>1</td>\n",
              "      <td>Ganesh</td>\n",
              "      <td>1001</td>\n",
              "      <td>2023-01-21 00:00:00</td>\n",
              "      <td>2</td>\n",
              "    </tr>\n",
              "    <tr>\n",
              "      <th>2</th>\n",
              "      <td>2</td>\n",
              "      <td>Kartik</td>\n",
              "      <td>1002</td>\n",
              "      <td>2023-01-22 00:00:00</td>\n",
              "      <td>4</td>\n",
              "    </tr>\n",
              "    <tr>\n",
              "      <th>3</th>\n",
              "      <td>3</td>\n",
              "      <td>Veera</td>\n",
              "      <td>1003</td>\n",
              "      <td>2023-01-23 00:00:00</td>\n",
              "      <td>8</td>\n",
              "    </tr>\n",
              "    <tr>\n",
              "      <th>4</th>\n",
              "      <td>4</td>\n",
              "      <td>Sanskruti</td>\n",
              "      <td>1004</td>\n",
              "      <td>2023-01-24 00:00:00</td>\n",
              "      <td>6</td>\n",
              "    </tr>\n",
              "    <tr>\n",
              "      <th>5</th>\n",
              "      <td>5</td>\n",
              "      <td>Archana</td>\n",
              "      <td>1005</td>\n",
              "      <td>2023-01-25 00:00:00</td>\n",
              "      <td>1</td>\n",
              "    </tr>\n",
              "    <tr>\n",
              "      <th>6</th>\n",
              "      <td>6</td>\n",
              "      <td>Aradhana</td>\n",
              "      <td>1006</td>\n",
              "      <td>2023-01-26 00:00:00</td>\n",
              "      <td>2</td>\n",
              "    </tr>\n",
              "    <tr>\n",
              "      <th>7</th>\n",
              "      <td>7</td>\n",
              "      <td>Pratham</td>\n",
              "      <td>1007</td>\n",
              "      <td>2023-01-27 00:00:00</td>\n",
              "      <td>3</td>\n",
              "    </tr>\n",
              "    <tr>\n",
              "      <th>8</th>\n",
              "      <td>8</td>\n",
              "      <td>Sayali</td>\n",
              "      <td>1008</td>\n",
              "      <td>2023-01-28 00:00:00</td>\n",
              "      <td>5</td>\n",
              "    </tr>\n",
              "    <tr>\n",
              "      <th>9</th>\n",
              "      <td>9</td>\n",
              "      <td>Smruti</td>\n",
              "      <td>1009</td>\n",
              "      <td>2023-01-29 00:00:00</td>\n",
              "      <td>9</td>\n",
              "    </tr>\n",
              "    <tr>\n",
              "      <th>10</th>\n",
              "      <td>10</td>\n",
              "      <td>Vijay</td>\n",
              "      <td>1010</td>\n",
              "      <td>2023-01-30 00:00:00</td>\n",
              "      <td>7</td>\n",
              "    </tr>\n",
              "  </tbody>\n",
              "</table>\n",
              "</div>\n",
              "      <button class=\"colab-df-convert\" onclick=\"convertToInteractive('df-de8ed5f2-fc8f-42c3-ad2e-cd4fd9fcf64d')\"\n",
              "              title=\"Convert this dataframe to an interactive table.\"\n",
              "              style=\"display:none;\">\n",
              "        \n",
              "  <svg xmlns=\"http://www.w3.org/2000/svg\" height=\"24px\"viewBox=\"0 0 24 24\"\n",
              "       width=\"24px\">\n",
              "    <path d=\"M0 0h24v24H0V0z\" fill=\"none\"/>\n",
              "    <path d=\"M18.56 5.44l.94 2.06.94-2.06 2.06-.94-2.06-.94-.94-2.06-.94 2.06-2.06.94zm-11 1L8.5 8.5l.94-2.06 2.06-.94-2.06-.94L8.5 2.5l-.94 2.06-2.06.94zm10 10l.94 2.06.94-2.06 2.06-.94-2.06-.94-.94-2.06-.94 2.06-2.06.94z\"/><path d=\"M17.41 7.96l-1.37-1.37c-.4-.4-.92-.59-1.43-.59-.52 0-1.04.2-1.43.59L10.3 9.45l-7.72 7.72c-.78.78-.78 2.05 0 2.83L4 21.41c.39.39.9.59 1.41.59.51 0 1.02-.2 1.41-.59l7.78-7.78 2.81-2.81c.8-.78.8-2.07 0-2.86zM5.41 20L4 18.59l7.72-7.72 1.47 1.35L5.41 20z\"/>\n",
              "  </svg>\n",
              "      </button>\n",
              "      \n",
              "  <style>\n",
              "    .colab-df-container {\n",
              "      display:flex;\n",
              "      flex-wrap:wrap;\n",
              "      gap: 12px;\n",
              "    }\n",
              "\n",
              "    .colab-df-convert {\n",
              "      background-color: #E8F0FE;\n",
              "      border: none;\n",
              "      border-radius: 50%;\n",
              "      cursor: pointer;\n",
              "      display: none;\n",
              "      fill: #1967D2;\n",
              "      height: 32px;\n",
              "      padding: 0 0 0 0;\n",
              "      width: 32px;\n",
              "    }\n",
              "\n",
              "    .colab-df-convert:hover {\n",
              "      background-color: #E2EBFA;\n",
              "      box-shadow: 0px 1px 2px rgba(60, 64, 67, 0.3), 0px 1px 3px 1px rgba(60, 64, 67, 0.15);\n",
              "      fill: #174EA6;\n",
              "    }\n",
              "\n",
              "    [theme=dark] .colab-df-convert {\n",
              "      background-color: #3B4455;\n",
              "      fill: #D2E3FC;\n",
              "    }\n",
              "\n",
              "    [theme=dark] .colab-df-convert:hover {\n",
              "      background-color: #434B5C;\n",
              "      box-shadow: 0px 1px 3px 1px rgba(0, 0, 0, 0.15);\n",
              "      filter: drop-shadow(0px 1px 2px rgba(0, 0, 0, 0.3));\n",
              "      fill: #FFFFFF;\n",
              "    }\n",
              "  </style>\n",
              "\n",
              "      <script>\n",
              "        const buttonEl =\n",
              "          document.querySelector('#df-de8ed5f2-fc8f-42c3-ad2e-cd4fd9fcf64d button.colab-df-convert');\n",
              "        buttonEl.style.display =\n",
              "          google.colab.kernel.accessAllowed ? 'block' : 'none';\n",
              "\n",
              "        async function convertToInteractive(key) {\n",
              "          const element = document.querySelector('#df-de8ed5f2-fc8f-42c3-ad2e-cd4fd9fcf64d');\n",
              "          const dataTable =\n",
              "            await google.colab.kernel.invokeFunction('convertToInteractive',\n",
              "                                                     [key], {});\n",
              "          if (!dataTable) return;\n",
              "\n",
              "          const docLinkHtml = 'Like what you see? Visit the ' +\n",
              "            '<a target=\"_blank\" href=https://colab.research.google.com/notebooks/data_table.ipynb>data table notebook</a>'\n",
              "            + ' to learn more about interactive tables.';\n",
              "          element.innerHTML = '';\n",
              "          dataTable['output_type'] = 'display_data';\n",
              "          await google.colab.output.renderOutput(dataTable, element);\n",
              "          const docLink = document.createElement('div');\n",
              "          docLink.innerHTML = docLinkHtml;\n",
              "          element.appendChild(docLink);\n",
              "        }\n",
              "      </script>\n",
              "    </div>\n",
              "  </div>\n",
              "  "
            ],
            "text/plain": [
              "   Unnamed: 0 Unnamed: 1 Unnamed: 2           Unnamed: 3 Unnamed: 4\n",
              "0      Sr no.   Emp Name     Emp id                 Date     Leaves\n",
              "1           1    Ganesh        1001  2023-01-21 00:00:00          2\n",
              "2           2     Kartik       1002  2023-01-22 00:00:00          4\n",
              "3           3      Veera       1003  2023-01-23 00:00:00          8\n",
              "4           4  Sanskruti       1004  2023-01-24 00:00:00          6\n",
              "5           5    Archana       1005  2023-01-25 00:00:00          1\n",
              "6           6   Aradhana       1006  2023-01-26 00:00:00          2\n",
              "7           7    Pratham       1007  2023-01-27 00:00:00          3\n",
              "8           8     Sayali       1008  2023-01-28 00:00:00          5\n",
              "9           9     Smruti       1009  2023-01-29 00:00:00          9\n",
              "10         10      Vijay       1010  2023-01-30 00:00:00          7"
            ]
          },
          "metadata": {},
          "output_type": "display_data"
        },
        {
          "name": "stdout",
          "output_type": "stream",
          "text": [
            "    Emp Name  Emp id  Salary\n",
            "0    Ganesh     1001   25000\n",
            "1     Kartik    1002   40000\n",
            "2      Veera    1003   80000\n",
            "3  Sanskruti    1004   60000\n",
            "4    Archana    1005   50000\n",
            "5   Aradhana    1006   30000\n",
            "6    Pratham    1007   15000\n",
            "7     Sayali    1008   55000\n",
            "8     Smruti    1009   80000\n",
            "9      Vijay    1010  100000\n"
          ]
        }
      ],
      "source": [
        "import pandas as pd\n",
        "df=pd.read_excel('/content/drive/MyDrive/EDS Excel Employe (118).xlsx')\n",
        "display(df)\n",
        "df1=pd.read_excel(r'/content/drive/MyDrive/(116) Salary emp.xlsx')\n",
        "print(df1)\n"
      ]
    },
    {
      "cell_type": "code",
      "execution_count": null,
      "metadata": {
        "colab": {
          "base_uri": "https://localhost:8080/",
          "height": 363
        },
        "id": "2YaiqhYnkbPC",
        "outputId": "1a282c86-4af1-4c05-983d-eb3aaf967a53"
      },
      "outputs": [
        {
          "data": {
            "text/html": [
              "\n",
              "  <div id=\"df-7eb7e0f8-3414-4bc0-ad87-1a67ba369877\">\n",
              "    <div class=\"colab-df-container\">\n",
              "      <div>\n",
              "<style scoped>\n",
              "    .dataframe tbody tr th:only-of-type {\n",
              "        vertical-align: middle;\n",
              "    }\n",
              "\n",
              "    .dataframe tbody tr th {\n",
              "        vertical-align: top;\n",
              "    }\n",
              "\n",
              "    .dataframe thead th {\n",
              "        text-align: right;\n",
              "    }\n",
              "</style>\n",
              "<table border=\"1\" class=\"dataframe\">\n",
              "  <thead>\n",
              "    <tr style=\"text-align: right;\">\n",
              "      <th></th>\n",
              "      <th>Emp Name</th>\n",
              "      <th>Emp id</th>\n",
              "      <th>Salary</th>\n",
              "    </tr>\n",
              "  </thead>\n",
              "  <tbody>\n",
              "    <tr>\n",
              "      <th>6</th>\n",
              "      <td>Pratham</td>\n",
              "      <td>1007</td>\n",
              "      <td>15000</td>\n",
              "    </tr>\n",
              "    <tr>\n",
              "      <th>0</th>\n",
              "      <td>Ganesh</td>\n",
              "      <td>1001</td>\n",
              "      <td>25000</td>\n",
              "    </tr>\n",
              "    <tr>\n",
              "      <th>5</th>\n",
              "      <td>Aradhana</td>\n",
              "      <td>1006</td>\n",
              "      <td>30000</td>\n",
              "    </tr>\n",
              "    <tr>\n",
              "      <th>1</th>\n",
              "      <td>Kartik</td>\n",
              "      <td>1002</td>\n",
              "      <td>40000</td>\n",
              "    </tr>\n",
              "    <tr>\n",
              "      <th>4</th>\n",
              "      <td>Archana</td>\n",
              "      <td>1005</td>\n",
              "      <td>50000</td>\n",
              "    </tr>\n",
              "    <tr>\n",
              "      <th>7</th>\n",
              "      <td>Sayali</td>\n",
              "      <td>1008</td>\n",
              "      <td>55000</td>\n",
              "    </tr>\n",
              "    <tr>\n",
              "      <th>3</th>\n",
              "      <td>Sanskruti</td>\n",
              "      <td>1004</td>\n",
              "      <td>60000</td>\n",
              "    </tr>\n",
              "    <tr>\n",
              "      <th>2</th>\n",
              "      <td>Veera</td>\n",
              "      <td>1003</td>\n",
              "      <td>80000</td>\n",
              "    </tr>\n",
              "    <tr>\n",
              "      <th>8</th>\n",
              "      <td>Smruti</td>\n",
              "      <td>1009</td>\n",
              "      <td>80000</td>\n",
              "    </tr>\n",
              "    <tr>\n",
              "      <th>9</th>\n",
              "      <td>Vijay</td>\n",
              "      <td>1010</td>\n",
              "      <td>100000</td>\n",
              "    </tr>\n",
              "  </tbody>\n",
              "</table>\n",
              "</div>\n",
              "      <button class=\"colab-df-convert\" onclick=\"convertToInteractive('df-7eb7e0f8-3414-4bc0-ad87-1a67ba369877')\"\n",
              "              title=\"Convert this dataframe to an interactive table.\"\n",
              "              style=\"display:none;\">\n",
              "        \n",
              "  <svg xmlns=\"http://www.w3.org/2000/svg\" height=\"24px\"viewBox=\"0 0 24 24\"\n",
              "       width=\"24px\">\n",
              "    <path d=\"M0 0h24v24H0V0z\" fill=\"none\"/>\n",
              "    <path d=\"M18.56 5.44l.94 2.06.94-2.06 2.06-.94-2.06-.94-.94-2.06-.94 2.06-2.06.94zm-11 1L8.5 8.5l.94-2.06 2.06-.94-2.06-.94L8.5 2.5l-.94 2.06-2.06.94zm10 10l.94 2.06.94-2.06 2.06-.94-2.06-.94-.94-2.06-.94 2.06-2.06.94z\"/><path d=\"M17.41 7.96l-1.37-1.37c-.4-.4-.92-.59-1.43-.59-.52 0-1.04.2-1.43.59L10.3 9.45l-7.72 7.72c-.78.78-.78 2.05 0 2.83L4 21.41c.39.39.9.59 1.41.59.51 0 1.02-.2 1.41-.59l7.78-7.78 2.81-2.81c.8-.78.8-2.07 0-2.86zM5.41 20L4 18.59l7.72-7.72 1.47 1.35L5.41 20z\"/>\n",
              "  </svg>\n",
              "      </button>\n",
              "      \n",
              "  <style>\n",
              "    .colab-df-container {\n",
              "      display:flex;\n",
              "      flex-wrap:wrap;\n",
              "      gap: 12px;\n",
              "    }\n",
              "\n",
              "    .colab-df-convert {\n",
              "      background-color: #E8F0FE;\n",
              "      border: none;\n",
              "      border-radius: 50%;\n",
              "      cursor: pointer;\n",
              "      display: none;\n",
              "      fill: #1967D2;\n",
              "      height: 32px;\n",
              "      padding: 0 0 0 0;\n",
              "      width: 32px;\n",
              "    }\n",
              "\n",
              "    .colab-df-convert:hover {\n",
              "      background-color: #E2EBFA;\n",
              "      box-shadow: 0px 1px 2px rgba(60, 64, 67, 0.3), 0px 1px 3px 1px rgba(60, 64, 67, 0.15);\n",
              "      fill: #174EA6;\n",
              "    }\n",
              "\n",
              "    [theme=dark] .colab-df-convert {\n",
              "      background-color: #3B4455;\n",
              "      fill: #D2E3FC;\n",
              "    }\n",
              "\n",
              "    [theme=dark] .colab-df-convert:hover {\n",
              "      background-color: #434B5C;\n",
              "      box-shadow: 0px 1px 3px 1px rgba(0, 0, 0, 0.15);\n",
              "      filter: drop-shadow(0px 1px 2px rgba(0, 0, 0, 0.3));\n",
              "      fill: #FFFFFF;\n",
              "    }\n",
              "  </style>\n",
              "\n",
              "      <script>\n",
              "        const buttonEl =\n",
              "          document.querySelector('#df-7eb7e0f8-3414-4bc0-ad87-1a67ba369877 button.colab-df-convert');\n",
              "        buttonEl.style.display =\n",
              "          google.colab.kernel.accessAllowed ? 'block' : 'none';\n",
              "\n",
              "        async function convertToInteractive(key) {\n",
              "          const element = document.querySelector('#df-7eb7e0f8-3414-4bc0-ad87-1a67ba369877');\n",
              "          const dataTable =\n",
              "            await google.colab.kernel.invokeFunction('convertToInteractive',\n",
              "                                                     [key], {});\n",
              "          if (!dataTable) return;\n",
              "\n",
              "          const docLinkHtml = 'Like what you see? Visit the ' +\n",
              "            '<a target=\"_blank\" href=https://colab.research.google.com/notebooks/data_table.ipynb>data table notebook</a>'\n",
              "            + ' to learn more about interactive tables.';\n",
              "          element.innerHTML = '';\n",
              "          dataTable['output_type'] = 'display_data';\n",
              "          await google.colab.output.renderOutput(dataTable, element);\n",
              "          const docLink = document.createElement('div');\n",
              "          docLink.innerHTML = docLinkHtml;\n",
              "          element.appendChild(docLink);\n",
              "        }\n",
              "      </script>\n",
              "    </div>\n",
              "  </div>\n",
              "  "
            ],
            "text/plain": [
              "    Emp Name  Emp id  Salary\n",
              "6    Pratham    1007   15000\n",
              "0    Ganesh     1001   25000\n",
              "5   Aradhana    1006   30000\n",
              "1     Kartik    1002   40000\n",
              "4    Archana    1005   50000\n",
              "7     Sayali    1008   55000\n",
              "3  Sanskruti    1004   60000\n",
              "2      Veera    1003   80000\n",
              "8     Smruti    1009   80000\n",
              "9      Vijay    1010  100000"
            ]
          },
          "execution_count": 5,
          "metadata": {},
          "output_type": "execute_result"
        }
      ],
      "source": [
        "import pandas as pa\n",
        "df1.sort_values(b y=['Salary'])\n"
      ]
    },
    {
      "cell_type": "code",
      "execution_count": null,
      "metadata": {
        "colab": {
          "base_uri": "https://localhost:8080/",
          "height": 363
        },
        "id": "cIutD7wsnKxb",
        "outputId": "1277f0e6-b7c6-4627-dc36-6c5669019955"
      },
      "outputs": [
        {
          "data": {
            "text/html": [
              "\n",
              "  <div id=\"df-68636347-1522-475d-98bb-0409bcdec012\">\n",
              "    <div class=\"colab-df-container\">\n",
              "      <div>\n",
              "<style scoped>\n",
              "    .dataframe tbody tr th:only-of-type {\n",
              "        vertical-align: middle;\n",
              "    }\n",
              "\n",
              "    .dataframe tbody tr th {\n",
              "        vertical-align: top;\n",
              "    }\n",
              "\n",
              "    .dataframe thead th {\n",
              "        text-align: right;\n",
              "    }\n",
              "</style>\n",
              "<table border=\"1\" class=\"dataframe\">\n",
              "  <thead>\n",
              "    <tr style=\"text-align: right;\">\n",
              "      <th></th>\n",
              "      <th>Emp Name</th>\n",
              "      <th>Emp id</th>\n",
              "      <th>Salary</th>\n",
              "    </tr>\n",
              "  </thead>\n",
              "  <tbody>\n",
              "    <tr>\n",
              "      <th>9</th>\n",
              "      <td>Vijay</td>\n",
              "      <td>1010</td>\n",
              "      <td>100000</td>\n",
              "    </tr>\n",
              "    <tr>\n",
              "      <th>2</th>\n",
              "      <td>Veera</td>\n",
              "      <td>1003</td>\n",
              "      <td>80000</td>\n",
              "    </tr>\n",
              "    <tr>\n",
              "      <th>8</th>\n",
              "      <td>Smruti</td>\n",
              "      <td>1009</td>\n",
              "      <td>80000</td>\n",
              "    </tr>\n",
              "    <tr>\n",
              "      <th>3</th>\n",
              "      <td>Sanskruti</td>\n",
              "      <td>1004</td>\n",
              "      <td>60000</td>\n",
              "    </tr>\n",
              "    <tr>\n",
              "      <th>7</th>\n",
              "      <td>Sayali</td>\n",
              "      <td>1008</td>\n",
              "      <td>55000</td>\n",
              "    </tr>\n",
              "    <tr>\n",
              "      <th>4</th>\n",
              "      <td>Archana</td>\n",
              "      <td>1005</td>\n",
              "      <td>50000</td>\n",
              "    </tr>\n",
              "    <tr>\n",
              "      <th>1</th>\n",
              "      <td>Kartik</td>\n",
              "      <td>1002</td>\n",
              "      <td>40000</td>\n",
              "    </tr>\n",
              "    <tr>\n",
              "      <th>5</th>\n",
              "      <td>Aradhana</td>\n",
              "      <td>1006</td>\n",
              "      <td>30000</td>\n",
              "    </tr>\n",
              "    <tr>\n",
              "      <th>0</th>\n",
              "      <td>Ganesh</td>\n",
              "      <td>1001</td>\n",
              "      <td>25000</td>\n",
              "    </tr>\n",
              "    <tr>\n",
              "      <th>6</th>\n",
              "      <td>Pratham</td>\n",
              "      <td>1007</td>\n",
              "      <td>15000</td>\n",
              "    </tr>\n",
              "  </tbody>\n",
              "</table>\n",
              "</div>\n",
              "      <button class=\"colab-df-convert\" onclick=\"convertToInteractive('df-68636347-1522-475d-98bb-0409bcdec012')\"\n",
              "              title=\"Convert this dataframe to an interactive table.\"\n",
              "              style=\"display:none;\">\n",
              "        \n",
              "  <svg xmlns=\"http://www.w3.org/2000/svg\" height=\"24px\"viewBox=\"0 0 24 24\"\n",
              "       width=\"24px\">\n",
              "    <path d=\"M0 0h24v24H0V0z\" fill=\"none\"/>\n",
              "    <path d=\"M18.56 5.44l.94 2.06.94-2.06 2.06-.94-2.06-.94-.94-2.06-.94 2.06-2.06.94zm-11 1L8.5 8.5l.94-2.06 2.06-.94-2.06-.94L8.5 2.5l-.94 2.06-2.06.94zm10 10l.94 2.06.94-2.06 2.06-.94-2.06-.94-.94-2.06-.94 2.06-2.06.94z\"/><path d=\"M17.41 7.96l-1.37-1.37c-.4-.4-.92-.59-1.43-.59-.52 0-1.04.2-1.43.59L10.3 9.45l-7.72 7.72c-.78.78-.78 2.05 0 2.83L4 21.41c.39.39.9.59 1.41.59.51 0 1.02-.2 1.41-.59l7.78-7.78 2.81-2.81c.8-.78.8-2.07 0-2.86zM5.41 20L4 18.59l7.72-7.72 1.47 1.35L5.41 20z\"/>\n",
              "  </svg>\n",
              "      </button>\n",
              "      \n",
              "  <style>\n",
              "    .colab-df-container {\n",
              "      display:flex;\n",
              "      flex-wrap:wrap;\n",
              "      gap: 12px;\n",
              "    }\n",
              "\n",
              "    .colab-df-convert {\n",
              "      background-color: #E8F0FE;\n",
              "      border: none;\n",
              "      border-radius: 50%;\n",
              "      cursor: pointer;\n",
              "      display: none;\n",
              "      fill: #1967D2;\n",
              "      height: 32px;\n",
              "      padding: 0 0 0 0;\n",
              "      width: 32px;\n",
              "    }\n",
              "\n",
              "    .colab-df-convert:hover {\n",
              "      background-color: #E2EBFA;\n",
              "      box-shadow: 0px 1px 2px rgba(60, 64, 67, 0.3), 0px 1px 3px 1px rgba(60, 64, 67, 0.15);\n",
              "      fill: #174EA6;\n",
              "    }\n",
              "\n",
              "    [theme=dark] .colab-df-convert {\n",
              "      background-color: #3B4455;\n",
              "      fill: #D2E3FC;\n",
              "    }\n",
              "\n",
              "    [theme=dark] .colab-df-convert:hover {\n",
              "      background-color: #434B5C;\n",
              "      box-shadow: 0px 1px 3px 1px rgba(0, 0, 0, 0.15);\n",
              "      filter: drop-shadow(0px 1px 2px rgba(0, 0, 0, 0.3));\n",
              "      fill: #FFFFFF;\n",
              "    }\n",
              "  </style>\n",
              "\n",
              "      <script>\n",
              "        const buttonEl =\n",
              "          document.querySelector('#df-68636347-1522-475d-98bb-0409bcdec012 button.colab-df-convert');\n",
              "        buttonEl.style.display =\n",
              "          google.colab.kernel.accessAllowed ? 'block' : 'none';\n",
              "\n",
              "        async function convertToInteractive(key) {\n",
              "          const element = document.querySelector('#df-68636347-1522-475d-98bb-0409bcdec012');\n",
              "          const dataTable =\n",
              "            await google.colab.kernel.invokeFunction('convertToInteractive',\n",
              "                                                     [key], {});\n",
              "          if (!dataTable) return;\n",
              "\n",
              "          const docLinkHtml = 'Like what you see? Visit the ' +\n",
              "            '<a target=\"_blank\" href=https://colab.research.google.com/notebooks/data_table.ipynb>data table notebook</a>'\n",
              "            + ' to learn more about interactive tables.';\n",
              "          element.innerHTML = '';\n",
              "          dataTable['output_type'] = 'display_data';\n",
              "          await google.colab.output.renderOutput(dataTable, element);\n",
              "          const docLink = document.createElement('div');\n",
              "          docLink.innerHTML = docLinkHtml;\n",
              "          element.appendChild(docLink);\n",
              "        }\n",
              "      </script>\n",
              "    </div>\n",
              "  </div>\n",
              "  "
            ],
            "text/plain": [
              "    Emp Name  Emp id  Salary\n",
              "9      Vijay    1010  100000\n",
              "2      Veera    1003   80000\n",
              "8     Smruti    1009   80000\n",
              "3  Sanskruti    1004   60000\n",
              "7     Sayali    1008   55000\n",
              "4    Archana    1005   50000\n",
              "1     Kartik    1002   40000\n",
              "5   Aradhana    1006   30000\n",
              "0    Ganesh     1001   25000\n",
              "6    Pratham    1007   15000"
            ]
          },
          "execution_count": 6,
          "metadata": {},
          "output_type": "execute_result"
        }
      ],
      "source": [
        "import pandas as pa\n",
        "df1.sort_values(by=['Salary'],ascending=False)"
      ]
    },
    {
      "cell_type": "code",
      "execution_count": null,
      "metadata": {
        "colab": {
          "base_uri": "https://localhost:8080/",
          "height": 740
        },
        "id": "l3tdMvZqnWMi",
        "outputId": "21d9ef91-439f-413f-8c63-ba8b51bf9a51"
      },
      "outputs": [
        {
          "data": {
            "text/html": [
              "\n",
              "  <div id=\"df-2c2bad24-3ba3-4292-bc25-c4a8dd71b287\">\n",
              "    <div class=\"colab-df-container\">\n",
              "      <div>\n",
              "<style scoped>\n",
              "    .dataframe tbody tr th:only-of-type {\n",
              "        vertical-align: middle;\n",
              "    }\n",
              "\n",
              "    .dataframe tbody tr th {\n",
              "        vertical-align: top;\n",
              "    }\n",
              "\n",
              "    .dataframe thead th {\n",
              "        text-align: right;\n",
              "    }\n",
              "</style>\n",
              "<table border=\"1\" class=\"dataframe\">\n",
              "  <thead>\n",
              "    <tr style=\"text-align: right;\">\n",
              "      <th></th>\n",
              "      <th>Unnamed: 0</th>\n",
              "      <th>Unnamed: 1</th>\n",
              "      <th>Unnamed: 2</th>\n",
              "      <th>Unnamed: 3</th>\n",
              "      <th>Unnamed: 4</th>\n",
              "    </tr>\n",
              "  </thead>\n",
              "  <tbody>\n",
              "    <tr>\n",
              "      <th>0</th>\n",
              "      <td>Sr no.</td>\n",
              "      <td>Emp Name</td>\n",
              "      <td>Emp id</td>\n",
              "      <td>Date</td>\n",
              "      <td>Leaves</td>\n",
              "    </tr>\n",
              "    <tr>\n",
              "      <th>1</th>\n",
              "      <td>1</td>\n",
              "      <td>Ganesh</td>\n",
              "      <td>1001</td>\n",
              "      <td>2023-01-21 00:00:00</td>\n",
              "      <td>2</td>\n",
              "    </tr>\n",
              "    <tr>\n",
              "      <th>2</th>\n",
              "      <td>2</td>\n",
              "      <td>Kartik</td>\n",
              "      <td>1002</td>\n",
              "      <td>2023-01-22 00:00:00</td>\n",
              "      <td>4</td>\n",
              "    </tr>\n",
              "    <tr>\n",
              "      <th>3</th>\n",
              "      <td>3</td>\n",
              "      <td>Veera</td>\n",
              "      <td>1003</td>\n",
              "      <td>2023-01-23 00:00:00</td>\n",
              "      <td>8</td>\n",
              "    </tr>\n",
              "    <tr>\n",
              "      <th>4</th>\n",
              "      <td>4</td>\n",
              "      <td>Sanskruti</td>\n",
              "      <td>1004</td>\n",
              "      <td>2023-01-24 00:00:00</td>\n",
              "      <td>6</td>\n",
              "    </tr>\n",
              "    <tr>\n",
              "      <th>5</th>\n",
              "      <td>5</td>\n",
              "      <td>Archana</td>\n",
              "      <td>1005</td>\n",
              "      <td>2023-01-25 00:00:00</td>\n",
              "      <td>1</td>\n",
              "    </tr>\n",
              "    <tr>\n",
              "      <th>6</th>\n",
              "      <td>6</td>\n",
              "      <td>Aradhana</td>\n",
              "      <td>1006</td>\n",
              "      <td>2023-01-26 00:00:00</td>\n",
              "      <td>2</td>\n",
              "    </tr>\n",
              "    <tr>\n",
              "      <th>7</th>\n",
              "      <td>7</td>\n",
              "      <td>Pratham</td>\n",
              "      <td>1007</td>\n",
              "      <td>2023-01-27 00:00:00</td>\n",
              "      <td>3</td>\n",
              "    </tr>\n",
              "    <tr>\n",
              "      <th>8</th>\n",
              "      <td>8</td>\n",
              "      <td>Sayali</td>\n",
              "      <td>1008</td>\n",
              "      <td>2023-01-28 00:00:00</td>\n",
              "      <td>5</td>\n",
              "    </tr>\n",
              "    <tr>\n",
              "      <th>9</th>\n",
              "      <td>9</td>\n",
              "      <td>Smruti</td>\n",
              "      <td>1009</td>\n",
              "      <td>2023-01-29 00:00:00</td>\n",
              "      <td>9</td>\n",
              "    </tr>\n",
              "    <tr>\n",
              "      <th>10</th>\n",
              "      <td>10</td>\n",
              "      <td>Vijay</td>\n",
              "      <td>1010</td>\n",
              "      <td>2023-01-30 00:00:00</td>\n",
              "      <td>7</td>\n",
              "    </tr>\n",
              "  </tbody>\n",
              "</table>\n",
              "</div>\n",
              "      <button class=\"colab-df-convert\" onclick=\"convertToInteractive('df-2c2bad24-3ba3-4292-bc25-c4a8dd71b287')\"\n",
              "              title=\"Convert this dataframe to an interactive table.\"\n",
              "              style=\"display:none;\">\n",
              "        \n",
              "  <svg xmlns=\"http://www.w3.org/2000/svg\" height=\"24px\"viewBox=\"0 0 24 24\"\n",
              "       width=\"24px\">\n",
              "    <path d=\"M0 0h24v24H0V0z\" fill=\"none\"/>\n",
              "    <path d=\"M18.56 5.44l.94 2.06.94-2.06 2.06-.94-2.06-.94-.94-2.06-.94 2.06-2.06.94zm-11 1L8.5 8.5l.94-2.06 2.06-.94-2.06-.94L8.5 2.5l-.94 2.06-2.06.94zm10 10l.94 2.06.94-2.06 2.06-.94-2.06-.94-.94-2.06-.94 2.06-2.06.94z\"/><path d=\"M17.41 7.96l-1.37-1.37c-.4-.4-.92-.59-1.43-.59-.52 0-1.04.2-1.43.59L10.3 9.45l-7.72 7.72c-.78.78-.78 2.05 0 2.83L4 21.41c.39.39.9.59 1.41.59.51 0 1.02-.2 1.41-.59l7.78-7.78 2.81-2.81c.8-.78.8-2.07 0-2.86zM5.41 20L4 18.59l7.72-7.72 1.47 1.35L5.41 20z\"/>\n",
              "  </svg>\n",
              "      </button>\n",
              "      \n",
              "  <style>\n",
              "    .colab-df-container {\n",
              "      display:flex;\n",
              "      flex-wrap:wrap;\n",
              "      gap: 12px;\n",
              "    }\n",
              "\n",
              "    .colab-df-convert {\n",
              "      background-color: #E8F0FE;\n",
              "      border: none;\n",
              "      border-radius: 50%;\n",
              "      cursor: pointer;\n",
              "      display: none;\n",
              "      fill: #1967D2;\n",
              "      height: 32px;\n",
              "      padding: 0 0 0 0;\n",
              "      width: 32px;\n",
              "    }\n",
              "\n",
              "    .colab-df-convert:hover {\n",
              "      background-color: #E2EBFA;\n",
              "      box-shadow: 0px 1px 2px rgba(60, 64, 67, 0.3), 0px 1px 3px 1px rgba(60, 64, 67, 0.15);\n",
              "      fill: #174EA6;\n",
              "    }\n",
              "\n",
              "    [theme=dark] .colab-df-convert {\n",
              "      background-color: #3B4455;\n",
              "      fill: #D2E3FC;\n",
              "    }\n",
              "\n",
              "    [theme=dark] .colab-df-convert:hover {\n",
              "      background-color: #434B5C;\n",
              "      box-shadow: 0px 1px 3px 1px rgba(0, 0, 0, 0.15);\n",
              "      filter: drop-shadow(0px 1px 2px rgba(0, 0, 0, 0.3));\n",
              "      fill: #FFFFFF;\n",
              "    }\n",
              "  </style>\n",
              "\n",
              "      <script>\n",
              "        const buttonEl =\n",
              "          document.querySelector('#df-2c2bad24-3ba3-4292-bc25-c4a8dd71b287 button.colab-df-convert');\n",
              "        buttonEl.style.display =\n",
              "          google.colab.kernel.accessAllowed ? 'block' : 'none';\n",
              "\n",
              "        async function convertToInteractive(key) {\n",
              "          const element = document.querySelector('#df-2c2bad24-3ba3-4292-bc25-c4a8dd71b287');\n",
              "          const dataTable =\n",
              "            await google.colab.kernel.invokeFunction('convertToInteractive',\n",
              "                                                     [key], {});\n",
              "          if (!dataTable) return;\n",
              "\n",
              "          const docLinkHtml = 'Like what you see? Visit the ' +\n",
              "            '<a target=\"_blank\" href=https://colab.research.google.com/notebooks/data_table.ipynb>data table notebook</a>'\n",
              "            + ' to learn more about interactive tables.';\n",
              "          element.innerHTML = '';\n",
              "          dataTable['output_type'] = 'display_data';\n",
              "          await google.colab.output.renderOutput(dataTable, element);\n",
              "          const docLink = document.createElement('div');\n",
              "          docLink.innerHTML = docLinkHtml;\n",
              "          element.appendChild(docLink);\n",
              "        }\n",
              "      </script>\n",
              "    </div>\n",
              "  </div>\n",
              "  "
            ],
            "text/plain": [
              "   Unnamed: 0 Unnamed: 1 Unnamed: 2           Unnamed: 3 Unnamed: 4\n",
              "0      Sr no.   Emp Name     Emp id                 Date     Leaves\n",
              "1           1    Ganesh        1001  2023-01-21 00:00:00          2\n",
              "2           2     Kartik       1002  2023-01-22 00:00:00          4\n",
              "3           3      Veera       1003  2023-01-23 00:00:00          8\n",
              "4           4  Sanskruti       1004  2023-01-24 00:00:00          6\n",
              "5           5    Archana       1005  2023-01-25 00:00:00          1\n",
              "6           6   Aradhana       1006  2023-01-26 00:00:00          2\n",
              "7           7    Pratham       1007  2023-01-27 00:00:00          3\n",
              "8           8     Sayali       1008  2023-01-28 00:00:00          5\n",
              "9           9     Smruti       1009  2023-01-29 00:00:00          9\n",
              "10         10      Vijay       1010  2023-01-30 00:00:00          7"
            ]
          },
          "metadata": {},
          "output_type": "display_data"
        },
        {
          "data": {
            "text/html": [
              "\n",
              "  <div id=\"df-c1541e3c-9b06-4f47-9754-c5e6062b55e4\">\n",
              "    <div class=\"colab-df-container\">\n",
              "      <div>\n",
              "<style scoped>\n",
              "    .dataframe tbody tr th:only-of-type {\n",
              "        vertical-align: middle;\n",
              "    }\n",
              "\n",
              "    .dataframe tbody tr th {\n",
              "        vertical-align: top;\n",
              "    }\n",
              "\n",
              "    .dataframe thead th {\n",
              "        text-align: right;\n",
              "    }\n",
              "</style>\n",
              "<table border=\"1\" class=\"dataframe\">\n",
              "  <thead>\n",
              "    <tr style=\"text-align: right;\">\n",
              "      <th></th>\n",
              "      <th>Emp Name</th>\n",
              "      <th>Emp id</th>\n",
              "      <th>Salary</th>\n",
              "    </tr>\n",
              "  </thead>\n",
              "  <tbody>\n",
              "    <tr>\n",
              "      <th>0</th>\n",
              "      <td>Ganesh</td>\n",
              "      <td>1001</td>\n",
              "      <td>25000</td>\n",
              "    </tr>\n",
              "    <tr>\n",
              "      <th>1</th>\n",
              "      <td>Kartik</td>\n",
              "      <td>1002</td>\n",
              "      <td>40000</td>\n",
              "    </tr>\n",
              "    <tr>\n",
              "      <th>2</th>\n",
              "      <td>Veera</td>\n",
              "      <td>1003</td>\n",
              "      <td>80000</td>\n",
              "    </tr>\n",
              "    <tr>\n",
              "      <th>3</th>\n",
              "      <td>Sanskruti</td>\n",
              "      <td>1004</td>\n",
              "      <td>60000</td>\n",
              "    </tr>\n",
              "    <tr>\n",
              "      <th>4</th>\n",
              "      <td>Archana</td>\n",
              "      <td>1005</td>\n",
              "      <td>50000</td>\n",
              "    </tr>\n",
              "    <tr>\n",
              "      <th>5</th>\n",
              "      <td>Aradhana</td>\n",
              "      <td>1006</td>\n",
              "      <td>30000</td>\n",
              "    </tr>\n",
              "    <tr>\n",
              "      <th>6</th>\n",
              "      <td>Pratham</td>\n",
              "      <td>1007</td>\n",
              "      <td>15000</td>\n",
              "    </tr>\n",
              "    <tr>\n",
              "      <th>7</th>\n",
              "      <td>Sayali</td>\n",
              "      <td>1008</td>\n",
              "      <td>55000</td>\n",
              "    </tr>\n",
              "    <tr>\n",
              "      <th>8</th>\n",
              "      <td>Smruti</td>\n",
              "      <td>1009</td>\n",
              "      <td>80000</td>\n",
              "    </tr>\n",
              "    <tr>\n",
              "      <th>9</th>\n",
              "      <td>Vijay</td>\n",
              "      <td>1010</td>\n",
              "      <td>100000</td>\n",
              "    </tr>\n",
              "  </tbody>\n",
              "</table>\n",
              "</div>\n",
              "      <button class=\"colab-df-convert\" onclick=\"convertToInteractive('df-c1541e3c-9b06-4f47-9754-c5e6062b55e4')\"\n",
              "              title=\"Convert this dataframe to an interactive table.\"\n",
              "              style=\"display:none;\">\n",
              "        \n",
              "  <svg xmlns=\"http://www.w3.org/2000/svg\" height=\"24px\"viewBox=\"0 0 24 24\"\n",
              "       width=\"24px\">\n",
              "    <path d=\"M0 0h24v24H0V0z\" fill=\"none\"/>\n",
              "    <path d=\"M18.56 5.44l.94 2.06.94-2.06 2.06-.94-2.06-.94-.94-2.06-.94 2.06-2.06.94zm-11 1L8.5 8.5l.94-2.06 2.06-.94-2.06-.94L8.5 2.5l-.94 2.06-2.06.94zm10 10l.94 2.06.94-2.06 2.06-.94-2.06-.94-.94-2.06-.94 2.06-2.06.94z\"/><path d=\"M17.41 7.96l-1.37-1.37c-.4-.4-.92-.59-1.43-.59-.52 0-1.04.2-1.43.59L10.3 9.45l-7.72 7.72c-.78.78-.78 2.05 0 2.83L4 21.41c.39.39.9.59 1.41.59.51 0 1.02-.2 1.41-.59l7.78-7.78 2.81-2.81c.8-.78.8-2.07 0-2.86zM5.41 20L4 18.59l7.72-7.72 1.47 1.35L5.41 20z\"/>\n",
              "  </svg>\n",
              "      </button>\n",
              "      \n",
              "  <style>\n",
              "    .colab-df-container {\n",
              "      display:flex;\n",
              "      flex-wrap:wrap;\n",
              "      gap: 12px;\n",
              "    }\n",
              "\n",
              "    .colab-df-convert {\n",
              "      background-color: #E8F0FE;\n",
              "      border: none;\n",
              "      border-radius: 50%;\n",
              "      cursor: pointer;\n",
              "      display: none;\n",
              "      fill: #1967D2;\n",
              "      height: 32px;\n",
              "      padding: 0 0 0 0;\n",
              "      width: 32px;\n",
              "    }\n",
              "\n",
              "    .colab-df-convert:hover {\n",
              "      background-color: #E2EBFA;\n",
              "      box-shadow: 0px 1px 2px rgba(60, 64, 67, 0.3), 0px 1px 3px 1px rgba(60, 64, 67, 0.15);\n",
              "      fill: #174EA6;\n",
              "    }\n",
              "\n",
              "    [theme=dark] .colab-df-convert {\n",
              "      background-color: #3B4455;\n",
              "      fill: #D2E3FC;\n",
              "    }\n",
              "\n",
              "    [theme=dark] .colab-df-convert:hover {\n",
              "      background-color: #434B5C;\n",
              "      box-shadow: 0px 1px 3px 1px rgba(0, 0, 0, 0.15);\n",
              "      filter: drop-shadow(0px 1px 2px rgba(0, 0, 0, 0.3));\n",
              "      fill: #FFFFFF;\n",
              "    }\n",
              "  </style>\n",
              "\n",
              "      <script>\n",
              "        const buttonEl =\n",
              "          document.querySelector('#df-c1541e3c-9b06-4f47-9754-c5e6062b55e4 button.colab-df-convert');\n",
              "        buttonEl.style.display =\n",
              "          google.colab.kernel.accessAllowed ? 'block' : 'none';\n",
              "\n",
              "        async function convertToInteractive(key) {\n",
              "          const element = document.querySelector('#df-c1541e3c-9b06-4f47-9754-c5e6062b55e4');\n",
              "          const dataTable =\n",
              "            await google.colab.kernel.invokeFunction('convertToInteractive',\n",
              "                                                     [key], {});\n",
              "          if (!dataTable) return;\n",
              "\n",
              "          const docLinkHtml = 'Like what you see? Visit the ' +\n",
              "            '<a target=\"_blank\" href=https://colab.research.google.com/notebooks/data_table.ipynb>data table notebook</a>'\n",
              "            + ' to learn more about interactive tables.';\n",
              "          element.innerHTML = '';\n",
              "          dataTable['output_type'] = 'display_data';\n",
              "          await google.colab.output.renderOutput(dataTable, element);\n",
              "          const docLink = document.createElement('div');\n",
              "          docLink.innerHTML = docLinkHtml;\n",
              "          element.appendChild(docLink);\n",
              "        }\n",
              "      </script>\n",
              "    </div>\n",
              "  </div>\n",
              "  "
            ],
            "text/plain": [
              "    Emp Name  Emp id  Salary\n",
              "0    Ganesh     1001   25000\n",
              "1     Kartik    1002   40000\n",
              "2      Veera    1003   80000\n",
              "3  Sanskruti    1004   60000\n",
              "4    Archana    1005   50000\n",
              "5   Aradhana    1006   30000\n",
              "6    Pratham    1007   15000\n",
              "7     Sayali    1008   55000\n",
              "8     Smruti    1009   80000\n",
              "9      Vijay    1010  100000"
            ]
          },
          "metadata": {},
          "output_type": "display_data"
        }
      ],
      "source": [
        "display(df,df1)"
      ]
    },
    {
      "cell_type": "code",
      "execution_count": null,
      "metadata": {
        "colab": {
          "base_uri": "https://localhost:8080/",
          "height": 182
        },
        "id": "YjGHRC_Wndaj",
        "outputId": "8a1e6a6c-d426-4075-962d-4927e6c4fe0a"
      },
      "outputs": [
        {
          "output_type": "error",
          "ename": "NameError",
          "evalue": "ignored",
          "traceback": [
            "\u001b[0;31m---------------------------------------------------------------------------\u001b[0m",
            "\u001b[0;31mNameError\u001b[0m                                 Traceback (most recent call last)",
            "\u001b[0;32m<ipython-input-3-63ff132030cf>\u001b[0m in \u001b[0;36m<cell line: 1>\u001b[0;34m()\u001b[0m\n\u001b[0;32m----> 1\u001b[0;31m \u001b[0mdf2\u001b[0m\u001b[0;34m=\u001b[0m\u001b[0mpd\u001b[0m\u001b[0;34m.\u001b[0m\u001b[0mmerge\u001b[0m\u001b[0;34m(\u001b[0m\u001b[0mdf\u001b[0m\u001b[0;34m,\u001b[0m\u001b[0mdf1\u001b[0m\u001b[0;34m)\u001b[0m\u001b[0;34m\u001b[0m\u001b[0;34m\u001b[0m\u001b[0m\n\u001b[0m\u001b[1;32m      2\u001b[0m \u001b[0mprint\u001b[0m\u001b[0;34m(\u001b[0m\u001b[0mdf2\u001b[0m\u001b[0;34m)\u001b[0m\u001b[0;34m\u001b[0m\u001b[0;34m\u001b[0m\u001b[0m\n",
            "\u001b[0;31mNameError\u001b[0m: name 'pd' is not defined"
          ]
        }
      ],
      "source": [
        "df2=pd.merge(df,df1)\n",
        "print(df2)"
      ]
    },
    {
      "cell_type": "code",
      "execution_count": null,
      "metadata": {
        "colab": {
          "base_uri": "https://localhost:8080/",
          "height": 130
        },
        "id": "iSIdodjVoPxa",
        "outputId": "f061ea4b-cb1d-4790-99c6-f74439315a2c"
      },
      "outputs": [
        {
          "ename": "IndentationError",
          "evalue": "ignored",
          "output_type": "error",
          "traceback": [
            "\u001b[0;36m  File \u001b[0;32m\"<ipython-input-15-ce1d708ab437>\"\u001b[0;36m, line \u001b[0;32m2\u001b[0m\n\u001b[0;31m    import pandas as pd\u001b[0m\n\u001b[0m    ^\u001b[0m\n\u001b[0;31mIndentationError\u001b[0m\u001b[0;31m:\u001b[0m expected an indented block\n"
          ]
        }
      ],
      "source": [
        "def sal():\n",
        "import pandas as pd\n",
        "a=df1.sort_values(by=['Salary'],ascending=False)\n",
        "g=a.nlargest(3,'Salary','first')\n",
        "print(g)\n",
        "sal()"
      ]
    },
    {
      "cell_type": "code",
      "execution_count": null,
      "metadata": {
        "colab": {
          "base_uri": "https://localhost:8080/"
        },
        "id": "nNI7HJ6cZpne",
        "outputId": "09b04c89-29b2-420d-bae0-6fe45d836a0e"
      },
      "outputs": [
        {
          "name": "stdout",
          "output_type": "stream",
          "text": [
            "{'tanmay': 77, 'aditya': 78}\n",
            "dict_keys(['tanmay', 'aditya'])\n",
            "dict_values([77, 78])\n",
            "{'tanmay': 77, 'aditya': 78, 'rohan': 80}\n",
            "3\n",
            "{'tanmay': 77, 'aditya': 78}\n"
          ]
        }
      ],
      "source": [
        "d1={\"tanmay\":77,\"aditya\":78}\n",
        "print(d1)\n",
        "print(d1.keys())\n",
        "print(d1.values())\n",
        "d1.update({\"rohan\":80})\n",
        "print(d1)\n",
        "a=d1.__len__()\n",
        "print(a)\n",
        "d1.pop(\"rohan\")\n",
        "print(d1)"
      ]
    },
    {
      "cell_type": "code",
      "execution_count": null,
      "metadata": {
        "colab": {
          "background_save": true,
          "base_uri": "https://localhost:8080/",
          "height": 397
        },
        "id": "See8eHRhdSdu",
        "outputId": "bcda8167-21ba-4a23-9071-32406f00b364"
      },
      "outputs": [
        {
          "name": "stdout",
          "output_type": "stream",
          "text": [
            "           product  product no.\n",
            "0              tv           101\n",
            "1           remote          102\n",
            "2              bed          103\n",
            "3           mobile          104\n",
            "4           laptop          105\n",
            "5               pc          106\n",
            "6        processor          107\n",
            "7     mother board          108\n",
            "8              cpu          109\n",
            "9     graphic card          110\n",
            "10             ram          111\n",
            "11             ssd          112\n",
            "12         monitor          113\n",
            "13        keyboard          114\n",
            "14           mouse          115\n",
            "15          cables          116\n",
            "16      hard drive          117\n",
            "17  cooling system          118\n",
            "18           cabet          119\n",
            "19     power motor          120\n",
            "[['tv ', 101], ['remote', 102], ['bed', 103], ['mobile', 104], ['laptop', 105], ['pc', 106], ['processor', 107], ['mother board', 108], ['cpu', 109], ['graphic card', 110], ['ram', 111], ['ssd', 112], ['monitor', 113], ['keyboard', 114], ['mouse', 115], ['cables', 116], ['hard drive', 117], ['cooling system', 118], ['cabet', 119], ['power motor', 120]]\n"
          ]
        }
      ],
      "source": [
        "import pandas as pd\n",
        "df=pd.read_csv('/content/sample_data/118 product sales.csv')\n",
        "print(df)\n",
        "a=df\n",
        "print(a.values.tolist())"
      ]
    },
    {
      "cell_type": "code",
      "source": [
        " s1={90,80,70,60}\n",
        " for i in s1:\n",
        "   print(i)"
      ],
      "metadata": {
        "colab": {
          "base_uri": "https://localhost:8080/"
        },
        "id": "cctGj_H2J10M",
        "outputId": "5fbd2161-c7f4-48d8-d507-79a0b2be232d"
      },
      "execution_count": null,
      "outputs": [
        {
          "output_type": "stream",
          "name": "stdout",
          "text": [
            "80\n",
            "90\n",
            "60\n",
            "70\n"
          ]
        }
      ]
    },
    {
      "cell_type": "code",
      "source": [
        " s1={90,80,70,60}\n",
        "s1.add(50)\n",
        "print(s1)"
      ],
      "metadata": {
        "colab": {
          "base_uri": "https://localhost:8080/"
        },
        "id": "eDCbM1oqKNmS",
        "outputId": "a119c99e-bc12-412f-a455-0ae7fbb2d0ff"
      },
      "execution_count": null,
      "outputs": [
        {
          "output_type": "stream",
          "name": "stdout",
          "text": [
            "{70, 80, 50, 90, 60}\n"
          ]
        }
      ]
    },
    {
      "cell_type": "code",
      "source": [
        " s1={90,80,70,60}\n",
        " s1.update((12,22,43))-5\n",
        " print(s1)"
      ],
      "metadata": {
        "colab": {
          "base_uri": "https://localhost:8080/"
        },
        "id": "ZuqBnyzKKnHg",
        "outputId": "f274e66c-3c60-4c7a-fdcb-6d3a069e2411"
      },
      "execution_count": null,
      "outputs": [
        {
          "output_type": "stream",
          "name": "stdout",
          "text": [
            "{70, 43, 12, 80, 22, 90, 60}\n"
          ]
        }
      ]
    },
    {
      "cell_type": "code",
      "source": [
        " s1={90,80,70,60}\n",
        " s1.discard(90)\n",
        " print(s1)"
      ],
      "metadata": {
        "colab": {
          "base_uri": "https://localhost:8080/"
        },
        "id": "m6Tv2hP5LB-p",
        "outputId": "f9a72afe-4133-4cbd-d742-a31a03dc3f84"
      },
      "execution_count": null,
      "outputs": [
        {
          "output_type": "stream",
          "name": "stdout",
          "text": [
            "{80, 60, 70}\n"
          ]
        }
      ]
    },
    {
      "cell_type": "code",
      "source": [
        "t1={1,2,3,4,5,6}\n",
        "t2={1,3,5,8,9,4}\n",
        "c1=t1|t2\n",
        "print(c1)"
      ],
      "metadata": {
        "colab": {
          "base_uri": "https://localhost:8080/"
        },
        "id": "_WAiDw5vLKFu",
        "outputId": "1292dbda-4826-4c2d-cf52-5231e3d47fd7"
      },
      "execution_count": null,
      "outputs": [
        {
          "output_type": "stream",
          "name": "stdout",
          "text": [
            "{1, 2, 3, 4, 5, 6, 8, 9}\n"
          ]
        }
      ]
    },
    {
      "cell_type": "code",
      "source": [
        "t1={1,2,3,4,5,6}\n",
        "t2={1,3,5,8,9,4}\n",
        "c1=t1&t2\n",
        "print(c1)\n"
      ],
      "metadata": {
        "colab": {
          "base_uri": "https://localhost:8080/"
        },
        "id": "nLHuCfz0LbeO",
        "outputId": "88317885-8ba1-46a7-e5a7-714d89896969"
      },
      "execution_count": null,
      "outputs": [
        {
          "output_type": "stream",
          "name": "stdout",
          "text": [
            "{1, 3, 4, 5}\n"
          ]
        }
      ]
    },
    {
      "cell_type": "code",
      "source": [
        "t1={1,2,3,4,5,6}\n",
        "t2={1,3,5,8,9,4}\n",
        "c1=t1-t2\n",
        "print(c1)"
      ],
      "metadata": {
        "colab": {
          "base_uri": "https://localhost:8080/"
        },
        "id": "GMH8WgugLkyv",
        "outputId": "715a1810-069f-41ff-cf99-8c26d54c4e66"
      },
      "execution_count": null,
      "outputs": [
        {
          "output_type": "stream",
          "name": "stdout",
          "text": [
            "{2, 6}\n"
          ]
        }
      ]
    },
    {
      "cell_type": "code",
      "source": [
        "import numpy as np\n",
        "arr=np.array([10,20,30,40,50])\n",
        "x=arr.copy()\n",
        "y=arr.view()\n",
        "arr[1]=60\n",
        "arr[3]=70\n",
        "print(arr)\n",
        "print(x)\n",
        "print(y)"
      ],
      "metadata": {
        "id": "XxlHSfbseBRS",
        "colab": {
          "base_uri": "https://localhost:8080/"
        },
        "outputId": "daab407a-0c19-49d6-99b5-862dd0ee9714"
      },
      "execution_count": null,
      "outputs": [
        {
          "output_type": "stream",
          "name": "stdout",
          "text": [
            "[10 60 30 70 50]\n",
            "[10 20 30 40 50]\n",
            "[10 60 30 70 50]\n"
          ]
        }
      ]
    },
    {
      "cell_type": "code",
      "source": [
        "import numpy as np\n",
        "x=np.array([[10,20,30,40,50],[10,20,30,40,50]])\n",
        "y=np.array([[1,2,3,4,5],[10,20,30,40,50]])\n",
        "print(\"addition of matrix\")\n",
        "print(np.add(x,y))\n",
        "print(\"subtraction of matrix\")\n",
        "print(np.subtract(x,y))"
      ],
      "metadata": {
        "colab": {
          "base_uri": "https://localhost:8080/"
        },
        "id": "vYFe_ufZmbzQ",
        "outputId": "b64f574c-8c28-465a-8b35-86e84a4b1ae1"
      },
      "execution_count": null,
      "outputs": [
        {
          "output_type": "stream",
          "name": "stdout",
          "text": [
            "addition of matrix\n",
            "[[ 11  22  33  44  55]\n",
            " [ 20  40  60  80 100]]\n",
            "subtraction of matrix\n",
            "[[ 9 18 27 36 45]\n",
            " [ 0  0  0  0  0]]\n"
          ]
        }
      ]
    },
    {
      "cell_type": "code",
      "source": [
        "l1=np.matrix('1,2,3,4;6,7,8,9;8,9,6,5')\n",
        "a=np.array(l1)\n",
        "print(a)"
      ],
      "metadata": {
        "colab": {
          "base_uri": "https://localhost:8080/"
        },
        "id": "BgBGiGKsnRjE",
        "outputId": "a6410772-4b4e-4e65-8774-52d5892ed56e"
      },
      "execution_count": null,
      "outputs": [
        {
          "output_type": "stream",
          "name": "stdout",
          "text": [
            "[[1 2 3 4]\n",
            " [6 7 8 9]\n",
            " [8 9 6 5]]\n"
          ]
        }
      ]
    },
    {
      "cell_type": "code",
      "source": [
        "import json\n",
        "emp_dict={\"x\"=6,\"y\"=76}\n",
        "\n",
        "print(emp_dict)"
      ],
      "metadata": {
        "colab": {
          "base_uri": "https://localhost:8080/",
          "height": 130
        },
        "id": "2HXVL8umn3xs",
        "outputId": "8ad6d6ae-9fb8-4d44-bfcf-11345377184d"
      },
      "execution_count": null,
      "outputs": [
        {
          "output_type": "error",
          "ename": "SyntaxError",
          "evalue": "ignored",
          "traceback": [
            "\u001b[0;36m  File \u001b[0;32m\"<ipython-input-5-f84c862916b8>\"\u001b[0;36m, line \u001b[0;32m2\u001b[0m\n\u001b[0;31m    emp_dict={\"x\"=6,\"y\"=76}\u001b[0m\n\u001b[0m              ^\u001b[0m\n\u001b[0;31mSyntaxError\u001b[0m\u001b[0;31m:\u001b[0m cannot assign to literal here. Maybe you meant '==' instead of '='?\n"
          ]
        }
      ]
    },
    {
      "cell_type": "code",
      "source": [
        "def subt():\n",
        "  a=10\n",
        "  b=20\n",
        "  f=a-b\n",
        "  print(f)\n",
        "\n",
        "  def add():\n",
        "    a=50\n",
        "    b=40\n",
        "    g=a+b\n",
        "    print(g)\n",
        "  add()\n",
        "subt()"
      ],
      "metadata": {
        "colab": {
          "base_uri": "https://localhost:8080/"
        },
        "id": "Cc8GmM9JokJ0",
        "outputId": "37ee88af-cfca-498d-8932-0a193bfdd043"
      },
      "execution_count": null,
      "outputs": [
        {
          "output_type": "stream",
          "name": "stdout",
          "text": [
            "-10\n",
            "90\n"
          ]
        }
      ]
    },
    {
      "cell_type": "code",
      "source": [
        "def get_cube(num):\n",
        "  return num*num*num\n",
        "print(get_cube(5))"
      ],
      "metadata": {
        "colab": {
          "base_uri": "https://localhost:8080/"
        },
        "id": "8MRx_frjpByU",
        "outputId": "ca1b56d1-25b1-474e-e6d7-4719289e99e7"
      },
      "execution_count": null,
      "outputs": [
        {
          "output_type": "stream",
          "name": "stdout",
          "text": [
            "125\n"
          ]
        }
      ]
    },
    {
      "cell_type": "code",
      "source": [
        "r=lambda num:num*num*num\n",
        "print(r(5))"
      ],
      "metadata": {
        "colab": {
          "base_uri": "https://localhost:8080/"
        },
        "id": "xPFOyO6appyT",
        "outputId": "82a692b3-2cc3-4e3c-dcf5-1b3a07738a20"
      },
      "execution_count": null,
      "outputs": [
        {
          "output_type": "stream",
          "name": "stdout",
          "text": [
            "125\n"
          ]
        }
      ]
    },
    {
      "cell_type": "code",
      "source": [
        "print(\"enter random number to learn a new subject\")\n",
        "d=int(input())\n",
        "if d==1:\n",
        "   print(\"math\")\n",
        "   print(\"today we are going to learn math from math\")\n",
        "if d==2:\n",
        "  print(\"english\")\n",
        "  print(\"today we are going to learn english from english\")\n",
        "if d==3:\n",
        "  print(\"science\")\n",
        "  print(\"today we are going to learn sci from sci\")\n",
        "if d==4:\n",
        "  print(\"science\")\n",
        "  print(\"today we are going to learn sci from sci\")\n"
      ],
      "metadata": {
        "colab": {
          "base_uri": "https://localhost:8080/"
        },
        "id": "1KESNEGLR4yU",
        "outputId": "ab0f6f2d-96b7-4b5c-b398-7801f05a6e5a"
      },
      "execution_count": null,
      "outputs": [
        {
          "output_type": "stream",
          "name": "stdout",
          "text": [
            "enter random number to learn a new subject\n",
            "4\n",
            "science\n",
            "today we are going to learn sci from sci\n"
          ]
        }
      ]
    },
    {
      "cell_type": "code",
      "source": [
        "dist1={\n",
        "    \"tanmay\":118,\n",
        "    \"aditya\":119\n",
        "}\n",
        "dist2={\n",
        "    \"tom\":1184,\n",
        "    \"adityaa\":1194\n",
        "}\n",
        "dist1.update(dist2)\n",
        "print(dist1)\n"
      ],
      "metadata": {
        "colab": {
          "base_uri": "https://localhost:8080/"
        },
        "id": "p0Ua3ShMa3Ig",
        "outputId": "a98f6b99-9848-44e1-8e1e-d7450442cc2d"
      },
      "execution_count": null,
      "outputs": [
        {
          "output_type": "stream",
          "name": "stdout",
          "text": [
            "{'tanmay': 118, 'aditya': 119, 'tom': 1184, 'adityaa': 1194}\n"
          ]
        }
      ]
    },
    {
      "cell_type": "code",
      "source": [
        "from datetime import date\n",
        "today=date.today()\n",
        "print(today)"
      ],
      "metadata": {
        "colab": {
          "base_uri": "https://localhost:8080/"
        },
        "id": "2rRa7zMJeR-l",
        "outputId": "dd517eb3-6b70-48f8-fc54-c4cc03591ba0"
      },
      "execution_count": null,
      "outputs": [
        {
          "output_type": "stream",
          "name": "stdout",
          "text": [
            "2023-05-02\n"
          ]
        }
      ]
    },
    {
      "cell_type": "code",
      "source": [
        "import datetime\n",
        "current_time=datetime.datetime.now()\n",
        "print(\"the attributes of now() are\")\n",
        "print(\"year in which you were born\")\n",
        "print(\"year=\",end=\"\")\n",
        "\n",
        "print(current_time.year)\n",
        "print(\"month=\",end=\"\")\n",
        "print(current_time.month)\n",
        "print(\"day=\",end=\"\")\n",
        "print(current_time.day)"
      ],
      "metadata": {
        "colab": {
          "base_uri": "https://localhost:8080/"
        },
        "id": "PvGI25nEeoVf",
        "outputId": "9e31c30d-c161-4845-dc09-c90b55f05b96"
      },
      "execution_count": null,
      "outputs": [
        {
          "output_type": "stream",
          "name": "stdout",
          "text": [
            "the attributes of now() are\n",
            "year in which you were born\n",
            "year=2023\n",
            "month=5\n",
            "day=25\n"
          ]
        }
      ]
    },
    {
      "cell_type": "code",
      "source": [
        "from collections.abc import AsyncGenerator\n",
        "from datetime import date\n",
        "def CalculateAge(dob):\n",
        "  today=date.today()\n",
        "  age=today.year-dob.year-((today.month,today.day)<(dob.month,dob.day))\n",
        "  return age\n",
        "print(CalculateAge(date(2004,3,6)),\"year old\")"
      ],
      "metadata": {
        "colab": {
          "base_uri": "https://localhost:8080/"
        },
        "id": "EUx-xK-Mfs9v",
        "outputId": "40673e48-7082-4f0d-b7d3-5aaad89339d4"
      },
      "execution_count": null,
      "outputs": [
        {
          "output_type": "stream",
          "name": "stdout",
          "text": [
            "19 year old\n"
          ]
        }
      ]
    },
    {
      "cell_type": "code",
      "source": [
        "l1=[10,20,30,40,50,60,70,80,90]\n",
        "alt=l1[::2]\n",
        "print(alt)"
      ],
      "metadata": {
        "colab": {
          "base_uri": "https://localhost:8080/"
        },
        "id": "rAJtcahahq5e",
        "outputId": "d9923ab8-0c11-4616-f3f9-83943fd5bb86"
      },
      "execution_count": null,
      "outputs": [
        {
          "output_type": "stream",
          "name": "stdout",
          "text": [
            "[10, 30, 50, 70, 90]\n"
          ]
        }
      ]
    },
    {
      "cell_type": "code",
      "source": [
        "\n",
        "ndf=df.transform(t)\n",
        "print(ndf)\n",
        "print(ndf.values.tolist())"
      ],
      "metadata": {
        "id": "hxTdoAXVrI9N",
        "colab": {
          "base_uri": "https://localhost:8080/",
          "height": 512
        },
        "outputId": "39f3b469-a394-4718-f534-e8396464ad0f"
      },
      "execution_count": null,
      "outputs": [
        {
          "output_type": "stream",
          "name": "stdout",
          "text": [
            "     0\n",
            "0   10\n",
            "1   20\n",
            "2   30\n",
            "3   40\n",
            "4   50\n",
            "5   60\n",
            "6   70\n",
            "7   80\n",
            "8   90\n",
            "9  100\n"
          ]
        },
        {
          "output_type": "error",
          "ename": "AttributeError",
          "evalue": "ignored",
          "traceback": [
            "\u001b[0;31m---------------------------------------------------------------------------\u001b[0m",
            "\u001b[0;31mAttributeError\u001b[0m                            Traceback (most recent call last)",
            "\u001b[0;32m<ipython-input-7-2955a64faec3>\u001b[0m in \u001b[0;36m<cell line: 8>\u001b[0;34m()\u001b[0m\n\u001b[1;32m      6\u001b[0m \u001b[0mndf\u001b[0m\u001b[0;34m=\u001b[0m\u001b[0mdf\u001b[0m\u001b[0;34m.\u001b[0m\u001b[0mtransform\u001b[0m\u001b[0;34m(\u001b[0m\u001b[0mt\u001b[0m\u001b[0;34m)\u001b[0m\u001b[0;34m\u001b[0m\u001b[0;34m\u001b[0m\u001b[0m\n\u001b[1;32m      7\u001b[0m \u001b[0mprint\u001b[0m\u001b[0;34m(\u001b[0m\u001b[0mndf\u001b[0m\u001b[0;34m)\u001b[0m\u001b[0;34m\u001b[0m\u001b[0;34m\u001b[0m\u001b[0m\n\u001b[0;32m----> 8\u001b[0;31m \u001b[0mprint\u001b[0m\u001b[0;34m(\u001b[0m\u001b[0mndf\u001b[0m\u001b[0;34m.\u001b[0m\u001b[0mtolist\u001b[0m\u001b[0;34m(\u001b[0m\u001b[0;34m)\u001b[0m\u001b[0;34m)\u001b[0m\u001b[0;34m\u001b[0m\u001b[0;34m\u001b[0m\u001b[0m\n\u001b[0m",
            "\u001b[0;32m/usr/local/lib/python3.10/dist-packages/pandas/core/generic.py\u001b[0m in \u001b[0;36m__getattr__\u001b[0;34m(self, name)\u001b[0m\n\u001b[1;32m   5900\u001b[0m         ):\n\u001b[1;32m   5901\u001b[0m             \u001b[0;32mreturn\u001b[0m \u001b[0mself\u001b[0m\u001b[0;34m[\u001b[0m\u001b[0mname\u001b[0m\u001b[0;34m]\u001b[0m\u001b[0;34m\u001b[0m\u001b[0;34m\u001b[0m\u001b[0m\n\u001b[0;32m-> 5902\u001b[0;31m         \u001b[0;32mreturn\u001b[0m \u001b[0mobject\u001b[0m\u001b[0;34m.\u001b[0m\u001b[0m__getattribute__\u001b[0m\u001b[0;34m(\u001b[0m\u001b[0mself\u001b[0m\u001b[0;34m,\u001b[0m \u001b[0mname\u001b[0m\u001b[0;34m)\u001b[0m\u001b[0;34m\u001b[0m\u001b[0;34m\u001b[0m\u001b[0m\n\u001b[0m\u001b[1;32m   5903\u001b[0m \u001b[0;34m\u001b[0m\u001b[0m\n\u001b[1;32m   5904\u001b[0m     \u001b[0;32mdef\u001b[0m \u001b[0m__setattr__\u001b[0m\u001b[0;34m(\u001b[0m\u001b[0mself\u001b[0m\u001b[0;34m,\u001b[0m \u001b[0mname\u001b[0m\u001b[0;34m:\u001b[0m \u001b[0mstr\u001b[0m\u001b[0;34m,\u001b[0m \u001b[0mvalue\u001b[0m\u001b[0;34m)\u001b[0m \u001b[0;34m->\u001b[0m \u001b[0;32mNone\u001b[0m\u001b[0;34m:\u001b[0m\u001b[0;34m\u001b[0m\u001b[0;34m\u001b[0m\u001b[0m\n",
            "\u001b[0;31mAttributeError\u001b[0m: 'DataFrame' object has no attribute 'tolist'"
          ]
        }
      ]
    },
    {
      "cell_type": "code",
      "source": [
        "import csv\n",
        "file=open(\"/EDS Excel Employe (118).csv\",\"r\")\n",
        "data=list(csv.reader(file))\n",
        "data.sort()\n",
        "print(data)\n",
        "file.close()\n",
        "file1=open(\"/(116) Salary emp (1).csv\",\"r\")\n",
        "data1=list(csv.reader(file1))\n",
        "print(data1)\n",
        "data2=[]\n",
        "for i in range(len(data)):\n",
        "  data2.append(data[i]+data1[i])\n",
        "print(data2)\n",
        "print(data2)\n",
        "data2.sort(key=lambda x:int(),reverse=True)\n",
        "print(data2)\n",
        "file2=open(\"/empty file.csv\",\"w\")\n",
        "cw=csv.writer(file2)\n",
        "cw.writerows(data2)\n",
        "file.close()\n",
        "file1.close()\n",
        "file2.close()\n"
      ],
      "metadata": {
        "id": "VOeVq-KXIzeG",
        "colab": {
          "base_uri": "https://localhost:8080/",
          "height": 235
        },
        "outputId": "6e18afed-61e0-4e54-e653-5b7ac8934878"
      },
      "execution_count": null,
      "outputs": [
        {
          "output_type": "error",
          "ename": "FileNotFoundError",
          "evalue": "ignored",
          "traceback": [
            "\u001b[0;31m---------------------------------------------------------------------------\u001b[0m",
            "\u001b[0;31mFileNotFoundError\u001b[0m                         Traceback (most recent call last)",
            "\u001b[0;32m<ipython-input-5-ed875be97d9b>\u001b[0m in \u001b[0;36m<cell line: 2>\u001b[0;34m()\u001b[0m\n\u001b[1;32m      1\u001b[0m \u001b[0;32mimport\u001b[0m \u001b[0mcsv\u001b[0m\u001b[0;34m\u001b[0m\u001b[0;34m\u001b[0m\u001b[0m\n\u001b[0;32m----> 2\u001b[0;31m \u001b[0mfile\u001b[0m\u001b[0;34m=\u001b[0m\u001b[0mopen\u001b[0m\u001b[0;34m(\u001b[0m\u001b[0;34m\"/EDS Excel Employe (118).csv\"\u001b[0m\u001b[0;34m,\u001b[0m\u001b[0;34m\"r\"\u001b[0m\u001b[0;34m)\u001b[0m\u001b[0;34m\u001b[0m\u001b[0;34m\u001b[0m\u001b[0m\n\u001b[0m\u001b[1;32m      3\u001b[0m \u001b[0mdata\u001b[0m\u001b[0;34m=\u001b[0m\u001b[0mlist\u001b[0m\u001b[0;34m(\u001b[0m\u001b[0mcsv\u001b[0m\u001b[0;34m.\u001b[0m\u001b[0mreader\u001b[0m\u001b[0;34m(\u001b[0m\u001b[0mfile\u001b[0m\u001b[0;34m)\u001b[0m\u001b[0;34m)\u001b[0m\u001b[0;34m\u001b[0m\u001b[0;34m\u001b[0m\u001b[0m\n\u001b[1;32m      4\u001b[0m \u001b[0mdata\u001b[0m\u001b[0;34m.\u001b[0m\u001b[0msort\u001b[0m\u001b[0;34m(\u001b[0m\u001b[0;34m)\u001b[0m\u001b[0;34m\u001b[0m\u001b[0;34m\u001b[0m\u001b[0m\n\u001b[1;32m      5\u001b[0m \u001b[0mprint\u001b[0m\u001b[0;34m(\u001b[0m\u001b[0mdata\u001b[0m\u001b[0;34m)\u001b[0m\u001b[0;34m\u001b[0m\u001b[0;34m\u001b[0m\u001b[0m\n",
            "\u001b[0;31mFileNotFoundError\u001b[0m: [Errno 2] No such file or directory: '/EDS Excel Employe (118).csv'"
          ]
        }
      ]
    },
    {
      "cell_type": "code",
      "source": [
        "a=float(input())\n",
        "b=float(input())\n",
        "c=a+b\n",
        "d=a*b\n",
        "e=a/b\n",
        "f=a%b\n",
        "g=a**b\n",
        "h=a//b\n",
        "print(c)\n",
        "print(d)\n",
        "print(e)\n",
        "print(f)\n",
        "print(g)\n",
        "print(h)"
      ],
      "metadata": {
        "colab": {
          "base_uri": "https://localhost:8080/"
        },
        "id": "Dusolgnlh_dX",
        "outputId": "305364cb-8cc6-49fa-c31e-c1bb9fb6ca43"
      },
      "execution_count": null,
      "outputs": [
        {
          "output_type": "stream",
          "name": "stdout",
          "text": [
            "2\n",
            "3\n",
            "5.0\n",
            "6.0\n",
            "0.6666666666666666\n",
            "2.0\n",
            "8.0\n",
            "0.0\n"
          ]
        }
      ]
    },
    {
      "cell_type": "code",
      "source": [
        "a=int(input())\n",
        "if a%2==0 and a!=0:\n",
        "  print(\"no is even\")\n",
        "else:\n",
        "  print(\"no is odd\")\n"
      ],
      "metadata": {
        "colab": {
          "base_uri": "https://localhost:8080/"
        },
        "id": "6O2ufMZzjy3d",
        "outputId": "7a34b7e4-3792-4b09-a228-d2c0c6fa30df"
      },
      "execution_count": null,
      "outputs": [
        {
          "output_type": "stream",
          "name": "stdout",
          "text": [
            "0\n",
            "no is odd\n"
          ]
        }
      ]
    },
    {
      "cell_type": "code",
      "source": [
        "a=int(input())\n",
        "if a>0:\n",
        "  print(\"positive number\")\n",
        "else:\n",
        "  print(\"negative number\")"
      ],
      "metadata": {
        "colab": {
          "base_uri": "https://localhost:8080/"
        },
        "id": "8ScoTGd9lkcV",
        "outputId": "214eb272-8ade-4d92-ab94-4c7fc705efc0"
      },
      "execution_count": null,
      "outputs": [
        {
          "output_type": "stream",
          "name": "stdout",
          "text": [
            "-23\n",
            "negative number\n"
          ]
        }
      ]
    },
    {
      "cell_type": "code",
      "source": [
        "print(\"emter your age\")\n",
        "a=int(input())\n",
        "if a<=17"
      ],
      "metadata": {
        "id": "MGd28ohomV31"
      },
      "execution_count": null,
      "outputs": []
    },
    {
      "cell_type": "code",
      "source": [
        "import pandas as pd\n",
        "df=pd.read_excel('/content/drive/MyDrive/EDS Excel Employe (118).xlsx')\n",
        "a=df\n",
        "print(a.values.tolist())\n",
        "df1=pd.read_excel('/content/drive/MyDrive/(116) Salary emp.xlsx')\n",
        "l=list(df1.itertuples(index=False))\n",
        "t1=[tuple(x) for x in df1.values]\n",
        "d1=df.to_dict()\n",
        "def freq(l):\n",
        "  counter = 0\n",
        "  num=l[0]\n",
        "  for i in l:\n",
        "    cf=l.count(i)\n",
        "    if(cf>counter):\n",
        "      counter=cf\n",
        "      num=i\n",
        "      return 0\n",
        "print(freq(l))"
      ],
      "metadata": {
        "colab": {
          "base_uri": "https://localhost:8080/"
        },
        "id": "JmsamDtPssti",
        "outputId": "664073c3-0df4-4019-9df6-44c9e3a5809a"
      },
      "execution_count": null,
      "outputs": [
        {
          "output_type": "stream",
          "name": "stdout",
          "text": [
            "[['Sr no.', 'Emp Name', 'Emp id', 'Date', 'Leaves'], [1, 'Ganesh ', 1001, datetime.datetime(2023, 1, 21, 0, 0), 2], [2, 'Kartik', 1002, datetime.datetime(2023, 1, 22, 0, 0), 4], [3, 'Veera', 1003, datetime.datetime(2023, 1, 23, 0, 0), 8], [4, 'Sanskruti', 1004, datetime.datetime(2023, 1, 24, 0, 0), 6], [5, 'Archana', 1005, datetime.datetime(2023, 1, 25, 0, 0), 1], [6, 'Aradhana', 1006, datetime.datetime(2023, 1, 26, 0, 0), 2], [7, 'Pratham', 1007, datetime.datetime(2023, 1, 27, 0, 0), 3], [8, 'Sayali', 1008, datetime.datetime(2023, 1, 28, 0, 0), 5], [9, 'Smruti', 1009, datetime.datetime(2023, 1, 29, 0, 0), 9], [10, 'Vijay', 1010, datetime.datetime(2023, 1, 30, 0, 0), 7]]\n",
            "0\n"
          ]
        }
      ]
    },
    {
      "cell_type": "code",
      "source": [
        "import math\n",
        "print(math.pow(9,3))"
      ],
      "metadata": {
        "colab": {
          "base_uri": "https://localhost:8080/"
        },
        "id": "aeIWqnxtRdG5",
        "outputId": "e795e4f5-81a6-415e-cf4d-7c13e58d05d2"
      },
      "execution_count": null,
      "outputs": [
        {
          "output_type": "stream",
          "name": "stdout",
          "text": [
            "729.0\n"
          ]
        }
      ]
    },
    {
      "cell_type": "code",
      "source": [
        "from itertools import count\n",
        "for number in count(start=5,step=2):\n",
        "  if number>=30:\n",
        "    break\n",
        "  print(number)\n"
      ],
      "metadata": {
        "colab": {
          "base_uri": "https://localhost:8080/"
        },
        "id": "-2Mmfdh4RuEZ",
        "outputId": "679f1f2a-3e3f-4acd-e00b-5483cfc2fcc4"
      },
      "execution_count": null,
      "outputs": [
        {
          "output_type": "stream",
          "name": "stdout",
          "text": [
            "5\n",
            "7\n",
            "9\n",
            "11\n",
            "13\n",
            "15\n",
            "17\n",
            "19\n",
            "21\n",
            "23\n",
            "25\n",
            "27\n",
            "29\n"
          ]
        }
      ]
    },
    {
      "cell_type": "code",
      "source": [
        "import decimal\n",
        "float_div=22/8\n",
        "decimal_div=decimal.Decimal(22)/decimal.Decimal(8)\n",
        "print(float_div)\n",
        "print(decimal_div)"
      ],
      "metadata": {
        "colab": {
          "base_uri": "https://localhost:8080/"
        },
        "id": "EXa65ES9SY8S",
        "outputId": "f8176f0b-1da1-4fe2-9ebc-d1badb71578d"
      },
      "execution_count": null,
      "outputs": [
        {
          "output_type": "stream",
          "name": "stdout",
          "text": [
            "2.75\n",
            "2.75\n"
          ]
        }
      ]
    },
    {
      "cell_type": "code",
      "source": [
        "from fractions import Fraction\n",
        "print(Fraction(55,66))\n",
        "print(Fraction(58,23))\n",
        "print(Fraction(55,2))"
      ],
      "metadata": {
        "colab": {
          "base_uri": "https://localhost:8080/"
        },
        "id": "upwDDTL5S55K",
        "outputId": "e69b39b4-6f27-438b-e821-b61e15f2bf2a"
      },
      "execution_count": null,
      "outputs": [
        {
          "output_type": "stream",
          "name": "stdout",
          "text": [
            "5/6\n",
            "58/23\n",
            "55/2\n"
          ]
        }
      ]
    },
    {
      "cell_type": "code",
      "source": [
        "import decimal\n",
        "from decimal import Decimal\n",
        "x=Decimal('0.98')\n",
        "y=Decimal('0.9')\n",
        "z=Decimal('0.8')\n",
        "s=x+y+z\n",
        "print(s)"
      ],
      "metadata": {
        "colab": {
          "base_uri": "https://localhost:8080/"
        },
        "id": "uWJp-XZRTddy",
        "outputId": "61a6aa27-59a7-418d-a708-bf13022cac36"
      },
      "execution_count": null,
      "outputs": [
        {
          "output_type": "stream",
          "name": "stdout",
          "text": [
            "2.68\n"
          ]
        }
      ]
    },
    {
      "cell_type": "code",
      "source": [
        "x=range(3,10)\n",
        "for n in x:\n",
        "  print(n)"
      ],
      "metadata": {
        "colab": {
          "base_uri": "https://localhost:8080/"
        },
        "id": "4_smmPfCT4vJ",
        "outputId": "24d91472-d3a9-4a00-bd04-499fd519afff"
      },
      "execution_count": null,
      "outputs": [
        {
          "output_type": "stream",
          "name": "stdout",
          "text": [
            "3\n",
            "4\n",
            "5\n",
            "6\n",
            "7\n",
            "8\n",
            "9\n"
          ]
        }
      ]
    },
    {
      "cell_type": "code",
      "source": [
        "import pandas as pd\n",
        "import numpy as np\n",
        "df=pd.read_excel('/content/drive/MyDrive/EDS Excel Employe (118).xlsx')\n",
        "df1=pd.read_excel('/content/drive/MyDrive/(116) Salary emp.xlsx')\n",
        "array=df.to_numpy()\n",
        "array1=df.to_numpy()\n",
        "print(array)\n",
        "print(array1)\n"
      ],
      "metadata": {
        "colab": {
          "base_uri": "https://localhost:8080/"
        },
        "id": "RB_S_ZDZuU6k",
        "outputId": "f53f6798-4e5f-4ac6-d9f2-ae50d7aaf722"
      },
      "execution_count": null,
      "outputs": [
        {
          "output_type": "stream",
          "name": "stdout",
          "text": [
            "[['Sr no.' 'Emp Name' 'Emp id' 'Date' 'Leaves']\n",
            " [1 'Ganesh ' 1001 datetime.datetime(2023, 1, 21, 0, 0) 2]\n",
            " [2 'Kartik' 1002 datetime.datetime(2023, 1, 22, 0, 0) 4]\n",
            " [3 'Veera' 1003 datetime.datetime(2023, 1, 23, 0, 0) 8]\n",
            " [4 'Sanskruti' 1004 datetime.datetime(2023, 1, 24, 0, 0) 6]\n",
            " [5 'Archana' 1005 datetime.datetime(2023, 1, 25, 0, 0) 1]\n",
            " [6 'Aradhana' 1006 datetime.datetime(2023, 1, 26, 0, 0) 2]\n",
            " [7 'Pratham' 1007 datetime.datetime(2023, 1, 27, 0, 0) 3]\n",
            " [8 'Sayali' 1008 datetime.datetime(2023, 1, 28, 0, 0) 5]\n",
            " [9 'Smruti' 1009 datetime.datetime(2023, 1, 29, 0, 0) 9]\n",
            " [10 'Vijay' 1010 datetime.datetime(2023, 1, 30, 0, 0) 7]]\n",
            "[['Sr no.' 'Emp Name' 'Emp id' 'Date' 'Leaves']\n",
            " [1 'Ganesh ' 1001 datetime.datetime(2023, 1, 21, 0, 0) 2]\n",
            " [2 'Kartik' 1002 datetime.datetime(2023, 1, 22, 0, 0) 4]\n",
            " [3 'Veera' 1003 datetime.datetime(2023, 1, 23, 0, 0) 8]\n",
            " [4 'Sanskruti' 1004 datetime.datetime(2023, 1, 24, 0, 0) 6]\n",
            " [5 'Archana' 1005 datetime.datetime(2023, 1, 25, 0, 0) 1]\n",
            " [6 'Aradhana' 1006 datetime.datetime(2023, 1, 26, 0, 0) 2]\n",
            " [7 'Pratham' 1007 datetime.datetime(2023, 1, 27, 0, 0) 3]\n",
            " [8 'Sayali' 1008 datetime.datetime(2023, 1, 28, 0, 0) 5]\n",
            " [9 'Smruti' 1009 datetime.datetime(2023, 1, 29, 0, 0) 9]\n",
            " [10 'Vijay' 1010 datetime.datetime(2023, 1, 30, 0, 0) 7]]\n"
          ]
        }
      ]
    },
    {
      "cell_type": "code",
      "source": [
        "print(\"addition of matrix\")\n",
        "a=array[i][-1]\n",
        "b=array1[i][-1]\n",
        "print(np.add(a,b))"
      ],
      "metadata": {
        "colab": {
          "base_uri": "https://localhost:8080/"
        },
        "id": "W-YgdRCowZx1",
        "outputId": "6b9056af-19a3-453d-9efb-1079c1e5c2a0"
      },
      "execution_count": null,
      "outputs": [
        {
          "output_type": "stream",
          "name": "stdout",
          "text": [
            "addition of matrix\n",
            "14\n"
          ]
        }
      ]
    },
    {
      "cell_type": "code",
      "source": [
        "matrix_length=len(array)\n",
        "print(matrix_length)"
      ],
      "metadata": {
        "colab": {
          "base_uri": "https://localhost:8080/"
        },
        "id": "NTnh72__xSQV",
        "outputId": "8fa90d98-aca1-4d34-b50a-1e549249581d"
      },
      "execution_count": null,
      "outputs": [
        {
          "output_type": "stream",
          "name": "stdout",
          "text": [
            "11\n"
          ]
        }
      ]
    },
    {
      "cell_type": "code",
      "source": [
        "for i in range(matrix_length):\n",
        "  print(array[i][-1])\n"
      ],
      "metadata": {
        "colab": {
          "base_uri": "https://localhost:8080/"
        },
        "id": "V2OPsMUCxesd",
        "outputId": "5cc9d1de-2ce9-430e-dbe5-0dc139bb7c5c"
      },
      "execution_count": null,
      "outputs": [
        {
          "output_type": "stream",
          "name": "stdout",
          "text": [
            "Leaves\n",
            "2\n",
            "4\n",
            "8\n",
            "6\n",
            "1\n",
            "2\n",
            "3\n",
            "5\n",
            "9\n",
            "7\n"
          ]
        }
      ]
    },
    {
      "cell_type": "code",
      "source": [
        "for i in range(matrix_length):\n",
        "  print(array[i])"
      ],
      "metadata": {
        "colab": {
          "base_uri": "https://localhost:8080/"
        },
        "id": "errROWlSyHO9",
        "outputId": "a135f55b-581e-4cf3-c0a4-e61cf8c4fc30"
      },
      "execution_count": null,
      "outputs": [
        {
          "output_type": "stream",
          "name": "stdout",
          "text": [
            "['Sr no.' 'Emp Name' 'Emp id' 'Date' 'Leaves']\n",
            "[1 'Ganesh ' 1001 datetime.datetime(2023, 1, 21, 0, 0) 2]\n",
            "[2 'Kartik' 1002 datetime.datetime(2023, 1, 22, 0, 0) 4]\n",
            "[3 'Veera' 1003 datetime.datetime(2023, 1, 23, 0, 0) 8]\n",
            "[4 'Sanskruti' 1004 datetime.datetime(2023, 1, 24, 0, 0) 6]\n",
            "[5 'Archana' 1005 datetime.datetime(2023, 1, 25, 0, 0) 1]\n",
            "[6 'Aradhana' 1006 datetime.datetime(2023, 1, 26, 0, 0) 2]\n",
            "[7 'Pratham' 1007 datetime.datetime(2023, 1, 27, 0, 0) 3]\n",
            "[8 'Sayali' 1008 datetime.datetime(2023, 1, 28, 0, 0) 5]\n",
            "[9 'Smruti' 1009 datetime.datetime(2023, 1, 29, 0, 0) 9]\n",
            "[10 'Vijay' 1010 datetime.datetime(2023, 1, 30, 0, 0) 7]\n"
          ]
        }
      ]
    },
    {
      "cell_type": "code",
      "source": [
        "print(array.T)"
      ],
      "metadata": {
        "colab": {
          "base_uri": "https://localhost:8080/"
        },
        "id": "WFt0AS62yQbN",
        "outputId": "b4ad6f3d-6248-4759-f66f-65679b3eccdc"
      },
      "execution_count": null,
      "outputs": [
        {
          "output_type": "stream",
          "name": "stdout",
          "text": [
            "[['Sr no.' 1 2 3 4 5 6 7 8 9 10]\n",
            " ['Emp Name' 'Ganesh ' 'Kartik' 'Veera' 'Sanskruti' 'Archana' 'Aradhana'\n",
            "  'Pratham' 'Sayali' 'Smruti' 'Vijay']\n",
            " ['Emp id' 1001 1002 1003 1004 1005 1006 1007 1008 1009 1010]\n",
            " ['Date' datetime.datetime(2023, 1, 21, 0, 0)\n",
            "  datetime.datetime(2023, 1, 22, 0, 0)\n",
            "  datetime.datetime(2023, 1, 23, 0, 0)\n",
            "  datetime.datetime(2023, 1, 24, 0, 0)\n",
            "  datetime.datetime(2023, 1, 25, 0, 0)\n",
            "  datetime.datetime(2023, 1, 26, 0, 0)\n",
            "  datetime.datetime(2023, 1, 27, 0, 0)\n",
            "  datetime.datetime(2023, 1, 28, 0, 0)\n",
            "  datetime.datetime(2023, 1, 29, 0, 0)\n",
            "  datetime.datetime(2023, 1, 30, 0, 0)]\n",
            " ['Leaves' 2 4 8 6 1 2 3 5 9 7]]\n"
          ]
        }
      ]
    },
    {
      "cell_type": "code",
      "source": [
        "c=np.stack((array,array1),axis=0)\n",
        "print(c)"
      ],
      "metadata": {
        "colab": {
          "base_uri": "https://localhost:8080/"
        },
        "id": "6facG8cmycz2",
        "outputId": "b7517754-dc0d-429a-c0ab-698bbf2871c3"
      },
      "execution_count": null,
      "outputs": [
        {
          "output_type": "stream",
          "name": "stdout",
          "text": [
            "[[['Sr no.' 'Emp Name' 'Emp id' 'Date' 'Leaves']\n",
            "  [1 'Ganesh ' 1001 datetime.datetime(2023, 1, 21, 0, 0) 2]\n",
            "  [2 'Kartik' 1002 datetime.datetime(2023, 1, 22, 0, 0) 4]\n",
            "  [3 'Veera' 1003 datetime.datetime(2023, 1, 23, 0, 0) 8]\n",
            "  [4 'Sanskruti' 1004 datetime.datetime(2023, 1, 24, 0, 0) 6]\n",
            "  [5 'Archana' 1005 datetime.datetime(2023, 1, 25, 0, 0) 1]\n",
            "  [6 'Aradhana' 1006 datetime.datetime(2023, 1, 26, 0, 0) 2]\n",
            "  [7 'Pratham' 1007 datetime.datetime(2023, 1, 27, 0, 0) 3]\n",
            "  [8 'Sayali' 1008 datetime.datetime(2023, 1, 28, 0, 0) 5]\n",
            "  [9 'Smruti' 1009 datetime.datetime(2023, 1, 29, 0, 0) 9]\n",
            "  [10 'Vijay' 1010 datetime.datetime(2023, 1, 30, 0, 0) 7]]\n",
            "\n",
            " [['Sr no.' 'Emp Name' 'Emp id' 'Date' 'Leaves']\n",
            "  [1 'Ganesh ' 1001 datetime.datetime(2023, 1, 21, 0, 0) 2]\n",
            "  [2 'Kartik' 1002 datetime.datetime(2023, 1, 22, 0, 0) 4]\n",
            "  [3 'Veera' 1003 datetime.datetime(2023, 1, 23, 0, 0) 8]\n",
            "  [4 'Sanskruti' 1004 datetime.datetime(2023, 1, 24, 0, 0) 6]\n",
            "  [5 'Archana' 1005 datetime.datetime(2023, 1, 25, 0, 0) 1]\n",
            "  [6 'Aradhana' 1006 datetime.datetime(2023, 1, 26, 0, 0) 2]\n",
            "  [7 'Pratham' 1007 datetime.datetime(2023, 1, 27, 0, 0) 3]\n",
            "  [8 'Sayali' 1008 datetime.datetime(2023, 1, 28, 0, 0) 5]\n",
            "  [9 'Smruti' 1009 datetime.datetime(2023, 1, 29, 0, 0) 9]\n",
            "  [10 'Vijay' 1010 datetime.datetime(2023, 1, 30, 0, 0) 7]]]\n"
          ]
        }
      ]
    },
    {
      "cell_type": "code",
      "source": [
        "array=array[:,array[0,:].argsort()]\n",
        "print(array)"
      ],
      "metadata": {
        "colab": {
          "base_uri": "https://localhost:8080/"
        },
        "id": "7vbMlovkyqNt",
        "outputId": "637dc5c6-9027-4019-ccea-df234895c151"
      },
      "execution_count": null,
      "outputs": [
        {
          "output_type": "stream",
          "name": "stdout",
          "text": [
            "[['Date' 'Emp Name' 'Emp id' 'Leaves' 'Sr no.']\n",
            " [datetime.datetime(2023, 1, 21, 0, 0) 'Ganesh ' 1001 2 1]\n",
            " [datetime.datetime(2023, 1, 22, 0, 0) 'Kartik' 1002 4 2]\n",
            " [datetime.datetime(2023, 1, 23, 0, 0) 'Veera' 1003 8 3]\n",
            " [datetime.datetime(2023, 1, 24, 0, 0) 'Sanskruti' 1004 6 4]\n",
            " [datetime.datetime(2023, 1, 25, 0, 0) 'Archana' 1005 1 5]\n",
            " [datetime.datetime(2023, 1, 26, 0, 0) 'Aradhana' 1006 2 6]\n",
            " [datetime.datetime(2023, 1, 27, 0, 0) 'Pratham' 1007 3 7]\n",
            " [datetime.datetime(2023, 1, 28, 0, 0) 'Sayali' 1008 5 8]\n",
            " [datetime.datetime(2023, 1, 29, 0, 0) 'Smruti' 1009 9 9]\n",
            " [datetime.datetime(2023, 1, 30, 0, 0) 'Vijay' 1010 7 10]]\n"
          ]
        }
      ]
    },
    {
      "cell_type": "code",
      "source": [
        "array1=array1[array1[:,1].argsort(kind='mergesort')]\n",
        "print(array1)"
      ],
      "metadata": {
        "colab": {
          "base_uri": "https://localhost:8080/"
        },
        "id": "TOvBATubzMWg",
        "outputId": "e3607eba-0521-4776-d1a9-5ab21b8664d4"
      },
      "execution_count": null,
      "outputs": [
        {
          "output_type": "stream",
          "name": "stdout",
          "text": [
            "[[6 'Aradhana' 1006 datetime.datetime(2023, 1, 26, 0, 0) 2]\n",
            " [5 'Archana' 1005 datetime.datetime(2023, 1, 25, 0, 0) 1]\n",
            " ['Sr no.' 'Emp Name' 'Emp id' 'Date' 'Leaves']\n",
            " [1 'Ganesh ' 1001 datetime.datetime(2023, 1, 21, 0, 0) 2]\n",
            " [2 'Kartik' 1002 datetime.datetime(2023, 1, 22, 0, 0) 4]\n",
            " [7 'Pratham' 1007 datetime.datetime(2023, 1, 27, 0, 0) 3]\n",
            " [4 'Sanskruti' 1004 datetime.datetime(2023, 1, 24, 0, 0) 6]\n",
            " [8 'Sayali' 1008 datetime.datetime(2023, 1, 28, 0, 0) 5]\n",
            " [9 'Smruti' 1009 datetime.datetime(2023, 1, 29, 0, 0) 9]\n",
            " [3 'Veera' 1003 datetime.datetime(2023, 1, 23, 0, 0) 8]\n",
            " [10 'Vijay' 1010 datetime.datetime(2023, 1, 30, 0, 0) 7]]\n"
          ]
        }
      ]
    },
    {
      "cell_type": "code",
      "source": [
        "array3=array1.view()\n",
        "print(array3)"
      ],
      "metadata": {
        "colab": {
          "base_uri": "https://localhost:8080/"
        },
        "id": "zrcveJ_Hzjjl",
        "outputId": "16445a9c-792f-4065-f2b3-4cf644939e45"
      },
      "execution_count": null,
      "outputs": [
        {
          "output_type": "stream",
          "name": "stdout",
          "text": [
            "[[6 'Aradhana' 1006 datetime.datetime(2023, 1, 26, 0, 0) 2]\n",
            " [5 'Archana' 1005 datetime.datetime(2023, 1, 25, 0, 0) 1]\n",
            " ['Sr no.' 'Emp Name' 'Emp id' 'Date' 'Leaves']\n",
            " [1 'Ganesh ' 1001 datetime.datetime(2023, 1, 21, 0, 0) 2]\n",
            " [2 'Kartik' 1002 datetime.datetime(2023, 1, 22, 0, 0) 4]\n",
            " [7 'Pratham' 1007 datetime.datetime(2023, 1, 27, 0, 0) 3]\n",
            " [4 'Sanskruti' 1004 datetime.datetime(2023, 1, 24, 0, 0) 6]\n",
            " [8 'Sayali' 1008 datetime.datetime(2023, 1, 28, 0, 0) 5]\n",
            " [9 'Smruti' 1009 datetime.datetime(2023, 1, 29, 0, 0) 9]\n",
            " [3 'Veera' 1003 datetime.datetime(2023, 1, 23, 0, 0) 8]\n",
            " [10 'Vijay' 1010 datetime.datetime(2023, 1, 30, 0, 0) 7]]\n"
          ]
        }
      ]
    },
    {
      "cell_type": "code",
      "source": [
        "+array2=array1.copy()\n",
        "array3=array2.type()\n",
        "print(array2)\n",
        "print(array3)"
      ],
      "metadata": {
        "colab": {
          "base_uri": "https://localhost:8080/"
        },
        "id": "x7G0km3oztN2",
        "outputId": "ed3b4474-6f91-4934-92ca-151c1c30c395"
      },
      "execution_count": null,
      "outputs": [
        {
          "output_type": "stream",
          "name": "stdout",
          "text": [
            "[[6 'Aradhana' 1006 datetime.datetime(2023, 1, 26, 0, 0) 2]\n",
            " [5 'Archana' 1005 datetime.datetime(2023, 1, 25, 0, 0) 1]\n",
            " ['Sr no.' 'Emp Name' 'Emp id' 'Date' 'Leaves']\n",
            " [1 'Ganesh ' 1001 datetime.datetime(2023, 1, 21, 0, 0) 2]\n",
            " [2 'Kartik' 1002 datetime.datetime(2023, 1, 22, 0, 0) 4]\n",
            " [7 'Pratham' 1007 datetime.datetime(2023, 1, 27, 0, 0) 3]\n",
            " [4 'Sanskruti' 1004 datetime.datetime(2023, 1, 24, 0, 0) 6]\n",
            " [8 'Sayali' 1008 datetime.datetime(2023, 1, 28, 0, 0) 5]\n",
            " [9 'Smruti' 1009 datetime.datetime(2023, 1, 29, 0, 0) 9]\n",
            " [3 'Veera' 1003 datetime.datetime(2023, 1, 23, 0, 0) 8]\n",
            " [10 'Vijay' 1010 datetime.datetime(2023, 1, 30, 0, 0) 7]]\n"
          ]
        }
      ]
    },
    {
      "cell_type": "code",
      "source": [
        "b=int(input(\"vegetable\"))\n",
        "c=int(input(\"grocey\"))\n",
        "d=int(input(\"daily need\"))\n",
        "a=b+c+d\n",
        "print(\"total purchase is\",a)\n",
        "vegrtable=166\n",
        "grocey=166\n",
        "daily_need=166\n",
        "total=500\n",
        "if total>a:\n",
        "  print(\"you can buy all three\")\n",
        "else:\n",
        "  print(\"you cannot buy the items you exceeded your limit\")\n",
        "if b==c==d==grocey:\n",
        "  print(\"you can buy all three item\")  n"
      ],
      "metadata": {
        "id": "tkrwJTMawBKJ"
      },
      "execution_count": null,
      "outputs": []
    },
    {
      "cell_type": "code",
      "source": [
        "import pandas as pd\n",
        "print(\"reading the csv file\")\n",
        "df=pd.read_csv(r'/content/drive/MyDrive/118_swimming_detail.csv')\n",
        "print(df)\n",
        "display(df)"
      ],
      "metadata": {
        "id": "UU9TOBUF4WLc",
        "colab": {
          "base_uri": "https://localhost:8080/",
          "height": 921
        },
        "outputId": "3c9a766e-bbc4-4d9e-8dc1-927957d9c758"
      },
      "execution_count": null,
      "outputs": [
        {
          "output_type": "stream",
          "name": "stdout",
          "text": [
            "reading the csv file\n",
            "       name  age  time allocated   ID  subscription\n",
            "0    ramesh   23               2  101          1100\n",
            "1    rupesh   33               2  102          1100\n",
            "2   swayam    22               1  103           500\n",
            "3    tanmay   33               2  104          1100\n",
            "4     baban   22               2  105          1100\n",
            "5    tushar   13               2  106          1100\n",
            "6    vedant   43               2  107          1100\n",
            "7   atharva   23               2  108          1100\n",
            "8   pratham   23               2  109          1100\n",
            "9     essak   32               2  110          1100\n",
            "10   suyash   18               2  111          1100\n",
            "11     yash   18               1  112           500\n",
            "12   aditya   19               2  113          1100\n",
            "13    rohan   19               2  114          1100\n",
            "14   akshad   20               2  115          1100\n",
            "15     abhi   20               2  116          1100\n",
            "16     veer   30               1  117           500\n",
            "17  samarth   25               1  118           500\n",
            "18   sayali   36               2  119          1100\n",
            "19     arya   23               2  120          1100\n"
          ]
        },
        {
          "output_type": "display_data",
          "data": {
            "text/plain": [
              "       name  age  time allocated   ID  subscription\n",
              "0    ramesh   23               2  101          1100\n",
              "1    rupesh   33               2  102          1100\n",
              "2   swayam    22               1  103           500\n",
              "3    tanmay   33               2  104          1100\n",
              "4     baban   22               2  105          1100\n",
              "5    tushar   13               2  106          1100\n",
              "6    vedant   43               2  107          1100\n",
              "7   atharva   23               2  108          1100\n",
              "8   pratham   23               2  109          1100\n",
              "9     essak   32               2  110          1100\n",
              "10   suyash   18               2  111          1100\n",
              "11     yash   18               1  112           500\n",
              "12   aditya   19               2  113          1100\n",
              "13    rohan   19               2  114          1100\n",
              "14   akshad   20               2  115          1100\n",
              "15     abhi   20               2  116          1100\n",
              "16     veer   30               1  117           500\n",
              "17  samarth   25               1  118           500\n",
              "18   sayali   36               2  119          1100\n",
              "19     arya   23               2  120          1100"
            ],
            "text/html": [
              "\n",
              "  <div id=\"df-ba9501a3-6c7b-40b2-8b3f-ca771b8a90e8\">\n",
              "    <div class=\"colab-df-container\">\n",
              "      <div>\n",
              "<style scoped>\n",
              "    .dataframe tbody tr th:only-of-type {\n",
              "        vertical-align: middle;\n",
              "    }\n",
              "\n",
              "    .dataframe tbody tr th {\n",
              "        vertical-align: top;\n",
              "    }\n",
              "\n",
              "    .dataframe thead th {\n",
              "        text-align: right;\n",
              "    }\n",
              "</style>\n",
              "<table border=\"1\" class=\"dataframe\">\n",
              "  <thead>\n",
              "    <tr style=\"text-align: right;\">\n",
              "      <th></th>\n",
              "      <th>name</th>\n",
              "      <th>age</th>\n",
              "      <th>time allocated</th>\n",
              "      <th>ID</th>\n",
              "      <th>subscription</th>\n",
              "    </tr>\n",
              "  </thead>\n",
              "  <tbody>\n",
              "    <tr>\n",
              "      <th>0</th>\n",
              "      <td>ramesh</td>\n",
              "      <td>23</td>\n",
              "      <td>2</td>\n",
              "      <td>101</td>\n",
              "      <td>1100</td>\n",
              "    </tr>\n",
              "    <tr>\n",
              "      <th>1</th>\n",
              "      <td>rupesh</td>\n",
              "      <td>33</td>\n",
              "      <td>2</td>\n",
              "      <td>102</td>\n",
              "      <td>1100</td>\n",
              "    </tr>\n",
              "    <tr>\n",
              "      <th>2</th>\n",
              "      <td>swayam</td>\n",
              "      <td>22</td>\n",
              "      <td>1</td>\n",
              "      <td>103</td>\n",
              "      <td>500</td>\n",
              "    </tr>\n",
              "    <tr>\n",
              "      <th>3</th>\n",
              "      <td>tanmay</td>\n",
              "      <td>33</td>\n",
              "      <td>2</td>\n",
              "      <td>104</td>\n",
              "      <td>1100</td>\n",
              "    </tr>\n",
              "    <tr>\n",
              "      <th>4</th>\n",
              "      <td>baban</td>\n",
              "      <td>22</td>\n",
              "      <td>2</td>\n",
              "      <td>105</td>\n",
              "      <td>1100</td>\n",
              "    </tr>\n",
              "    <tr>\n",
              "      <th>5</th>\n",
              "      <td>tushar</td>\n",
              "      <td>13</td>\n",
              "      <td>2</td>\n",
              "      <td>106</td>\n",
              "      <td>1100</td>\n",
              "    </tr>\n",
              "    <tr>\n",
              "      <th>6</th>\n",
              "      <td>vedant</td>\n",
              "      <td>43</td>\n",
              "      <td>2</td>\n",
              "      <td>107</td>\n",
              "      <td>1100</td>\n",
              "    </tr>\n",
              "    <tr>\n",
              "      <th>7</th>\n",
              "      <td>atharva</td>\n",
              "      <td>23</td>\n",
              "      <td>2</td>\n",
              "      <td>108</td>\n",
              "      <td>1100</td>\n",
              "    </tr>\n",
              "    <tr>\n",
              "      <th>8</th>\n",
              "      <td>pratham</td>\n",
              "      <td>23</td>\n",
              "      <td>2</td>\n",
              "      <td>109</td>\n",
              "      <td>1100</td>\n",
              "    </tr>\n",
              "    <tr>\n",
              "      <th>9</th>\n",
              "      <td>essak</td>\n",
              "      <td>32</td>\n",
              "      <td>2</td>\n",
              "      <td>110</td>\n",
              "      <td>1100</td>\n",
              "    </tr>\n",
              "    <tr>\n",
              "      <th>10</th>\n",
              "      <td>suyash</td>\n",
              "      <td>18</td>\n",
              "      <td>2</td>\n",
              "      <td>111</td>\n",
              "      <td>1100</td>\n",
              "    </tr>\n",
              "    <tr>\n",
              "      <th>11</th>\n",
              "      <td>yash</td>\n",
              "      <td>18</td>\n",
              "      <td>1</td>\n",
              "      <td>112</td>\n",
              "      <td>500</td>\n",
              "    </tr>\n",
              "    <tr>\n",
              "      <th>12</th>\n",
              "      <td>aditya</td>\n",
              "      <td>19</td>\n",
              "      <td>2</td>\n",
              "      <td>113</td>\n",
              "      <td>1100</td>\n",
              "    </tr>\n",
              "    <tr>\n",
              "      <th>13</th>\n",
              "      <td>rohan</td>\n",
              "      <td>19</td>\n",
              "      <td>2</td>\n",
              "      <td>114</td>\n",
              "      <td>1100</td>\n",
              "    </tr>\n",
              "    <tr>\n",
              "      <th>14</th>\n",
              "      <td>akshad</td>\n",
              "      <td>20</td>\n",
              "      <td>2</td>\n",
              "      <td>115</td>\n",
              "      <td>1100</td>\n",
              "    </tr>\n",
              "    <tr>\n",
              "      <th>15</th>\n",
              "      <td>abhi</td>\n",
              "      <td>20</td>\n",
              "      <td>2</td>\n",
              "      <td>116</td>\n",
              "      <td>1100</td>\n",
              "    </tr>\n",
              "    <tr>\n",
              "      <th>16</th>\n",
              "      <td>veer</td>\n",
              "      <td>30</td>\n",
              "      <td>1</td>\n",
              "      <td>117</td>\n",
              "      <td>500</td>\n",
              "    </tr>\n",
              "    <tr>\n",
              "      <th>17</th>\n",
              "      <td>samarth</td>\n",
              "      <td>25</td>\n",
              "      <td>1</td>\n",
              "      <td>118</td>\n",
              "      <td>500</td>\n",
              "    </tr>\n",
              "    <tr>\n",
              "      <th>18</th>\n",
              "      <td>sayali</td>\n",
              "      <td>36</td>\n",
              "      <td>2</td>\n",
              "      <td>119</td>\n",
              "      <td>1100</td>\n",
              "    </tr>\n",
              "    <tr>\n",
              "      <th>19</th>\n",
              "      <td>arya</td>\n",
              "      <td>23</td>\n",
              "      <td>2</td>\n",
              "      <td>120</td>\n",
              "      <td>1100</td>\n",
              "    </tr>\n",
              "  </tbody>\n",
              "</table>\n",
              "</div>\n",
              "      <button class=\"colab-df-convert\" onclick=\"convertToInteractive('df-ba9501a3-6c7b-40b2-8b3f-ca771b8a90e8')\"\n",
              "              title=\"Convert this dataframe to an interactive table.\"\n",
              "              style=\"display:none;\">\n",
              "        \n",
              "  <svg xmlns=\"http://www.w3.org/2000/svg\" height=\"24px\"viewBox=\"0 0 24 24\"\n",
              "       width=\"24px\">\n",
              "    <path d=\"M0 0h24v24H0V0z\" fill=\"none\"/>\n",
              "    <path d=\"M18.56 5.44l.94 2.06.94-2.06 2.06-.94-2.06-.94-.94-2.06-.94 2.06-2.06.94zm-11 1L8.5 8.5l.94-2.06 2.06-.94-2.06-.94L8.5 2.5l-.94 2.06-2.06.94zm10 10l.94 2.06.94-2.06 2.06-.94-2.06-.94-.94-2.06-.94 2.06-2.06.94z\"/><path d=\"M17.41 7.96l-1.37-1.37c-.4-.4-.92-.59-1.43-.59-.52 0-1.04.2-1.43.59L10.3 9.45l-7.72 7.72c-.78.78-.78 2.05 0 2.83L4 21.41c.39.39.9.59 1.41.59.51 0 1.02-.2 1.41-.59l7.78-7.78 2.81-2.81c.8-.78.8-2.07 0-2.86zM5.41 20L4 18.59l7.72-7.72 1.47 1.35L5.41 20z\"/>\n",
              "  </svg>\n",
              "      </button>\n",
              "      \n",
              "  <style>\n",
              "    .colab-df-container {\n",
              "      display:flex;\n",
              "      flex-wrap:wrap;\n",
              "      gap: 12px;\n",
              "    }\n",
              "\n",
              "    .colab-df-convert {\n",
              "      background-color: #E8F0FE;\n",
              "      border: none;\n",
              "      border-radius: 50%;\n",
              "      cursor: pointer;\n",
              "      display: none;\n",
              "      fill: #1967D2;\n",
              "      height: 32px;\n",
              "      padding: 0 0 0 0;\n",
              "      width: 32px;\n",
              "    }\n",
              "\n",
              "    .colab-df-convert:hover {\n",
              "      background-color: #E2EBFA;\n",
              "      box-shadow: 0px 1px 2px rgba(60, 64, 67, 0.3), 0px 1px 3px 1px rgba(60, 64, 67, 0.15);\n",
              "      fill: #174EA6;\n",
              "    }\n",
              "\n",
              "    [theme=dark] .colab-df-convert {\n",
              "      background-color: #3B4455;\n",
              "      fill: #D2E3FC;\n",
              "    }\n",
              "\n",
              "    [theme=dark] .colab-df-convert:hover {\n",
              "      background-color: #434B5C;\n",
              "      box-shadow: 0px 1px 3px 1px rgba(0, 0, 0, 0.15);\n",
              "      filter: drop-shadow(0px 1px 2px rgba(0, 0, 0, 0.3));\n",
              "      fill: #FFFFFF;\n",
              "    }\n",
              "  </style>\n",
              "\n",
              "      <script>\n",
              "        const buttonEl =\n",
              "          document.querySelector('#df-ba9501a3-6c7b-40b2-8b3f-ca771b8a90e8 button.colab-df-convert');\n",
              "        buttonEl.style.display =\n",
              "          google.colab.kernel.accessAllowed ? 'block' : 'none';\n",
              "\n",
              "        async function convertToInteractive(key) {\n",
              "          const element = document.querySelector('#df-ba9501a3-6c7b-40b2-8b3f-ca771b8a90e8');\n",
              "          const dataTable =\n",
              "            await google.colab.kernel.invokeFunction('convertToInteractive',\n",
              "                                                     [key], {});\n",
              "          if (!dataTable) return;\n",
              "\n",
              "          const docLinkHtml = 'Like what you see? Visit the ' +\n",
              "            '<a target=\"_blank\" href=https://colab.research.google.com/notebooks/data_table.ipynb>data table notebook</a>'\n",
              "            + ' to learn more about interactive tables.';\n",
              "          element.innerHTML = '';\n",
              "          dataTable['output_type'] = 'display_data';\n",
              "          await google.colab.output.renderOutput(dataTable, element);\n",
              "          const docLink = document.createElement('div');\n",
              "          docLink.innerHTML = docLinkHtml;\n",
              "          element.appendChild(docLink);\n",
              "        }\n",
              "      </script>\n",
              "    </div>\n",
              "  </div>\n",
              "  "
            ]
          },
          "metadata": {}
        }
      ]
    },
    {
      "cell_type": "code",
      "source": [
        "import pandas as pd\n",
        "df=pd.read_csv('/content/drive/MyDrive/NAME 118.csv')\n",
        "print(df)\n",
        "a=df['cgpa']\n",
        "b=df['name']\n",
        "df.cgpa=df.cgpa.astype('int64')\n",
        "d=df['name'][df.cgpa>4]\n",
        "def student(a,b,d):\n",
        "  print('stud:',a,b)\n",
        "\n",
        "def student(d):\n",
        "  print(d)\n",
        "student(d)"
      ],
      "metadata": {
        "id": "6ZhLcghrdnEX",
        "colab": {
          "base_uri": "https://localhost:8080/"
        },
        "outputId": "4d70865a-3a49-4532-e76f-a1192ff1b93c"
      },
      "execution_count": null,
      "outputs": [
        {
          "output_type": "stream",
          "name": "stdout",
          "text": [
            "        name  roll no  div  cgpa\n",
            "0     tanmay       101   A     9\n",
            "1      rohan       102   B     8\n",
            "2   shreyash       103   A     9\n",
            "3     rakesh       104   B     7\n",
            "4     ramesh       105   A     6\n",
            "5     rupesh       106   A     5\n",
            "6     paresh       107   B     8\n",
            "7    atharva       108   A     6\n",
            "8  prathmesh       109   B     4\n",
            "9       yash       110   A     4\n",
            "0      tanmay\n",
            "1       rohan\n",
            "2    shreyash\n",
            "3      rakesh\n",
            "4      ramesh\n",
            "5      rupesh\n",
            "6      paresh\n",
            "7     atharva\n",
            "Name: name, dtype: object\n"
          ]
        }
      ]
    },
    {
      "cell_type": "code",
      "source": [
        "import pandas as pd\n",
        "df=pd.read_csv('/content/drive/MyDrive/118 HOBBY.csv')\n",
        "display(df)\n",
        "df1=pd.read_csv(r'/content/drive/MyDrive/118 HOBBY 2.csv')\n",
        "print(df1)"
      ],
      "metadata": {
        "id": "RHYGUd7_mzNi",
        "colab": {
          "base_uri": "https://localhost:8080/",
          "height": 554
        },
        "outputId": "1830d7c3-bdbc-4a3a-d099-a8b18b37c3cd"
      },
      "execution_count": null,
      "outputs": [
        {
          "output_type": "display_data",
          "data": {
            "text/plain": [
              "   sr no     name    hobby  age division\n",
              "0      1   ramesh  reading   12        A\n",
              "1      2   rupesh  writing   23        B\n",
              "2      3   suresh  drivimg   43        C\n",
              "3      4  msngesh  driving   22        B\n",
              "4      5   rakesh  writing   11        A\n",
              "5      6   mahesh  reading   33        B\n",
              "6      7   paresh  driving   17        B\n",
              "7      8   dinesh  reading   16        C\n",
              "8      9   ritesh  reading   18        C\n",
              "9     10   salman  writing   45        A"
            ],
            "text/html": [
              "\n",
              "  <div id=\"df-ab8dc106-f43c-4531-8bf2-a3244b252bb5\">\n",
              "    <div class=\"colab-df-container\">\n",
              "      <div>\n",
              "<style scoped>\n",
              "    .dataframe tbody tr th:only-of-type {\n",
              "        vertical-align: middle;\n",
              "    }\n",
              "\n",
              "    .dataframe tbody tr th {\n",
              "        vertical-align: top;\n",
              "    }\n",
              "\n",
              "    .dataframe thead th {\n",
              "        text-align: right;\n",
              "    }\n",
              "</style>\n",
              "<table border=\"1\" class=\"dataframe\">\n",
              "  <thead>\n",
              "    <tr style=\"text-align: right;\">\n",
              "      <th></th>\n",
              "      <th>sr no</th>\n",
              "      <th>name</th>\n",
              "      <th>hobby</th>\n",
              "      <th>age</th>\n",
              "      <th>division</th>\n",
              "    </tr>\n",
              "  </thead>\n",
              "  <tbody>\n",
              "    <tr>\n",
              "      <th>0</th>\n",
              "      <td>1</td>\n",
              "      <td>ramesh</td>\n",
              "      <td>reading</td>\n",
              "      <td>12</td>\n",
              "      <td>A</td>\n",
              "    </tr>\n",
              "    <tr>\n",
              "      <th>1</th>\n",
              "      <td>2</td>\n",
              "      <td>rupesh</td>\n",
              "      <td>writing</td>\n",
              "      <td>23</td>\n",
              "      <td>B</td>\n",
              "    </tr>\n",
              "    <tr>\n",
              "      <th>2</th>\n",
              "      <td>3</td>\n",
              "      <td>suresh</td>\n",
              "      <td>drivimg</td>\n",
              "      <td>43</td>\n",
              "      <td>C</td>\n",
              "    </tr>\n",
              "    <tr>\n",
              "      <th>3</th>\n",
              "      <td>4</td>\n",
              "      <td>msngesh</td>\n",
              "      <td>driving</td>\n",
              "      <td>22</td>\n",
              "      <td>B</td>\n",
              "    </tr>\n",
              "    <tr>\n",
              "      <th>4</th>\n",
              "      <td>5</td>\n",
              "      <td>rakesh</td>\n",
              "      <td>writing</td>\n",
              "      <td>11</td>\n",
              "      <td>A</td>\n",
              "    </tr>\n",
              "    <tr>\n",
              "      <th>5</th>\n",
              "      <td>6</td>\n",
              "      <td>mahesh</td>\n",
              "      <td>reading</td>\n",
              "      <td>33</td>\n",
              "      <td>B</td>\n",
              "    </tr>\n",
              "    <tr>\n",
              "      <th>6</th>\n",
              "      <td>7</td>\n",
              "      <td>paresh</td>\n",
              "      <td>driving</td>\n",
              "      <td>17</td>\n",
              "      <td>B</td>\n",
              "    </tr>\n",
              "    <tr>\n",
              "      <th>7</th>\n",
              "      <td>8</td>\n",
              "      <td>dinesh</td>\n",
              "      <td>reading</td>\n",
              "      <td>16</td>\n",
              "      <td>C</td>\n",
              "    </tr>\n",
              "    <tr>\n",
              "      <th>8</th>\n",
              "      <td>9</td>\n",
              "      <td>ritesh</td>\n",
              "      <td>reading</td>\n",
              "      <td>18</td>\n",
              "      <td>C</td>\n",
              "    </tr>\n",
              "    <tr>\n",
              "      <th>9</th>\n",
              "      <td>10</td>\n",
              "      <td>salman</td>\n",
              "      <td>writing</td>\n",
              "      <td>45</td>\n",
              "      <td>A</td>\n",
              "    </tr>\n",
              "  </tbody>\n",
              "</table>\n",
              "</div>\n",
              "      <button class=\"colab-df-convert\" onclick=\"convertToInteractive('df-ab8dc106-f43c-4531-8bf2-a3244b252bb5')\"\n",
              "              title=\"Convert this dataframe to an interactive table.\"\n",
              "              style=\"display:none;\">\n",
              "        \n",
              "  <svg xmlns=\"http://www.w3.org/2000/svg\" height=\"24px\"viewBox=\"0 0 24 24\"\n",
              "       width=\"24px\">\n",
              "    <path d=\"M0 0h24v24H0V0z\" fill=\"none\"/>\n",
              "    <path d=\"M18.56 5.44l.94 2.06.94-2.06 2.06-.94-2.06-.94-.94-2.06-.94 2.06-2.06.94zm-11 1L8.5 8.5l.94-2.06 2.06-.94-2.06-.94L8.5 2.5l-.94 2.06-2.06.94zm10 10l.94 2.06.94-2.06 2.06-.94-2.06-.94-.94-2.06-.94 2.06-2.06.94z\"/><path d=\"M17.41 7.96l-1.37-1.37c-.4-.4-.92-.59-1.43-.59-.52 0-1.04.2-1.43.59L10.3 9.45l-7.72 7.72c-.78.78-.78 2.05 0 2.83L4 21.41c.39.39.9.59 1.41.59.51 0 1.02-.2 1.41-.59l7.78-7.78 2.81-2.81c.8-.78.8-2.07 0-2.86zM5.41 20L4 18.59l7.72-7.72 1.47 1.35L5.41 20z\"/>\n",
              "  </svg>\n",
              "      </button>\n",
              "      \n",
              "  <style>\n",
              "    .colab-df-container {\n",
              "      display:flex;\n",
              "      flex-wrap:wrap;\n",
              "      gap: 12px;\n",
              "    }\n",
              "\n",
              "    .colab-df-convert {\n",
              "      background-color: #E8F0FE;\n",
              "      border: none;\n",
              "      border-radius: 50%;\n",
              "      cursor: pointer;\n",
              "      display: none;\n",
              "      fill: #1967D2;\n",
              "      height: 32px;\n",
              "      padding: 0 0 0 0;\n",
              "      width: 32px;\n",
              "    }\n",
              "\n",
              "    .colab-df-convert:hover {\n",
              "      background-color: #E2EBFA;\n",
              "      box-shadow: 0px 1px 2px rgba(60, 64, 67, 0.3), 0px 1px 3px 1px rgba(60, 64, 67, 0.15);\n",
              "      fill: #174EA6;\n",
              "    }\n",
              "\n",
              "    [theme=dark] .colab-df-convert {\n",
              "      background-color: #3B4455;\n",
              "      fill: #D2E3FC;\n",
              "    }\n",
              "\n",
              "    [theme=dark] .colab-df-convert:hover {\n",
              "      background-color: #434B5C;\n",
              "      box-shadow: 0px 1px 3px 1px rgba(0, 0, 0, 0.15);\n",
              "      filter: drop-shadow(0px 1px 2px rgba(0, 0, 0, 0.3));\n",
              "      fill: #FFFFFF;\n",
              "    }\n",
              "  </style>\n",
              "\n",
              "      <script>\n",
              "        const buttonEl =\n",
              "          document.querySelector('#df-ab8dc106-f43c-4531-8bf2-a3244b252bb5 button.colab-df-convert');\n",
              "        buttonEl.style.display =\n",
              "          google.colab.kernel.accessAllowed ? 'block' : 'none';\n",
              "\n",
              "        async function convertToInteractive(key) {\n",
              "          const element = document.querySelector('#df-ab8dc106-f43c-4531-8bf2-a3244b252bb5');\n",
              "          const dataTable =\n",
              "            await google.colab.kernel.invokeFunction('convertToInteractive',\n",
              "                                                     [key], {});\n",
              "          if (!dataTable) return;\n",
              "\n",
              "          const docLinkHtml = 'Like what you see? Visit the ' +\n",
              "            '<a target=\"_blank\" href=https://colab.research.google.com/notebooks/data_table.ipynb>data table notebook</a>'\n",
              "            + ' to learn more about interactive tables.';\n",
              "          element.innerHTML = '';\n",
              "          dataTable['output_type'] = 'display_data';\n",
              "          await google.colab.output.renderOutput(dataTable, element);\n",
              "          const docLink = document.createElement('div');\n",
              "          docLink.innerHTML = docLinkHtml;\n",
              "          element.appendChild(docLink);\n",
              "        }\n",
              "      </script>\n",
              "    </div>\n",
              "  </div>\n",
              "  "
            ]
          },
          "metadata": {}
        },
        {
          "output_type": "stream",
          "name": "stdout",
          "text": [
            "   sr no  experince\n",
            "0      1          5\n",
            "1      2          6\n",
            "2      3          4\n",
            "3      4          7\n",
            "4      5          4\n",
            "5      6          2\n",
            "6      7          1\n",
            "7      8          4\n",
            "8      9          5\n",
            "9     10         35\n"
          ]
        }
      ]
    },
    {
      "cell_type": "code",
      "source": [
        "import pandas as pa\n",
        "df.sort_values(by=['age'])"
      ],
      "metadata": {
        "colab": {
          "base_uri": "https://localhost:8080/",
          "height": 363
        },
        "id": "_-8ZKh3ZMwHe",
        "outputId": "ca1549b2-8c7b-45b1-b644-f4e4f1b488a4"
      },
      "execution_count": null,
      "outputs": [
        {
          "output_type": "execute_result",
          "data": {
            "text/plain": [
              "   sr no     name    hobby  age division\n",
              "4      5   rakesh  writing   11        A\n",
              "0      1   ramesh  reading   12        A\n",
              "7      8   dinesh  reading   16        C\n",
              "6      7   paresh  driving   17        B\n",
              "8      9   ritesh  reading   18        C\n",
              "3      4  msngesh  driving   22        B\n",
              "1      2   rupesh  writing   23        B\n",
              "5      6   mahesh  reading   33        B\n",
              "2      3   suresh  drivimg   43        C\n",
              "9     10   salman  writing   45        A"
            ],
            "text/html": [
              "\n",
              "  <div id=\"df-559cd197-eb3a-4b6e-8b2b-bfd3f12a968a\">\n",
              "    <div class=\"colab-df-container\">\n",
              "      <div>\n",
              "<style scoped>\n",
              "    .dataframe tbody tr th:only-of-type {\n",
              "        vertical-align: middle;\n",
              "    }\n",
              "\n",
              "    .dataframe tbody tr th {\n",
              "        vertical-align: top;\n",
              "    }\n",
              "\n",
              "    .dataframe thead th {\n",
              "        text-align: right;\n",
              "    }\n",
              "</style>\n",
              "<table border=\"1\" class=\"dataframe\">\n",
              "  <thead>\n",
              "    <tr style=\"text-align: right;\">\n",
              "      <th></th>\n",
              "      <th>sr no</th>\n",
              "      <th>name</th>\n",
              "      <th>hobby</th>\n",
              "      <th>age</th>\n",
              "      <th>division</th>\n",
              "    </tr>\n",
              "  </thead>\n",
              "  <tbody>\n",
              "    <tr>\n",
              "      <th>4</th>\n",
              "      <td>5</td>\n",
              "      <td>rakesh</td>\n",
              "      <td>writing</td>\n",
              "      <td>11</td>\n",
              "      <td>A</td>\n",
              "    </tr>\n",
              "    <tr>\n",
              "      <th>0</th>\n",
              "      <td>1</td>\n",
              "      <td>ramesh</td>\n",
              "      <td>reading</td>\n",
              "      <td>12</td>\n",
              "      <td>A</td>\n",
              "    </tr>\n",
              "    <tr>\n",
              "      <th>7</th>\n",
              "      <td>8</td>\n",
              "      <td>dinesh</td>\n",
              "      <td>reading</td>\n",
              "      <td>16</td>\n",
              "      <td>C</td>\n",
              "    </tr>\n",
              "    <tr>\n",
              "      <th>6</th>\n",
              "      <td>7</td>\n",
              "      <td>paresh</td>\n",
              "      <td>driving</td>\n",
              "      <td>17</td>\n",
              "      <td>B</td>\n",
              "    </tr>\n",
              "    <tr>\n",
              "      <th>8</th>\n",
              "      <td>9</td>\n",
              "      <td>ritesh</td>\n",
              "      <td>reading</td>\n",
              "      <td>18</td>\n",
              "      <td>C</td>\n",
              "    </tr>\n",
              "    <tr>\n",
              "      <th>3</th>\n",
              "      <td>4</td>\n",
              "      <td>msngesh</td>\n",
              "      <td>driving</td>\n",
              "      <td>22</td>\n",
              "      <td>B</td>\n",
              "    </tr>\n",
              "    <tr>\n",
              "      <th>1</th>\n",
              "      <td>2</td>\n",
              "      <td>rupesh</td>\n",
              "      <td>writing</td>\n",
              "      <td>23</td>\n",
              "      <td>B</td>\n",
              "    </tr>\n",
              "    <tr>\n",
              "      <th>5</th>\n",
              "      <td>6</td>\n",
              "      <td>mahesh</td>\n",
              "      <td>reading</td>\n",
              "      <td>33</td>\n",
              "      <td>B</td>\n",
              "    </tr>\n",
              "    <tr>\n",
              "      <th>2</th>\n",
              "      <td>3</td>\n",
              "      <td>suresh</td>\n",
              "      <td>drivimg</td>\n",
              "      <td>43</td>\n",
              "      <td>C</td>\n",
              "    </tr>\n",
              "    <tr>\n",
              "      <th>9</th>\n",
              "      <td>10</td>\n",
              "      <td>salman</td>\n",
              "      <td>writing</td>\n",
              "      <td>45</td>\n",
              "      <td>A</td>\n",
              "    </tr>\n",
              "  </tbody>\n",
              "</table>\n",
              "</div>\n",
              "      <button class=\"colab-df-convert\" onclick=\"convertToInteractive('df-559cd197-eb3a-4b6e-8b2b-bfd3f12a968a')\"\n",
              "              title=\"Convert this dataframe to an interactive table.\"\n",
              "              style=\"display:none;\">\n",
              "        \n",
              "  <svg xmlns=\"http://www.w3.org/2000/svg\" height=\"24px\"viewBox=\"0 0 24 24\"\n",
              "       width=\"24px\">\n",
              "    <path d=\"M0 0h24v24H0V0z\" fill=\"none\"/>\n",
              "    <path d=\"M18.56 5.44l.94 2.06.94-2.06 2.06-.94-2.06-.94-.94-2.06-.94 2.06-2.06.94zm-11 1L8.5 8.5l.94-2.06 2.06-.94-2.06-.94L8.5 2.5l-.94 2.06-2.06.94zm10 10l.94 2.06.94-2.06 2.06-.94-2.06-.94-.94-2.06-.94 2.06-2.06.94z\"/><path d=\"M17.41 7.96l-1.37-1.37c-.4-.4-.92-.59-1.43-.59-.52 0-1.04.2-1.43.59L10.3 9.45l-7.72 7.72c-.78.78-.78 2.05 0 2.83L4 21.41c.39.39.9.59 1.41.59.51 0 1.02-.2 1.41-.59l7.78-7.78 2.81-2.81c.8-.78.8-2.07 0-2.86zM5.41 20L4 18.59l7.72-7.72 1.47 1.35L5.41 20z\"/>\n",
              "  </svg>\n",
              "      </button>\n",
              "      \n",
              "  <style>\n",
              "    .colab-df-container {\n",
              "      display:flex;\n",
              "      flex-wrap:wrap;\n",
              "      gap: 12px;\n",
              "    }\n",
              "\n",
              "    .colab-df-convert {\n",
              "      background-color: #E8F0FE;\n",
              "      border: none;\n",
              "      border-radius: 50%;\n",
              "      cursor: pointer;\n",
              "      display: none;\n",
              "      fill: #1967D2;\n",
              "      height: 32px;\n",
              "      padding: 0 0 0 0;\n",
              "      width: 32px;\n",
              "    }\n",
              "\n",
              "    .colab-df-convert:hover {\n",
              "      background-color: #E2EBFA;\n",
              "      box-shadow: 0px 1px 2px rgba(60, 64, 67, 0.3), 0px 1px 3px 1px rgba(60, 64, 67, 0.15);\n",
              "      fill: #174EA6;\n",
              "    }\n",
              "\n",
              "    [theme=dark] .colab-df-convert {\n",
              "      background-color: #3B4455;\n",
              "      fill: #D2E3FC;\n",
              "    }\n",
              "\n",
              "    [theme=dark] .colab-df-convert:hover {\n",
              "      background-color: #434B5C;\n",
              "      box-shadow: 0px 1px 3px 1px rgba(0, 0, 0, 0.15);\n",
              "      filter: drop-shadow(0px 1px 2px rgba(0, 0, 0, 0.3));\n",
              "      fill: #FFFFFF;\n",
              "    }\n",
              "  </style>\n",
              "\n",
              "      <script>\n",
              "        const buttonEl =\n",
              "          document.querySelector('#df-559cd197-eb3a-4b6e-8b2b-bfd3f12a968a button.colab-df-convert');\n",
              "        buttonEl.style.display =\n",
              "          google.colab.kernel.accessAllowed ? 'block' : 'none';\n",
              "\n",
              "        async function convertToInteractive(key) {\n",
              "          const element = document.querySelector('#df-559cd197-eb3a-4b6e-8b2b-bfd3f12a968a');\n",
              "          const dataTable =\n",
              "            await google.colab.kernel.invokeFunction('convertToInteractive',\n",
              "                                                     [key], {});\n",
              "          if (!dataTable) return;\n",
              "\n",
              "          const docLinkHtml = 'Like what you see? Visit the ' +\n",
              "            '<a target=\"_blank\" href=https://colab.research.google.com/notebooks/data_table.ipynb>data table notebook</a>'\n",
              "            + ' to learn more about interactive tables.';\n",
              "          element.innerHTML = '';\n",
              "          dataTable['output_type'] = 'display_data';\n",
              "          await google.colab.output.renderOutput(dataTable, element);\n",
              "          const docLink = document.createElement('div');\n",
              "          docLink.innerHTML = docLinkHtml;\n",
              "          element.appendChild(docLink);\n",
              "        }\n",
              "      </script>\n",
              "    </div>\n",
              "  </div>\n",
              "  "
            ]
          },
          "metadata": {},
          "execution_count": 9
        }
      ]
    },
    {
      "cell_type": "code",
      "source": [
        "import pandas as pa\n",
        "df.sort_values(by=['age'],ascending=False)"
      ],
      "metadata": {
        "colab": {
          "base_uri": "https://localhost:8080/",
          "height": 363
        },
        "id": "ruCzkVX8Myiu",
        "outputId": "9c332ea3-8acb-43aa-9b5f-98c53a2e9244"
      },
      "execution_count": null,
      "outputs": [
        {
          "output_type": "execute_result",
          "data": {
            "text/plain": [
              "   sr no     name    hobby  age division\n",
              "9     10   salman  writing   45        A\n",
              "2      3   suresh  drivimg   43        C\n",
              "5      6   mahesh  reading   33        B\n",
              "1      2   rupesh  writing   23        B\n",
              "3      4  msngesh  driving   22        B\n",
              "8      9   ritesh  reading   18        C\n",
              "6      7   paresh  driving   17        B\n",
              "7      8   dinesh  reading   16        C\n",
              "0      1   ramesh  reading   12        A\n",
              "4      5   rakesh  writing   11        A"
            ],
            "text/html": [
              "\n",
              "  <div id=\"df-2197fca3-9840-4e2f-a63f-88e8970042b8\">\n",
              "    <div class=\"colab-df-container\">\n",
              "      <div>\n",
              "<style scoped>\n",
              "    .dataframe tbody tr th:only-of-type {\n",
              "        vertical-align: middle;\n",
              "    }\n",
              "\n",
              "    .dataframe tbody tr th {\n",
              "        vertical-align: top;\n",
              "    }\n",
              "\n",
              "    .dataframe thead th {\n",
              "        text-align: right;\n",
              "    }\n",
              "</style>\n",
              "<table border=\"1\" class=\"dataframe\">\n",
              "  <thead>\n",
              "    <tr style=\"text-align: right;\">\n",
              "      <th></th>\n",
              "      <th>sr no</th>\n",
              "      <th>name</th>\n",
              "      <th>hobby</th>\n",
              "      <th>age</th>\n",
              "      <th>division</th>\n",
              "    </tr>\n",
              "  </thead>\n",
              "  <tbody>\n",
              "    <tr>\n",
              "      <th>9</th>\n",
              "      <td>10</td>\n",
              "      <td>salman</td>\n",
              "      <td>writing</td>\n",
              "      <td>45</td>\n",
              "      <td>A</td>\n",
              "    </tr>\n",
              "    <tr>\n",
              "      <th>2</th>\n",
              "      <td>3</td>\n",
              "      <td>suresh</td>\n",
              "      <td>drivimg</td>\n",
              "      <td>43</td>\n",
              "      <td>C</td>\n",
              "    </tr>\n",
              "    <tr>\n",
              "      <th>5</th>\n",
              "      <td>6</td>\n",
              "      <td>mahesh</td>\n",
              "      <td>reading</td>\n",
              "      <td>33</td>\n",
              "      <td>B</td>\n",
              "    </tr>\n",
              "    <tr>\n",
              "      <th>1</th>\n",
              "      <td>2</td>\n",
              "      <td>rupesh</td>\n",
              "      <td>writing</td>\n",
              "      <td>23</td>\n",
              "      <td>B</td>\n",
              "    </tr>\n",
              "    <tr>\n",
              "      <th>3</th>\n",
              "      <td>4</td>\n",
              "      <td>msngesh</td>\n",
              "      <td>driving</td>\n",
              "      <td>22</td>\n",
              "      <td>B</td>\n",
              "    </tr>\n",
              "    <tr>\n",
              "      <th>8</th>\n",
              "      <td>9</td>\n",
              "      <td>ritesh</td>\n",
              "      <td>reading</td>\n",
              "      <td>18</td>\n",
              "      <td>C</td>\n",
              "    </tr>\n",
              "    <tr>\n",
              "      <th>6</th>\n",
              "      <td>7</td>\n",
              "      <td>paresh</td>\n",
              "      <td>driving</td>\n",
              "      <td>17</td>\n",
              "      <td>B</td>\n",
              "    </tr>\n",
              "    <tr>\n",
              "      <th>7</th>\n",
              "      <td>8</td>\n",
              "      <td>dinesh</td>\n",
              "      <td>reading</td>\n",
              "      <td>16</td>\n",
              "      <td>C</td>\n",
              "    </tr>\n",
              "    <tr>\n",
              "      <th>0</th>\n",
              "      <td>1</td>\n",
              "      <td>ramesh</td>\n",
              "      <td>reading</td>\n",
              "      <td>12</td>\n",
              "      <td>A</td>\n",
              "    </tr>\n",
              "    <tr>\n",
              "      <th>4</th>\n",
              "      <td>5</td>\n",
              "      <td>rakesh</td>\n",
              "      <td>writing</td>\n",
              "      <td>11</td>\n",
              "      <td>A</td>\n",
              "    </tr>\n",
              "  </tbody>\n",
              "</table>\n",
              "</div>\n",
              "      <button class=\"colab-df-convert\" onclick=\"convertToInteractive('df-2197fca3-9840-4e2f-a63f-88e8970042b8')\"\n",
              "              title=\"Convert this dataframe to an interactive table.\"\n",
              "              style=\"display:none;\">\n",
              "        \n",
              "  <svg xmlns=\"http://www.w3.org/2000/svg\" height=\"24px\"viewBox=\"0 0 24 24\"\n",
              "       width=\"24px\">\n",
              "    <path d=\"M0 0h24v24H0V0z\" fill=\"none\"/>\n",
              "    <path d=\"M18.56 5.44l.94 2.06.94-2.06 2.06-.94-2.06-.94-.94-2.06-.94 2.06-2.06.94zm-11 1L8.5 8.5l.94-2.06 2.06-.94-2.06-.94L8.5 2.5l-.94 2.06-2.06.94zm10 10l.94 2.06.94-2.06 2.06-.94-2.06-.94-.94-2.06-.94 2.06-2.06.94z\"/><path d=\"M17.41 7.96l-1.37-1.37c-.4-.4-.92-.59-1.43-.59-.52 0-1.04.2-1.43.59L10.3 9.45l-7.72 7.72c-.78.78-.78 2.05 0 2.83L4 21.41c.39.39.9.59 1.41.59.51 0 1.02-.2 1.41-.59l7.78-7.78 2.81-2.81c.8-.78.8-2.07 0-2.86zM5.41 20L4 18.59l7.72-7.72 1.47 1.35L5.41 20z\"/>\n",
              "  </svg>\n",
              "      </button>\n",
              "      \n",
              "  <style>\n",
              "    .colab-df-container {\n",
              "      display:flex;\n",
              "      flex-wrap:wrap;\n",
              "      gap: 12px;\n",
              "    }\n",
              "\n",
              "    .colab-df-convert {\n",
              "      background-color: #E8F0FE;\n",
              "      border: none;\n",
              "      border-radius: 50%;\n",
              "      cursor: pointer;\n",
              "      display: none;\n",
              "      fill: #1967D2;\n",
              "      height: 32px;\n",
              "      padding: 0 0 0 0;\n",
              "      width: 32px;\n",
              "    }\n",
              "\n",
              "    .colab-df-convert:hover {\n",
              "      background-color: #E2EBFA;\n",
              "      box-shadow: 0px 1px 2px rgba(60, 64, 67, 0.3), 0px 1px 3px 1px rgba(60, 64, 67, 0.15);\n",
              "      fill: #174EA6;\n",
              "    }\n",
              "\n",
              "    [theme=dark] .colab-df-convert {\n",
              "      background-color: #3B4455;\n",
              "      fill: #D2E3FC;\n",
              "    }\n",
              "\n",
              "    [theme=dark] .colab-df-convert:hover {\n",
              "      background-color: #434B5C;\n",
              "      box-shadow: 0px 1px 3px 1px rgba(0, 0, 0, 0.15);\n",
              "      filter: drop-shadow(0px 1px 2px rgba(0, 0, 0, 0.3));\n",
              "      fill: #FFFFFF;\n",
              "    }\n",
              "  </style>\n",
              "\n",
              "      <script>\n",
              "        const buttonEl =\n",
              "          document.querySelector('#df-2197fca3-9840-4e2f-a63f-88e8970042b8 button.colab-df-convert');\n",
              "        buttonEl.style.display =\n",
              "          google.colab.kernel.accessAllowed ? 'block' : 'none';\n",
              "\n",
              "        async function convertToInteractive(key) {\n",
              "          const element = document.querySelector('#df-2197fca3-9840-4e2f-a63f-88e8970042b8');\n",
              "          const dataTable =\n",
              "            await google.colab.kernel.invokeFunction('convertToInteractive',\n",
              "                                                     [key], {});\n",
              "          if (!dataTable) return;\n",
              "\n",
              "          const docLinkHtml = 'Like what you see? Visit the ' +\n",
              "            '<a target=\"_blank\" href=https://colab.research.google.com/notebooks/data_table.ipynb>data table notebook</a>'\n",
              "            + ' to learn more about interactive tables.';\n",
              "          element.innerHTML = '';\n",
              "          dataTable['output_type'] = 'display_data';\n",
              "          await google.colab.output.renderOutput(dataTable, element);\n",
              "          const docLink = document.createElement('div');\n",
              "          docLink.innerHTML = docLinkHtml;\n",
              "          element.appendChild(docLink);\n",
              "        }\n",
              "      </script>\n",
              "    </div>\n",
              "  </div>\n",
              "  "
            ]
          },
          "metadata": {},
          "execution_count": 10
        }
      ]
    },
    {
      "cell_type": "code",
      "source": [
        "display(df,df1)"
      ],
      "metadata": {
        "colab": {
          "base_uri": "https://localhost:8080/",
          "height": 708
        },
        "id": "3rnvnlMnM5qf",
        "outputId": "a2e9a068-f522-4ce2-f60b-fd40be00f6fb"
      },
      "execution_count": null,
      "outputs": [
        {
          "output_type": "display_data",
          "data": {
            "text/plain": [
              "   sr no     name    hobby  age division\n",
              "0      1   ramesh  reading   12        A\n",
              "1      2   rupesh  writing   23        B\n",
              "2      3   suresh  drivimg   43        C\n",
              "3      4  msngesh  driving   22        B\n",
              "4      5   rakesh  writing   11        A\n",
              "5      6   mahesh  reading   33        B\n",
              "6      7   paresh  driving   17        B\n",
              "7      8   dinesh  reading   16        C\n",
              "8      9   ritesh  reading   18        C\n",
              "9     10   salman  writing   45        A"
            ],
            "text/html": [
              "\n",
              "  <div id=\"df-1b83edcd-903e-4d13-891c-b44038144c8c\">\n",
              "    <div class=\"colab-df-container\">\n",
              "      <div>\n",
              "<style scoped>\n",
              "    .dataframe tbody tr th:only-of-type {\n",
              "        vertical-align: middle;\n",
              "    }\n",
              "\n",
              "    .dataframe tbody tr th {\n",
              "        vertical-align: top;\n",
              "    }\n",
              "\n",
              "    .dataframe thead th {\n",
              "        text-align: right;\n",
              "    }\n",
              "</style>\n",
              "<table border=\"1\" class=\"dataframe\">\n",
              "  <thead>\n",
              "    <tr style=\"text-align: right;\">\n",
              "      <th></th>\n",
              "      <th>sr no</th>\n",
              "      <th>name</th>\n",
              "      <th>hobby</th>\n",
              "      <th>age</th>\n",
              "      <th>division</th>\n",
              "    </tr>\n",
              "  </thead>\n",
              "  <tbody>\n",
              "    <tr>\n",
              "      <th>0</th>\n",
              "      <td>1</td>\n",
              "      <td>ramesh</td>\n",
              "      <td>reading</td>\n",
              "      <td>12</td>\n",
              "      <td>A</td>\n",
              "    </tr>\n",
              "    <tr>\n",
              "      <th>1</th>\n",
              "      <td>2</td>\n",
              "      <td>rupesh</td>\n",
              "      <td>writing</td>\n",
              "      <td>23</td>\n",
              "      <td>B</td>\n",
              "    </tr>\n",
              "    <tr>\n",
              "      <th>2</th>\n",
              "      <td>3</td>\n",
              "      <td>suresh</td>\n",
              "      <td>drivimg</td>\n",
              "      <td>43</td>\n",
              "      <td>C</td>\n",
              "    </tr>\n",
              "    <tr>\n",
              "      <th>3</th>\n",
              "      <td>4</td>\n",
              "      <td>msngesh</td>\n",
              "      <td>driving</td>\n",
              "      <td>22</td>\n",
              "      <td>B</td>\n",
              "    </tr>\n",
              "    <tr>\n",
              "      <th>4</th>\n",
              "      <td>5</td>\n",
              "      <td>rakesh</td>\n",
              "      <td>writing</td>\n",
              "      <td>11</td>\n",
              "      <td>A</td>\n",
              "    </tr>\n",
              "    <tr>\n",
              "      <th>5</th>\n",
              "      <td>6</td>\n",
              "      <td>mahesh</td>\n",
              "      <td>reading</td>\n",
              "      <td>33</td>\n",
              "      <td>B</td>\n",
              "    </tr>\n",
              "    <tr>\n",
              "      <th>6</th>\n",
              "      <td>7</td>\n",
              "      <td>paresh</td>\n",
              "      <td>driving</td>\n",
              "      <td>17</td>\n",
              "      <td>B</td>\n",
              "    </tr>\n",
              "    <tr>\n",
              "      <th>7</th>\n",
              "      <td>8</td>\n",
              "      <td>dinesh</td>\n",
              "      <td>reading</td>\n",
              "      <td>16</td>\n",
              "      <td>C</td>\n",
              "    </tr>\n",
              "    <tr>\n",
              "      <th>8</th>\n",
              "      <td>9</td>\n",
              "      <td>ritesh</td>\n",
              "      <td>reading</td>\n",
              "      <td>18</td>\n",
              "      <td>C</td>\n",
              "    </tr>\n",
              "    <tr>\n",
              "      <th>9</th>\n",
              "      <td>10</td>\n",
              "      <td>salman</td>\n",
              "      <td>writing</td>\n",
              "      <td>45</td>\n",
              "      <td>A</td>\n",
              "    </tr>\n",
              "  </tbody>\n",
              "</table>\n",
              "</div>\n",
              "      <button class=\"colab-df-convert\" onclick=\"convertToInteractive('df-1b83edcd-903e-4d13-891c-b44038144c8c')\"\n",
              "              title=\"Convert this dataframe to an interactive table.\"\n",
              "              style=\"display:none;\">\n",
              "        \n",
              "  <svg xmlns=\"http://www.w3.org/2000/svg\" height=\"24px\"viewBox=\"0 0 24 24\"\n",
              "       width=\"24px\">\n",
              "    <path d=\"M0 0h24v24H0V0z\" fill=\"none\"/>\n",
              "    <path d=\"M18.56 5.44l.94 2.06.94-2.06 2.06-.94-2.06-.94-.94-2.06-.94 2.06-2.06.94zm-11 1L8.5 8.5l.94-2.06 2.06-.94-2.06-.94L8.5 2.5l-.94 2.06-2.06.94zm10 10l.94 2.06.94-2.06 2.06-.94-2.06-.94-.94-2.06-.94 2.06-2.06.94z\"/><path d=\"M17.41 7.96l-1.37-1.37c-.4-.4-.92-.59-1.43-.59-.52 0-1.04.2-1.43.59L10.3 9.45l-7.72 7.72c-.78.78-.78 2.05 0 2.83L4 21.41c.39.39.9.59 1.41.59.51 0 1.02-.2 1.41-.59l7.78-7.78 2.81-2.81c.8-.78.8-2.07 0-2.86zM5.41 20L4 18.59l7.72-7.72 1.47 1.35L5.41 20z\"/>\n",
              "  </svg>\n",
              "      </button>\n",
              "      \n",
              "  <style>\n",
              "    .colab-df-container {\n",
              "      display:flex;\n",
              "      flex-wrap:wrap;\n",
              "      gap: 12px;\n",
              "    }\n",
              "\n",
              "    .colab-df-convert {\n",
              "      background-color: #E8F0FE;\n",
              "      border: none;\n",
              "      border-radius: 50%;\n",
              "      cursor: pointer;\n",
              "      display: none;\n",
              "      fill: #1967D2;\n",
              "      height: 32px;\n",
              "      padding: 0 0 0 0;\n",
              "      width: 32px;\n",
              "    }\n",
              "\n",
              "    .colab-df-convert:hover {\n",
              "      background-color: #E2EBFA;\n",
              "      box-shadow: 0px 1px 2px rgba(60, 64, 67, 0.3), 0px 1px 3px 1px rgba(60, 64, 67, 0.15);\n",
              "      fill: #174EA6;\n",
              "    }\n",
              "\n",
              "    [theme=dark] .colab-df-convert {\n",
              "      background-color: #3B4455;\n",
              "      fill: #D2E3FC;\n",
              "    }\n",
              "\n",
              "    [theme=dark] .colab-df-convert:hover {\n",
              "      background-color: #434B5C;\n",
              "      box-shadow: 0px 1px 3px 1px rgba(0, 0, 0, 0.15);\n",
              "      filter: drop-shadow(0px 1px 2px rgba(0, 0, 0, 0.3));\n",
              "      fill: #FFFFFF;\n",
              "    }\n",
              "  </style>\n",
              "\n",
              "      <script>\n",
              "        const buttonEl =\n",
              "          document.querySelector('#df-1b83edcd-903e-4d13-891c-b44038144c8c button.colab-df-convert');\n",
              "        buttonEl.style.display =\n",
              "          google.colab.kernel.accessAllowed ? 'block' : 'none';\n",
              "\n",
              "        async function convertToInteractive(key) {\n",
              "          const element = document.querySelector('#df-1b83edcd-903e-4d13-891c-b44038144c8c');\n",
              "          const dataTable =\n",
              "            await google.colab.kernel.invokeFunction('convertToInteractive',\n",
              "                                                     [key], {});\n",
              "          if (!dataTable) return;\n",
              "\n",
              "          const docLinkHtml = 'Like what you see? Visit the ' +\n",
              "            '<a target=\"_blank\" href=https://colab.research.google.com/notebooks/data_table.ipynb>data table notebook</a>'\n",
              "            + ' to learn more about interactive tables.';\n",
              "          element.innerHTML = '';\n",
              "          dataTable['output_type'] = 'display_data';\n",
              "          await google.colab.output.renderOutput(dataTable, element);\n",
              "          const docLink = document.createElement('div');\n",
              "          docLink.innerHTML = docLinkHtml;\n",
              "          element.appendChild(docLink);\n",
              "        }\n",
              "      </script>\n",
              "    </div>\n",
              "  </div>\n",
              "  "
            ]
          },
          "metadata": {}
        },
        {
          "output_type": "display_data",
          "data": {
            "text/plain": [
              "   sr no  experince\n",
              "0      1          5\n",
              "1      2          6\n",
              "2      3          4\n",
              "3      4          7\n",
              "4      5          4\n",
              "5      6          2\n",
              "6      7          1\n",
              "7      8          4\n",
              "8      9          5\n",
              "9     10         35"
            ],
            "text/html": [
              "\n",
              "  <div id=\"df-c9346107-5117-43d3-ba1b-f016b4e68416\">\n",
              "    <div class=\"colab-df-container\">\n",
              "      <div>\n",
              "<style scoped>\n",
              "    .dataframe tbody tr th:only-of-type {\n",
              "        vertical-align: middle;\n",
              "    }\n",
              "\n",
              "    .dataframe tbody tr th {\n",
              "        vertical-align: top;\n",
              "    }\n",
              "\n",
              "    .dataframe thead th {\n",
              "        text-align: right;\n",
              "    }\n",
              "</style>\n",
              "<table border=\"1\" class=\"dataframe\">\n",
              "  <thead>\n",
              "    <tr style=\"text-align: right;\">\n",
              "      <th></th>\n",
              "      <th>sr no</th>\n",
              "      <th>experince</th>\n",
              "    </tr>\n",
              "  </thead>\n",
              "  <tbody>\n",
              "    <tr>\n",
              "      <th>0</th>\n",
              "      <td>1</td>\n",
              "      <td>5</td>\n",
              "    </tr>\n",
              "    <tr>\n",
              "      <th>1</th>\n",
              "      <td>2</td>\n",
              "      <td>6</td>\n",
              "    </tr>\n",
              "    <tr>\n",
              "      <th>2</th>\n",
              "      <td>3</td>\n",
              "      <td>4</td>\n",
              "    </tr>\n",
              "    <tr>\n",
              "      <th>3</th>\n",
              "      <td>4</td>\n",
              "      <td>7</td>\n",
              "    </tr>\n",
              "    <tr>\n",
              "      <th>4</th>\n",
              "      <td>5</td>\n",
              "      <td>4</td>\n",
              "    </tr>\n",
              "    <tr>\n",
              "      <th>5</th>\n",
              "      <td>6</td>\n",
              "      <td>2</td>\n",
              "    </tr>\n",
              "    <tr>\n",
              "      <th>6</th>\n",
              "      <td>7</td>\n",
              "      <td>1</td>\n",
              "    </tr>\n",
              "    <tr>\n",
              "      <th>7</th>\n",
              "      <td>8</td>\n",
              "      <td>4</td>\n",
              "    </tr>\n",
              "    <tr>\n",
              "      <th>8</th>\n",
              "      <td>9</td>\n",
              "      <td>5</td>\n",
              "    </tr>\n",
              "    <tr>\n",
              "      <th>9</th>\n",
              "      <td>10</td>\n",
              "      <td>35</td>\n",
              "    </tr>\n",
              "  </tbody>\n",
              "</table>\n",
              "</div>\n",
              "      <button class=\"colab-df-convert\" onclick=\"convertToInteractive('df-c9346107-5117-43d3-ba1b-f016b4e68416')\"\n",
              "              title=\"Convert this dataframe to an interactive table.\"\n",
              "              style=\"display:none;\">\n",
              "        \n",
              "  <svg xmlns=\"http://www.w3.org/2000/svg\" height=\"24px\"viewBox=\"0 0 24 24\"\n",
              "       width=\"24px\">\n",
              "    <path d=\"M0 0h24v24H0V0z\" fill=\"none\"/>\n",
              "    <path d=\"M18.56 5.44l.94 2.06.94-2.06 2.06-.94-2.06-.94-.94-2.06-.94 2.06-2.06.94zm-11 1L8.5 8.5l.94-2.06 2.06-.94-2.06-.94L8.5 2.5l-.94 2.06-2.06.94zm10 10l.94 2.06.94-2.06 2.06-.94-2.06-.94-.94-2.06-.94 2.06-2.06.94z\"/><path d=\"M17.41 7.96l-1.37-1.37c-.4-.4-.92-.59-1.43-.59-.52 0-1.04.2-1.43.59L10.3 9.45l-7.72 7.72c-.78.78-.78 2.05 0 2.83L4 21.41c.39.39.9.59 1.41.59.51 0 1.02-.2 1.41-.59l7.78-7.78 2.81-2.81c.8-.78.8-2.07 0-2.86zM5.41 20L4 18.59l7.72-7.72 1.47 1.35L5.41 20z\"/>\n",
              "  </svg>\n",
              "      </button>\n",
              "      \n",
              "  <style>\n",
              "    .colab-df-container {\n",
              "      display:flex;\n",
              "      flex-wrap:wrap;\n",
              "      gap: 12px;\n",
              "    }\n",
              "\n",
              "    .colab-df-convert {\n",
              "      background-color: #E8F0FE;\n",
              "      border: none;\n",
              "      border-radius: 50%;\n",
              "      cursor: pointer;\n",
              "      display: none;\n",
              "      fill: #1967D2;\n",
              "      height: 32px;\n",
              "      padding: 0 0 0 0;\n",
              "      width: 32px;\n",
              "    }\n",
              "\n",
              "    .colab-df-convert:hover {\n",
              "      background-color: #E2EBFA;\n",
              "      box-shadow: 0px 1px 2px rgba(60, 64, 67, 0.3), 0px 1px 3px 1px rgba(60, 64, 67, 0.15);\n",
              "      fill: #174EA6;\n",
              "    }\n",
              "\n",
              "    [theme=dark] .colab-df-convert {\n",
              "      background-color: #3B4455;\n",
              "      fill: #D2E3FC;\n",
              "    }\n",
              "\n",
              "    [theme=dark] .colab-df-convert:hover {\n",
              "      background-color: #434B5C;\n",
              "      box-shadow: 0px 1px 3px 1px rgba(0, 0, 0, 0.15);\n",
              "      filter: drop-shadow(0px 1px 2px rgba(0, 0, 0, 0.3));\n",
              "      fill: #FFFFFF;\n",
              "    }\n",
              "  </style>\n",
              "\n",
              "      <script>\n",
              "        const buttonEl =\n",
              "          document.querySelector('#df-c9346107-5117-43d3-ba1b-f016b4e68416 button.colab-df-convert');\n",
              "        buttonEl.style.display =\n",
              "          google.colab.kernel.accessAllowed ? 'block' : 'none';\n",
              "\n",
              "        async function convertToInteractive(key) {\n",
              "          const element = document.querySelector('#df-c9346107-5117-43d3-ba1b-f016b4e68416');\n",
              "          const dataTable =\n",
              "            await google.colab.kernel.invokeFunction('convertToInteractive',\n",
              "                                                     [key], {});\n",
              "          if (!dataTable) return;\n",
              "\n",
              "          const docLinkHtml = 'Like what you see? Visit the ' +\n",
              "            '<a target=\"_blank\" href=https://colab.research.google.com/notebooks/data_table.ipynb>data table notebook</a>'\n",
              "            + ' to learn more about interactive tables.';\n",
              "          element.innerHTML = '';\n",
              "          dataTable['output_type'] = 'display_data';\n",
              "          await google.colab.output.renderOutput(dataTable, element);\n",
              "          const docLink = document.createElement('div');\n",
              "          docLink.innerHTML = docLinkHtml;\n",
              "          element.appendChild(docLink);\n",
              "        }\n",
              "      </script>\n",
              "    </div>\n",
              "  </div>\n",
              "  "
            ]
          },
          "metadata": {}
        }
      ]
    },
    {
      "cell_type": "code",
      "source": [
        "df2=pd.merge(df,df1)\n",
        "print(df2)"
      ],
      "metadata": {
        "colab": {
          "base_uri": "https://localhost:8080/"
        },
        "id": "Va_RjXC2NATW",
        "outputId": "9d287b32-7b1b-4a74-9777-dcad2b1bb50f"
      },
      "execution_count": null,
      "outputs": [
        {
          "output_type": "stream",
          "name": "stdout",
          "text": [
            "   sr no     name    hobby  age division  experince\n",
            "0      1   ramesh  reading   12        A          5\n",
            "1      2   rupesh  writing   23        B          6\n",
            "2      3   suresh  drivimg   43        C          4\n",
            "3      4  msngesh  driving   22        B          7\n",
            "4      5   rakesh  writing   11        A          4\n",
            "5      6   mahesh  reading   33        B          2\n",
            "6      7   paresh  driving   17        B          1\n",
            "7      8   dinesh  reading   16        C          4\n",
            "8      9   ritesh  reading   18        C          5\n",
            "9     10   salman  writing   45        A         35\n"
          ]
        }
      ]
    },
    {
      "cell_type": "code",
      "source": [
        "import pandas as pd\n",
        "df=pd.read_csv('/content/drive/MyDrive/118 HOBBY.csv')\n",
        "b=pd.DataFrame(df)\n",
        "print(b)\n"
      ],
      "metadata": {
        "colab": {
          "base_uri": "https://localhost:8080/"
        },
        "id": "BcdDEKFUNDhQ",
        "outputId": "b7face19-a1aa-4210-e0c2-05ba45ffd14e"
      },
      "execution_count": null,
      "outputs": [
        {
          "output_type": "stream",
          "name": "stdout",
          "text": [
            "   sr no     name    hobby  age division\n",
            "0      1   ramesh  reading   12        A\n",
            "1      2   rupesh  writing   23        B\n",
            "2      3   suresh  drivimg   43        C\n",
            "3      4  msngesh  driving   22        B\n",
            "4      5   rakesh  writing   11        A\n",
            "5      6   mahesh  reading   33        B\n",
            "6      7   paresh  driving   17        B\n",
            "7      8   dinesh  reading   16        C\n",
            "8      9   ritesh  reading   18        C\n",
            "9     10   salman  writing   45        A\n"
          ]
        }
      ]
    },
    {
      "cell_type": "code",
      "source": [
        "a=df['age']\n",
        "print(a)"
      ],
      "metadata": {
        "colab": {
          "base_uri": "https://localhost:8080/"
        },
        "id": "5DRixmssNGIO",
        "outputId": "29e26f45-266c-40f1-99ae-57fa63f673b0"
      },
      "execution_count": null,
      "outputs": [
        {
          "output_type": "stream",
          "name": "stdout",
          "text": [
            "0    12\n",
            "1    23\n",
            "2    43\n",
            "3    22\n",
            "4    11\n",
            "5    33\n",
            "6    17\n",
            "7    16\n",
            "8    18\n",
            "9    45\n",
            "Name: age, dtype: int64\n"
          ]
        }
      ]
    },
    {
      "cell_type": "code",
      "source": [
        "print(b[['name','age','division']])\n",
        "g=df.columns.tolist()\n",
        "print(g)"
      ],
      "metadata": {
        "colab": {
          "base_uri": "https://localhost:8080/"
        },
        "id": "T-xP5v9_NIg1",
        "outputId": "2903154f-234d-4dcd-91e6-1fb66bb97bbd"
      },
      "execution_count": null,
      "outputs": [
        {
          "output_type": "stream",
          "name": "stdout",
          "text": [
            "      name  age division\n",
            "0   ramesh   12        A\n",
            "1   rupesh   23        B\n",
            "2   suresh   43        C\n",
            "3  msngesh   22        B\n",
            "4   rakesh   11        A\n",
            "5   mahesh   33        B\n",
            "6   paresh   17        B\n",
            "7   dinesh   16        C\n",
            "8   ritesh   18        C\n",
            "9   salman   45        A\n",
            "['sr no', 'name', 'hobby', 'age', 'division']\n"
          ]
        }
      ]
    },
    {
      "cell_type": "code",
      "source": [
        "z=df['division'].value_counts()\n",
        "print(z)"
      ],
      "metadata": {
        "colab": {
          "base_uri": "https://localhost:8080/"
        },
        "id": "uTnA6_3nNLIl",
        "outputId": "ba748b2b-697b-4f8e-8c94-070a6026ccae"
      },
      "execution_count": null,
      "outputs": [
        {
          "output_type": "stream",
          "name": "stdout",
          "text": [
            "B    4\n",
            "A    3\n",
            "C    3\n",
            "Name: division, dtype: int64\n"
          ]
        }
      ]
    },
    {
      "cell_type": "code",
      "source": [
        "s=df['division'].value_counts()['C']\n",
        "print(s)"
      ],
      "metadata": {
        "colab": {
          "base_uri": "https://localhost:8080/"
        },
        "id": "LCbkIoSRNOMm",
        "outputId": "a56cf1a4-d34a-4292-f72c-a3aa52df8674"
      },
      "execution_count": null,
      "outputs": [
        {
          "output_type": "stream",
          "name": "stdout",
          "text": [
            "3\n"
          ]
        }
      ]
    },
    {
      "cell_type": "code",
      "source": [
        "import pandas as pd\n",
        "df = pd.read_csv('/content/drive/MyDrive/118 HOBBY.csv')\n",
        "print(df.values.tolists())"
      ],
      "metadata": {
        "id": "PmGuk3x6NfwJ",
        "outputId": "da4b9236-5720-4d03-949d-bb1e30761544",
        "colab": {
          "base_uri": "https://localhost:8080/",
          "height": 200
        }
      },
      "execution_count": null,
      "outputs": [
        {
          "output_type": "error",
          "ename": "AttributeError",
          "evalue": "ignored",
          "traceback": [
            "\u001b[0;31m---------------------------------------------------------------------------\u001b[0m",
            "\u001b[0;31mAttributeError\u001b[0m                            Traceback (most recent call last)",
            "\u001b[0;32m<ipython-input-5-608fdea19e56>\u001b[0m in \u001b[0;36m<cell line: 3>\u001b[0;34m()\u001b[0m\n\u001b[1;32m      1\u001b[0m \u001b[0;32mimport\u001b[0m \u001b[0mpandas\u001b[0m \u001b[0;32mas\u001b[0m \u001b[0mpd\u001b[0m\u001b[0;34m\u001b[0m\u001b[0;34m\u001b[0m\u001b[0m\n\u001b[1;32m      2\u001b[0m \u001b[0mdf\u001b[0m \u001b[0;34m=\u001b[0m \u001b[0mpd\u001b[0m\u001b[0;34m.\u001b[0m\u001b[0mread_csv\u001b[0m\u001b[0;34m(\u001b[0m\u001b[0;34m'/content/drive/MyDrive/118 HOBBY.csv'\u001b[0m\u001b[0;34m)\u001b[0m\u001b[0;34m\u001b[0m\u001b[0;34m\u001b[0m\u001b[0m\n\u001b[0;32m----> 3\u001b[0;31m \u001b[0mprint\u001b[0m\u001b[0;34m(\u001b[0m\u001b[0mdf\u001b[0m\u001b[0;34m.\u001b[0m\u001b[0mvalues\u001b[0m\u001b[0;34m.\u001b[0m\u001b[0mtolists\u001b[0m\u001b[0;34m(\u001b[0m\u001b[0;34m)\u001b[0m\u001b[0;34m)\u001b[0m\u001b[0;34m\u001b[0m\u001b[0;34m\u001b[0m\u001b[0m\n\u001b[0m",
            "\u001b[0;31mAttributeError\u001b[0m: 'numpy.ndarray' object has no attribute 'tolists'"
          ]
        }
      ]
    },
    {
      "cell_type": "code",
      "source": [
        "import pandas as pd\n",
        "import numpy as np\n",
        "import matplotlib.pyplot as plt\n",
        "df=pd.read_csv('/content/drive/MyDrive/Crop_recommendation.csv')\n",
        "df2=pd.read_csv('/content/drive/MyDrive/Crop_recommendation.csv')\n",
        "print(df)\n",
        "df1=np.array(df)\n",
        "print(df1)\n",
        "xpoints=np.array(df1)\n",
        "ypoints=np.array(df2)\n",
        "plt.plot(xpoints,ypoints)\n",
        "plt.show()"
      ],
      "metadata": {
        "colab": {
          "base_uri": "https://localhost:8080/",
          "height": 1000
        },
        "id": "X3Okr_MnsjqK",
        "outputId": "9db8821f-0a41-46cc-c5f6-1778154495e1"
      },
      "execution_count": null,
      "outputs": [
        {
          "output_type": "stream",
          "name": "stdout",
          "text": [
            "        N   P   K  temperature   humidity        ph    rainfall   label\n",
            "0      90  42  43    20.879744  82.002744  6.502985  202.935536    rice\n",
            "1      85  58  41    21.770462  80.319644  7.038096  226.655537    rice\n",
            "2      60  55  44    23.004459  82.320763  7.840207  263.964248    rice\n",
            "3      74  35  40    26.491096  80.158363  6.980401  242.864034    rice\n",
            "4      78  42  42    20.130175  81.604873  7.628473  262.717340    rice\n",
            "...   ...  ..  ..          ...        ...       ...         ...     ...\n",
            "2195  107  34  32    26.774637  66.413269  6.780064  177.774507  coffee\n",
            "2196   99  15  27    27.417112  56.636362  6.086922  127.924610  coffee\n",
            "2197  118  33  30    24.131797  67.225123  6.362608  173.322839  coffee\n",
            "2198  117  32  34    26.272418  52.127394  6.758793  127.175293  coffee\n",
            "2199  104  18  30    23.603016  60.396475  6.779833  140.937041  coffee\n",
            "\n",
            "[2200 rows x 8 columns]\n",
            "[[90 42 43 ... 6.502985292000001 202.9355362 'rice']\n",
            " [85 58 41 ... 7.038096361 226.6555374 'rice']\n",
            " [60 55 44 ... 7.840207144 263.9642476 'rice']\n",
            " ...\n",
            " [118 33 30 ... 6.362607851 173.32283859999995 'coffee']\n",
            " [117 32 34 ... 6.758792552 127.1752928 'coffee']\n",
            " [104 18 30 ... 6.779832611000002 140.9370415 'coffee']]\n"
          ]
        },
        {
          "output_type": "error",
          "ename": "ConversionError",
          "evalue": "ignored",
          "traceback": [
            "\u001b[0;31m---------------------------------------------------------------------------\u001b[0m",
            "\u001b[0;31mValueError\u001b[0m                                Traceback (most recent call last)",
            "\u001b[0;32m/usr/local/lib/python3.10/dist-packages/matplotlib/axis.py\u001b[0m in \u001b[0;36mconvert_units\u001b[0;34m(self, x)\u001b[0m\n\u001b[1;32m   1731\u001b[0m         \u001b[0;32mtry\u001b[0m\u001b[0;34m:\u001b[0m\u001b[0;34m\u001b[0m\u001b[0;34m\u001b[0m\u001b[0m\n\u001b[0;32m-> 1732\u001b[0;31m             \u001b[0mret\u001b[0m \u001b[0;34m=\u001b[0m \u001b[0mself\u001b[0m\u001b[0;34m.\u001b[0m\u001b[0mconverter\u001b[0m\u001b[0;34m.\u001b[0m\u001b[0mconvert\u001b[0m\u001b[0;34m(\u001b[0m\u001b[0mx\u001b[0m\u001b[0;34m,\u001b[0m \u001b[0mself\u001b[0m\u001b[0;34m.\u001b[0m\u001b[0munits\u001b[0m\u001b[0;34m,\u001b[0m \u001b[0mself\u001b[0m\u001b[0;34m)\u001b[0m\u001b[0;34m\u001b[0m\u001b[0;34m\u001b[0m\u001b[0m\n\u001b[0m\u001b[1;32m   1733\u001b[0m         \u001b[0;32mexcept\u001b[0m \u001b[0mException\u001b[0m \u001b[0;32mas\u001b[0m \u001b[0me\u001b[0m\u001b[0;34m:\u001b[0m\u001b[0;34m\u001b[0m\u001b[0;34m\u001b[0m\u001b[0m\n",
            "\u001b[0;32m/usr/local/lib/python3.10/dist-packages/matplotlib/category.py\u001b[0m in \u001b[0;36mconvert\u001b[0;34m(value, unit, axis)\u001b[0m\n\u001b[1;32m     48\u001b[0m         \u001b[0;32mif\u001b[0m \u001b[0munit\u001b[0m \u001b[0;32mis\u001b[0m \u001b[0;32mNone\u001b[0m\u001b[0;34m:\u001b[0m\u001b[0;34m\u001b[0m\u001b[0;34m\u001b[0m\u001b[0m\n\u001b[0;32m---> 49\u001b[0;31m             raise ValueError(\n\u001b[0m\u001b[1;32m     50\u001b[0m                 \u001b[0;34m'Missing category information for StrCategoryConverter; '\u001b[0m\u001b[0;34m\u001b[0m\u001b[0;34m\u001b[0m\u001b[0m\n",
            "\u001b[0;31mValueError\u001b[0m: Missing category information for StrCategoryConverter; this might be caused by unintendedly mixing categorical and numeric data",
            "\nThe above exception was the direct cause of the following exception:\n",
            "\u001b[0;31mConversionError\u001b[0m                           Traceback (most recent call last)",
            "\u001b[0;32m<ipython-input-16-c79fc20c975a>\u001b[0m in \u001b[0;36m<cell line: 11>\u001b[0;34m()\u001b[0m\n\u001b[1;32m      9\u001b[0m \u001b[0mxpoints\u001b[0m\u001b[0;34m=\u001b[0m\u001b[0mnp\u001b[0m\u001b[0;34m.\u001b[0m\u001b[0marray\u001b[0m\u001b[0;34m(\u001b[0m\u001b[0mdf1\u001b[0m\u001b[0;34m)\u001b[0m\u001b[0;34m\u001b[0m\u001b[0;34m\u001b[0m\u001b[0m\n\u001b[1;32m     10\u001b[0m \u001b[0mypoints\u001b[0m\u001b[0;34m=\u001b[0m\u001b[0mnp\u001b[0m\u001b[0;34m.\u001b[0m\u001b[0marray\u001b[0m\u001b[0;34m(\u001b[0m\u001b[0mdf2\u001b[0m\u001b[0;34m)\u001b[0m\u001b[0;34m\u001b[0m\u001b[0;34m\u001b[0m\u001b[0m\n\u001b[0;32m---> 11\u001b[0;31m \u001b[0mplt\u001b[0m\u001b[0;34m.\u001b[0m\u001b[0mplot\u001b[0m\u001b[0;34m(\u001b[0m\u001b[0mxpoints\u001b[0m\u001b[0;34m,\u001b[0m\u001b[0mypoints\u001b[0m\u001b[0;34m)\u001b[0m\u001b[0;34m\u001b[0m\u001b[0;34m\u001b[0m\u001b[0m\n\u001b[0m\u001b[1;32m     12\u001b[0m \u001b[0mplt\u001b[0m\u001b[0;34m.\u001b[0m\u001b[0mshow\u001b[0m\u001b[0;34m(\u001b[0m\u001b[0;34m)\u001b[0m\u001b[0;34m\u001b[0m\u001b[0;34m\u001b[0m\u001b[0m\n",
            "\u001b[0;32m/usr/local/lib/python3.10/dist-packages/matplotlib/pyplot.py\u001b[0m in \u001b[0;36mplot\u001b[0;34m(scalex, scaley, data, *args, **kwargs)\u001b[0m\n\u001b[1;32m   2810\u001b[0m \u001b[0;34m@\u001b[0m\u001b[0m_copy_docstring_and_deprecators\u001b[0m\u001b[0;34m(\u001b[0m\u001b[0mAxes\u001b[0m\u001b[0;34m.\u001b[0m\u001b[0mplot\u001b[0m\u001b[0;34m)\u001b[0m\u001b[0;34m\u001b[0m\u001b[0;34m\u001b[0m\u001b[0m\n\u001b[1;32m   2811\u001b[0m \u001b[0;32mdef\u001b[0m \u001b[0mplot\u001b[0m\u001b[0;34m(\u001b[0m\u001b[0;34m*\u001b[0m\u001b[0margs\u001b[0m\u001b[0;34m,\u001b[0m \u001b[0mscalex\u001b[0m\u001b[0;34m=\u001b[0m\u001b[0;32mTrue\u001b[0m\u001b[0;34m,\u001b[0m \u001b[0mscaley\u001b[0m\u001b[0;34m=\u001b[0m\u001b[0;32mTrue\u001b[0m\u001b[0;34m,\u001b[0m \u001b[0mdata\u001b[0m\u001b[0;34m=\u001b[0m\u001b[0;32mNone\u001b[0m\u001b[0;34m,\u001b[0m \u001b[0;34m**\u001b[0m\u001b[0mkwargs\u001b[0m\u001b[0;34m)\u001b[0m\u001b[0;34m:\u001b[0m\u001b[0;34m\u001b[0m\u001b[0;34m\u001b[0m\u001b[0m\n\u001b[0;32m-> 2812\u001b[0;31m     return gca().plot(\n\u001b[0m\u001b[1;32m   2813\u001b[0m         \u001b[0;34m*\u001b[0m\u001b[0margs\u001b[0m\u001b[0;34m,\u001b[0m \u001b[0mscalex\u001b[0m\u001b[0;34m=\u001b[0m\u001b[0mscalex\u001b[0m\u001b[0;34m,\u001b[0m \u001b[0mscaley\u001b[0m\u001b[0;34m=\u001b[0m\u001b[0mscaley\u001b[0m\u001b[0;34m,\u001b[0m\u001b[0;34m\u001b[0m\u001b[0;34m\u001b[0m\u001b[0m\n\u001b[1;32m   2814\u001b[0m         **({\"data\": data} if data is not None else {}), **kwargs)\n",
            "\u001b[0;32m/usr/local/lib/python3.10/dist-packages/matplotlib/axes/_axes.py\u001b[0m in \u001b[0;36mplot\u001b[0;34m(self, scalex, scaley, data, *args, **kwargs)\u001b[0m\n\u001b[1;32m   1688\u001b[0m         \u001b[0mlines\u001b[0m \u001b[0;34m=\u001b[0m \u001b[0;34m[\u001b[0m\u001b[0;34m*\u001b[0m\u001b[0mself\u001b[0m\u001b[0;34m.\u001b[0m\u001b[0m_get_lines\u001b[0m\u001b[0;34m(\u001b[0m\u001b[0;34m*\u001b[0m\u001b[0margs\u001b[0m\u001b[0;34m,\u001b[0m \u001b[0mdata\u001b[0m\u001b[0;34m=\u001b[0m\u001b[0mdata\u001b[0m\u001b[0;34m,\u001b[0m \u001b[0;34m**\u001b[0m\u001b[0mkwargs\u001b[0m\u001b[0;34m)\u001b[0m\u001b[0;34m]\u001b[0m\u001b[0;34m\u001b[0m\u001b[0;34m\u001b[0m\u001b[0m\n\u001b[1;32m   1689\u001b[0m         \u001b[0;32mfor\u001b[0m \u001b[0mline\u001b[0m \u001b[0;32min\u001b[0m \u001b[0mlines\u001b[0m\u001b[0;34m:\u001b[0m\u001b[0;34m\u001b[0m\u001b[0;34m\u001b[0m\u001b[0m\n\u001b[0;32m-> 1690\u001b[0;31m             \u001b[0mself\u001b[0m\u001b[0;34m.\u001b[0m\u001b[0madd_line\u001b[0m\u001b[0;34m(\u001b[0m\u001b[0mline\u001b[0m\u001b[0;34m)\u001b[0m\u001b[0;34m\u001b[0m\u001b[0;34m\u001b[0m\u001b[0m\n\u001b[0m\u001b[1;32m   1691\u001b[0m         \u001b[0;32mif\u001b[0m \u001b[0mscalex\u001b[0m\u001b[0;34m:\u001b[0m\u001b[0;34m\u001b[0m\u001b[0;34m\u001b[0m\u001b[0m\n\u001b[1;32m   1692\u001b[0m             \u001b[0mself\u001b[0m\u001b[0;34m.\u001b[0m\u001b[0m_request_autoscale_view\u001b[0m\u001b[0;34m(\u001b[0m\u001b[0;34m\"x\"\u001b[0m\u001b[0;34m)\u001b[0m\u001b[0;34m\u001b[0m\u001b[0;34m\u001b[0m\u001b[0m\n",
            "\u001b[0;32m/usr/local/lib/python3.10/dist-packages/matplotlib/axes/_base.py\u001b[0m in \u001b[0;36madd_line\u001b[0;34m(self, line)\u001b[0m\n\u001b[1;32m   2302\u001b[0m             \u001b[0mline\u001b[0m\u001b[0;34m.\u001b[0m\u001b[0mset_clip_path\u001b[0m\u001b[0;34m(\u001b[0m\u001b[0mself\u001b[0m\u001b[0;34m.\u001b[0m\u001b[0mpatch\u001b[0m\u001b[0;34m)\u001b[0m\u001b[0;34m\u001b[0m\u001b[0;34m\u001b[0m\u001b[0m\n\u001b[1;32m   2303\u001b[0m \u001b[0;34m\u001b[0m\u001b[0m\n\u001b[0;32m-> 2304\u001b[0;31m         \u001b[0mself\u001b[0m\u001b[0;34m.\u001b[0m\u001b[0m_update_line_limits\u001b[0m\u001b[0;34m(\u001b[0m\u001b[0mline\u001b[0m\u001b[0;34m)\u001b[0m\u001b[0;34m\u001b[0m\u001b[0;34m\u001b[0m\u001b[0m\n\u001b[0m\u001b[1;32m   2305\u001b[0m         \u001b[0;32mif\u001b[0m \u001b[0;32mnot\u001b[0m \u001b[0mline\u001b[0m\u001b[0;34m.\u001b[0m\u001b[0mget_label\u001b[0m\u001b[0;34m(\u001b[0m\u001b[0;34m)\u001b[0m\u001b[0;34m:\u001b[0m\u001b[0;34m\u001b[0m\u001b[0;34m\u001b[0m\u001b[0m\n\u001b[1;32m   2306\u001b[0m             \u001b[0mline\u001b[0m\u001b[0;34m.\u001b[0m\u001b[0mset_label\u001b[0m\u001b[0;34m(\u001b[0m\u001b[0;34mf'_child{len(self._children)}'\u001b[0m\u001b[0;34m)\u001b[0m\u001b[0;34m\u001b[0m\u001b[0;34m\u001b[0m\u001b[0m\n",
            "\u001b[0;32m/usr/local/lib/python3.10/dist-packages/matplotlib/axes/_base.py\u001b[0m in \u001b[0;36m_update_line_limits\u001b[0;34m(self, line)\u001b[0m\n\u001b[1;32m   2325\u001b[0m         \u001b[0mFigures\u001b[0m \u001b[0mout\u001b[0m \u001b[0mthe\u001b[0m \u001b[0mdata\u001b[0m \u001b[0mlimit\u001b[0m \u001b[0mof\u001b[0m \u001b[0mthe\u001b[0m \u001b[0mgiven\u001b[0m \u001b[0mline\u001b[0m\u001b[0;34m,\u001b[0m \u001b[0mupdating\u001b[0m \u001b[0mself\u001b[0m\u001b[0;34m.\u001b[0m\u001b[0mdataLim\u001b[0m\u001b[0;34m.\u001b[0m\u001b[0;34m\u001b[0m\u001b[0;34m\u001b[0m\u001b[0m\n\u001b[1;32m   2326\u001b[0m         \"\"\"\n\u001b[0;32m-> 2327\u001b[0;31m         \u001b[0mpath\u001b[0m \u001b[0;34m=\u001b[0m \u001b[0mline\u001b[0m\u001b[0;34m.\u001b[0m\u001b[0mget_path\u001b[0m\u001b[0;34m(\u001b[0m\u001b[0;34m)\u001b[0m\u001b[0;34m\u001b[0m\u001b[0;34m\u001b[0m\u001b[0m\n\u001b[0m\u001b[1;32m   2328\u001b[0m         \u001b[0;32mif\u001b[0m \u001b[0mpath\u001b[0m\u001b[0;34m.\u001b[0m\u001b[0mvertices\u001b[0m\u001b[0;34m.\u001b[0m\u001b[0msize\u001b[0m \u001b[0;34m==\u001b[0m \u001b[0;36m0\u001b[0m\u001b[0;34m:\u001b[0m\u001b[0;34m\u001b[0m\u001b[0;34m\u001b[0m\u001b[0m\n\u001b[1;32m   2329\u001b[0m             \u001b[0;32mreturn\u001b[0m\u001b[0;34m\u001b[0m\u001b[0;34m\u001b[0m\u001b[0m\n",
            "\u001b[0;32m/usr/local/lib/python3.10/dist-packages/matplotlib/lines.py\u001b[0m in \u001b[0;36mget_path\u001b[0;34m(self)\u001b[0m\n\u001b[1;32m   1027\u001b[0m         \u001b[0;34m\"\"\"Return the `~matplotlib.path.Path` associated with this line.\"\"\"\u001b[0m\u001b[0;34m\u001b[0m\u001b[0;34m\u001b[0m\u001b[0m\n\u001b[1;32m   1028\u001b[0m         \u001b[0;32mif\u001b[0m \u001b[0mself\u001b[0m\u001b[0;34m.\u001b[0m\u001b[0m_invalidy\u001b[0m \u001b[0;32mor\u001b[0m \u001b[0mself\u001b[0m\u001b[0;34m.\u001b[0m\u001b[0m_invalidx\u001b[0m\u001b[0;34m:\u001b[0m\u001b[0;34m\u001b[0m\u001b[0;34m\u001b[0m\u001b[0m\n\u001b[0;32m-> 1029\u001b[0;31m             \u001b[0mself\u001b[0m\u001b[0;34m.\u001b[0m\u001b[0mrecache\u001b[0m\u001b[0;34m(\u001b[0m\u001b[0;34m)\u001b[0m\u001b[0;34m\u001b[0m\u001b[0;34m\u001b[0m\u001b[0m\n\u001b[0m\u001b[1;32m   1030\u001b[0m         \u001b[0;32mreturn\u001b[0m \u001b[0mself\u001b[0m\u001b[0;34m.\u001b[0m\u001b[0m_path\u001b[0m\u001b[0;34m\u001b[0m\u001b[0;34m\u001b[0m\u001b[0m\n\u001b[1;32m   1031\u001b[0m \u001b[0;34m\u001b[0m\u001b[0m\n",
            "\u001b[0;32m/usr/local/lib/python3.10/dist-packages/matplotlib/lines.py\u001b[0m in \u001b[0;36mrecache\u001b[0;34m(self, always)\u001b[0m\n\u001b[1;32m    654\u001b[0m     \u001b[0;32mdef\u001b[0m \u001b[0mrecache\u001b[0m\u001b[0;34m(\u001b[0m\u001b[0mself\u001b[0m\u001b[0;34m,\u001b[0m \u001b[0malways\u001b[0m\u001b[0;34m=\u001b[0m\u001b[0;32mFalse\u001b[0m\u001b[0;34m)\u001b[0m\u001b[0;34m:\u001b[0m\u001b[0;34m\u001b[0m\u001b[0;34m\u001b[0m\u001b[0m\n\u001b[1;32m    655\u001b[0m         \u001b[0;32mif\u001b[0m \u001b[0malways\u001b[0m \u001b[0;32mor\u001b[0m \u001b[0mself\u001b[0m\u001b[0;34m.\u001b[0m\u001b[0m_invalidx\u001b[0m\u001b[0;34m:\u001b[0m\u001b[0;34m\u001b[0m\u001b[0;34m\u001b[0m\u001b[0m\n\u001b[0;32m--> 656\u001b[0;31m             \u001b[0mxconv\u001b[0m \u001b[0;34m=\u001b[0m \u001b[0mself\u001b[0m\u001b[0;34m.\u001b[0m\u001b[0mconvert_xunits\u001b[0m\u001b[0;34m(\u001b[0m\u001b[0mself\u001b[0m\u001b[0;34m.\u001b[0m\u001b[0m_xorig\u001b[0m\u001b[0;34m)\u001b[0m\u001b[0;34m\u001b[0m\u001b[0;34m\u001b[0m\u001b[0m\n\u001b[0m\u001b[1;32m    657\u001b[0m             \u001b[0mx\u001b[0m \u001b[0;34m=\u001b[0m \u001b[0m_to_unmasked_float_array\u001b[0m\u001b[0;34m(\u001b[0m\u001b[0mxconv\u001b[0m\u001b[0;34m)\u001b[0m\u001b[0;34m.\u001b[0m\u001b[0mravel\u001b[0m\u001b[0;34m(\u001b[0m\u001b[0;34m)\u001b[0m\u001b[0;34m\u001b[0m\u001b[0;34m\u001b[0m\u001b[0m\n\u001b[1;32m    658\u001b[0m         \u001b[0;32melse\u001b[0m\u001b[0;34m:\u001b[0m\u001b[0;34m\u001b[0m\u001b[0;34m\u001b[0m\u001b[0m\n",
            "\u001b[0;32m/usr/local/lib/python3.10/dist-packages/matplotlib/artist.py\u001b[0m in \u001b[0;36mconvert_xunits\u001b[0;34m(self, x)\u001b[0m\n\u001b[1;32m    279\u001b[0m         \u001b[0;32mif\u001b[0m \u001b[0max\u001b[0m \u001b[0;32mis\u001b[0m \u001b[0;32mNone\u001b[0m \u001b[0;32mor\u001b[0m \u001b[0max\u001b[0m\u001b[0;34m.\u001b[0m\u001b[0mxaxis\u001b[0m \u001b[0;32mis\u001b[0m \u001b[0;32mNone\u001b[0m\u001b[0;34m:\u001b[0m\u001b[0;34m\u001b[0m\u001b[0;34m\u001b[0m\u001b[0m\n\u001b[1;32m    280\u001b[0m             \u001b[0;32mreturn\u001b[0m \u001b[0mx\u001b[0m\u001b[0;34m\u001b[0m\u001b[0;34m\u001b[0m\u001b[0m\n\u001b[0;32m--> 281\u001b[0;31m         \u001b[0;32mreturn\u001b[0m \u001b[0max\u001b[0m\u001b[0;34m.\u001b[0m\u001b[0mxaxis\u001b[0m\u001b[0;34m.\u001b[0m\u001b[0mconvert_units\u001b[0m\u001b[0;34m(\u001b[0m\u001b[0mx\u001b[0m\u001b[0;34m)\u001b[0m\u001b[0;34m\u001b[0m\u001b[0;34m\u001b[0m\u001b[0m\n\u001b[0m\u001b[1;32m    282\u001b[0m \u001b[0;34m\u001b[0m\u001b[0m\n\u001b[1;32m    283\u001b[0m     \u001b[0;32mdef\u001b[0m \u001b[0mconvert_yunits\u001b[0m\u001b[0;34m(\u001b[0m\u001b[0mself\u001b[0m\u001b[0;34m,\u001b[0m \u001b[0my\u001b[0m\u001b[0;34m)\u001b[0m\u001b[0;34m:\u001b[0m\u001b[0;34m\u001b[0m\u001b[0;34m\u001b[0m\u001b[0m\n",
            "\u001b[0;32m/usr/local/lib/python3.10/dist-packages/matplotlib/axis.py\u001b[0m in \u001b[0;36mconvert_units\u001b[0;34m(self, x)\u001b[0m\n\u001b[1;32m   1732\u001b[0m             \u001b[0mret\u001b[0m \u001b[0;34m=\u001b[0m \u001b[0mself\u001b[0m\u001b[0;34m.\u001b[0m\u001b[0mconverter\u001b[0m\u001b[0;34m.\u001b[0m\u001b[0mconvert\u001b[0m\u001b[0;34m(\u001b[0m\u001b[0mx\u001b[0m\u001b[0;34m,\u001b[0m \u001b[0mself\u001b[0m\u001b[0;34m.\u001b[0m\u001b[0munits\u001b[0m\u001b[0;34m,\u001b[0m \u001b[0mself\u001b[0m\u001b[0;34m)\u001b[0m\u001b[0;34m\u001b[0m\u001b[0;34m\u001b[0m\u001b[0m\n\u001b[1;32m   1733\u001b[0m         \u001b[0;32mexcept\u001b[0m \u001b[0mException\u001b[0m \u001b[0;32mas\u001b[0m \u001b[0me\u001b[0m\u001b[0;34m:\u001b[0m\u001b[0;34m\u001b[0m\u001b[0;34m\u001b[0m\u001b[0m\n\u001b[0;32m-> 1734\u001b[0;31m             raise munits.ConversionError('Failed to convert value(s) to axis '\n\u001b[0m\u001b[1;32m   1735\u001b[0m                                          f'units: {x!r}') from e\n\u001b[1;32m   1736\u001b[0m         \u001b[0;32mreturn\u001b[0m \u001b[0mret\u001b[0m\u001b[0;34m\u001b[0m\u001b[0;34m\u001b[0m\u001b[0m\n",
            "\u001b[0;31mConversionError\u001b[0m: Failed to convert value(s) to axis units: array(['rice', 'rice', 'rice', ..., 'coffee', 'coffee', 'coffee'],\n      dtype=object)"
          ]
        },
        {
          "output_type": "display_data",
          "data": {
            "text/plain": [
              "<Figure size 640x480 with 1 Axes>"
            ],
            "image/png": "[encoded data removed]"
          },
          "metadata": {}
        }
      ]
    },
    {
      "cell_type": "code",
      "source": [
        "import pandas as pd\n",
        "import numpy as np\n",
        "import matplotlib.pyplot as plt\n",
        "df=pd.read_csv('/content/drive/MyDrive/crop.csv')\n",
        "print(df)\n",
        "df1=np.array(df)\n",
        "print(df1)\n",
        "xpoints=['N']\n",
        "ypoints=['P']\n",
        "plt.plot(xpoints,ypoints)\n",
        "plt.show()"
      ],
      "metadata": {
        "colab": {
          "base_uri": "https://localhost:8080/",
          "height": 899
        },
        "id": "W4Q2qzJw06D-",
        "outputId": "7586c355-bc96-4cc7-9092-1fa2ea42e25d"
      },
      "execution_count": null,
      "outputs": [
        {
          "output_type": "stream",
          "name": "stdout",
          "text": [
            "        N   P   K  temperature   humidity        ph    rainfall\n",
            "0      90  42  43    20.879744  82.002744  6.502985  202.935536\n",
            "1      85  58  41    21.770462  80.319644  7.038096  226.655537\n",
            "2      60  55  44    23.004459  82.320763  7.840207  263.964248\n",
            "3      74  35  40    26.491096  80.158363  6.980401  242.864034\n",
            "4      78  42  42    20.130175  81.604873  7.628473  262.717340\n",
            "...   ...  ..  ..          ...        ...       ...         ...\n",
            "2195  107  34  32    26.774637  66.413269  6.780064  177.774507\n",
            "2196   99  15  27    27.417112  56.636362  6.086922  127.924610\n",
            "2197  118  33  30    24.131797  67.225123  6.362608  173.322839\n",
            "2198  117  32  34    26.272418  52.127394  6.758793  127.175293\n",
            "2199  104  18  30    23.603016  60.396475  6.779833  140.937041\n",
            "\n",
            "[2200 rows x 7 columns]\n",
            "[[ 90.          42.          43.         ...  82.00274423   6.50298529\n",
            "  202.9355362 ]\n",
            " [ 85.          58.          41.         ...  80.31964408   7.03809636\n",
            "  226.6555374 ]\n",
            " [ 60.          55.          44.         ...  82.3207629    7.84020714\n",
            "  263.9642476 ]\n",
            " ...\n",
            " [118.          33.          30.         ...  67.22512329   6.36260785\n",
            "  173.3228386 ]\n",
            " [117.          32.          34.         ...  52.12739421   6.75879255\n",
            "  127.1752928 ]\n",
            " [104.          18.          30.         ...  60.39647474   6.77983261\n",
            "  140.9370415 ]]\n"
          ]
        },
        {
          "output_type": "display_data",
          "data": {
            "text/plain": [
              "<Figure size 640x480 with 1 Axes>"
            ],
            "image/png": "[encoded data removed]"
          },
          "metadata": {}
        }
      ]
    },
    {
      "cell_type": "code",
      "source": [
        "import numpy as np\n",
        "import pandas as pd\n",
        "import matplotlib.pyplot as plt\n",
        "excel_file_path = \"/content/drive/MyDrive/metro_system.xlsx\"\n",
        "data_frame = pd.read_excel(excel_file_path)\n",
        "array_data = np.array(data_frame)\n",
        "x = np.array(data_frame[\"System length\"])\n",
        "y = np.array(data_frame[\"Stations\"])\n",
        "print(array_data)\n",
        "print(x)\n",
        "print(y)\n",
        "plt.plot(x, y, marker=\"o\")\n",
        "plt.xlabel(\"System length\")\n",
        "plt.ylabel(\"Stations\")\n",
        "plt.title(\"Graph of Column1 vs Column2\")\n",
        "plt.show()"
      ],
      "metadata": {
        "colab": {
          "base_uri": "https://localhost:8080/",
          "height": 1000
        },
        "id": "Q_h_YHt75W1i",
        "outputId": "eb831c46-2b3b-4c68-e4ed-8ad640055efe"
      },
      "execution_count": null,
      "outputs": [
        {
          "output_type": "stream",
          "name": "stdout",
          "text": [
            "[['Algiers' 'Algeria' 'Algiers Metro' ... 19 '18.5\\xa0km (11.5\\xa0mi)'\n",
            "  '45.3 (2019)']\n",
            " ['Buenos Aires' 'Argentina' 'Buenos Aires Underground' ... 78\n",
            "  '56.7\\xa0km (35.2\\xa0mi)' '74.0 (2020)']\n",
            " ['Yerevan' 'Armenia' 'Yerevan Metro' ... 10 '12.1\\xa0km (7.5\\xa0mi)'\n",
            "  '23.3 (2022)']\n",
            " ...\n",
            " ['Tashkent' 'Uzbekistan' 'Tashkent Metro' ... 48\n",
            "  '59.1\\xa0km (36.7\\xa0mi)' '136.7 (2022)']\n",
            " ['Caracas' 'Venezuela' 'Caracas Metro' ... 49 '67.2\\xa0km (41.8\\xa0mi)'\n",
            "  '358 (2017)']\n",
            " ['Hanoi' 'Vietnam' 'Hanoi Metro' ... 12 '13.1\\xa0km (8.1\\xa0mi)' 7.5]]\n",
            "['18.5\\xa0km (11.5\\xa0mi)' '56.7\\xa0km (35.2\\xa0mi)'\n",
            " '12.1\\xa0km (7.5\\xa0mi)' '36\\xa0km (22\\xa0mi)' '83.3\\xa0km (51.8\\xa0mi)'\n",
            " '40.7\\xa0km (25.3\\xa0mi)' '11.7\\xa0km (7.3\\xa0mi)'\n",
            " '40.8\\xa0km (25.4\\xa0mi)' '39.9\\xa0km (24.8\\xa0mi)'\n",
            " '28.1\\xa0km (17.5\\xa0mi)' '42.38\\xa0km (26.33\\xa0mi)'\n",
            " '24.1\\xa0km (15.0\\xa0mi)' '43.8\\xa0km (27.2\\xa0mi)'\n",
            " '39.5\\xa0km (24.5\\xa0mi)' '58\\xa0km (36\\xa0mi)' '32.5\\xa0km (20.2\\xa0mi)'\n",
            " '104.4\\xa0km (64.9\\xa0mi)' '52\\xa0km (32\\xa0mi)'\n",
            " '69.2\\xa0km (43.0\\xa0mi)' '76.9\\xa0km (47.8\\xa0mi)'\n",
            " '79.6\\xa0km (49.5\\xa0mi)' '140\\xa0km (87\\xa0mi)'\n",
            " '785.7\\xa0km (488.2\\xa0mi)' '72.6\\xa0km (45.1\\xa0mi)'\n",
            " '207.9\\xa0km (129.2\\xa0mi)' '54.03\\xa0km (33.57\\xa0mi)'\n",
            " '518.5\\xa0km (322.2\\xa0mi)' '485.02\\xa0km (301.38\\xa0mi)'\n",
            " '237.74\\xa0km (147.72\\xa0mi)' '37.7\\xa0km (23.4\\xa0mi)'\n",
            " '112.7\\xa0km (70.0\\xa0mi)' '114.2\\xa0km (71.0\\xa0mi)'\n",
            " '617.05\\xa0km (383.42\\xa0mi)' '75.7\\xa0km (47.0\\xa0mi)'\n",
            " '516.2\\xa0km (320.8\\xa0mi)' '79.4\\xa0km (49.3\\xa0mi)'\n",
            " '170.95\\xa0km (106.22\\xa0mi)' '49.039\\xa0km (30.471\\xa0mi)'\n",
            " '209.0\\xa0km (129.9\\xa0mi)' '84.25\\xa0km (52.35\\xa0mi)'\n",
            " '118.5\\xa0km (73.6\\xa0mi)' '164.3\\xa0km (102.1\\xa0mi)'\n",
            " '25.9\\xa0km (16.1\\xa0mi)' '43.554\\xa0km (27.063\\xa0mi)'\n",
            " '128.3\\xa0km (79.7\\xa0mi)' '449.45\\xa0km (279.28\\xa0mi)'\n",
            " '128.2\\xa0km (79.7\\xa0mi)' '39.182\\xa0km (24.347\\xa0mi)'\n",
            " '185.36\\xa0km (115.18\\xa0mi)' '315.86\\xa0km (196.27\\xa0mi)'\n",
            " '795.5\\xa0km (494.3\\xa0mi)' '47.1\\xa0km (29.3\\xa0mi)'\n",
            " '115.9\\xa0km (72.0\\xa0mi)' '547.42\\xa0km (340.15\\xa0mi)'\n",
            " '76.5\\xa0km (47.5\\xa0mi)' '208.2\\xa0km (129.4\\xa0mi)'\n",
            " '23.647\\xa0km (14.694\\xa0mi)' '52.4\\xa0km (32.6\\xa0mi)'\n",
            " '288.25\\xa0km (179.11\\xa0mi)' '27.615\\xa0km (17.159\\xa0mi)'\n",
            " '53.507\\xa0km (33.248\\xa0mi)' '460.944\\xa0km (286.417\\xa0mi)'\n",
            " '114.8\\xa0km (71.3\\xa0mi)' '98.4\\xa0km (61.1\\xa0mi)'\n",
            " '278.5\\xa0km (173.1\\xa0mi)' '64.35\\xa0km (39.99\\xa0mi)'\n",
            " '232.5\\xa0km (144.5\\xa0mi)' '31.3\\xa0km (19.4\\xa0mi)'\n",
            " '65.4\\xa0km (40.6\\xa0mi)' '38.2\\xa0km (23.7\\xa0mi)'\n",
            " '31.0\\xa0km (19.3\\xa0mi)' '22.6\\xa0km (14.0\\xa0mi)'\n",
            " '93.1\\xa0km (57.8\\xa0mi)' '43\\xa0km (27\\xa0mi)' '45\\xa0km (28\\xa0mi)'\n",
            " '32.0\\xa0km (19.9\\xa0mi)' '22.7\\xa0km (14.1\\xa0mi)'\n",
            " '226.9\\xa0km (141.0\\xa0mi)' '22.4\\xa0km (13.9\\xa0mi)'\n",
            " '28.2\\xa0km (17.5\\xa0mi)' '28.6\\xa0km (17.8\\xa0mi)'\n",
            " '147.8\\xa0km (91.8\\xa0mi)' '105.8\\xa0km (65.7\\xa0mi)'\n",
            " '95\\xa0km (59\\xa0mi)' '38.2\\xa0km (23.7\\xa0mi)' '91.7\\xa0km (57.0\\xa0mi)'\n",
            " '38.2\\xa0km (23.7\\xa0mi)' '37.86\\xa0km (23.53\\xa0mi)'\n",
            " '68.6\\xa0km (42.6\\xa0mi)' '54\\xa0km (34\\xa0mi)'\n",
            " '348.12\\xa0km (216.31\\xa0mi)' '12.8\\xa0km (8.0\\xa0mi)'\n",
            " '69\\xa0km (43\\xa0mi)' '12.0\\xa0km (7.5\\xa0mi)' '8.98\\xa0km (5.58\\xa0mi)'\n",
            " '27.4\\xa0km (17.0\\xa0mi)' '46.96\\xa0km (29.18\\xa0mi)'\n",
            " '22.87\\xa0km (14.21\\xa0mi)' '46.4\\xa0km (28.8\\xa0mi)'\n",
            " '38.2\\xa0km (23.7\\xa0mi)' '29.7\\xa0km (18.5\\xa0mi)'\n",
            " '12\\xa0km (7.5\\xa0mi)' '15.7\\xa0km (9.8\\xa0mi)' '20.2\\xa0km (12.6\\xa0mi)'\n",
            " '37.5\\xa0km (23.3\\xa0mi)' '32.5\\xa0km (20.2\\xa0mi)'\n",
            " '6.5\\xa0km (4.0\\xa0mi)' '17.2\\xa0km (10.7\\xa0mi)'\n",
            " '168.2\\xa0km (104.5\\xa0mi)' '13.7\\xa0km (8.5\\xa0mi)'\n",
            " '8.8\\xa0km (5.5\\xa0mi)' '7.1\\xa0km (4.4\\xa0mi)'\n",
            " '102.5\\xa0km (63.7\\xa0mi)' '30.8\\xa0km (19.1\\xa0mi)'\n",
            " '60\\xa0km (37\\xa0mi)' '15.1\\xa0km (9.4\\xa0mi)' '31.4\\xa0km (19.5\\xa0mi)'\n",
            " '18.4\\xa0km (11.4\\xa0mi)' '38.1\\xa0km (23.7\\xa0mi)'\n",
            " '31.2\\xa0km (19.4\\xa0mi)' '93.3\\xa0km (58.0\\xa0mi)'\n",
            " '129.9\\xa0km (80.7\\xa0mi)' '48.0\\xa0km (29.8\\xa0mi)'\n",
            " '28.7\\xa0km (17.8\\xa0mi)' '109.0\\xa0km (67.7\\xa0mi)'\n",
            " '195.1\\xa0km (121.2\\xa0mi)' '12.2\\xa0km (7.6\\xa0mi)'\n",
            " '53.4\\xa0km (33.2\\xa0mi)' '4.1\\xa0km (2.5\\xa0mi)'\n",
            " '13.4\\xa0km (8.3\\xa0mi)' '22.5\\xa0km (14.0\\xa0mi)'\n",
            " '139.9\\xa0km (86.9\\xa0mi)' '82.9\\xa0km (51.5\\xa0mi)'\n",
            " '22.7\\xa0km (14.1\\xa0mi)' '20.1\\xa0km (12.5\\xa0mi)'\n",
            " '59.4\\xa0km (36.9\\xa0mi)' '345.3\\xa0km (214.6\\xa0mi)'\n",
            " '151.7\\xa0km (94.3\\xa0mi)' '33.4\\xa0km (20.8\\xa0mi)'\n",
            " '196.2\\xa0km (121.9\\xa0mi)' '46.5\\xa0km (28.9\\xa0mi)'\n",
            " '200.88\\xa0km (124.82\\xa0mi)' '40.2\\xa0km (25.0\\xa0mi)'\n",
            " '41.2\\xa0km (25.6\\xa0mi)' '103.1\\xa0km (64.1\\xa0mi)' '13 km (8.1 mi)'\n",
            " '85\\xa0km (53\\xa0mi)' '27.1\\xa0km (16.8\\xa0mi)' '39.3\\xa0km (24.4\\xa0mi)'\n",
            " '34.6\\xa0km (21.5\\xa0mi)' '37.2\\xa0km (23.1\\xa0mi)'\n",
            " '16.9\\xa0km (10.5\\xa0mi)' '41.3\\xa0km (25.7\\xa0mi)'\n",
            " '44.2\\xa0km (27.5\\xa0mi)' '76\\xa0km (47\\xa0mi)' '80.1\\xa0km (49.8\\xa0mi)'\n",
            " '16.8\\xa0km (10.4\\xa0mi)' '461.5\\xa0km (286.8\\xa0mi)'\n",
            " '21.82\\xa0km (13.56\\xa0mi)' '15.9\\xa0km (9.9\\xa0mi)'\n",
            " '124.8\\xa0km (77.5\\xa0mi)' '11.6\\xa0km (7.2\\xa0mi)'\n",
            " '12.7\\xa0km (7.9\\xa0mi)' '230.2\\xa0km (143.0\\xa0mi)'\n",
            " '128.3\\xa0km (79.7\\xa0mi)' '45.1\\xa0km (28.0\\xa0mi)'\n",
            " '293.9\\xa0km (182.6\\xa0mi)' '108\\xa0km (67\\xa0mi)'\n",
            " '5.9\\xa0km (3.7\\xa0mi)' '42.7\\xa0km (26.5\\xa0mi)'\n",
            " '146.2\\xa0km (90.8\\xa0mi)' '16.7\\xa0km (10.4\\xa0mi)'\n",
            " '53.1\\xa0km (33.0\\xa0mi)' '68.2\\xa0km (42.4\\xa0mi)' '71\\xa0km (44\\xa0mi)'\n",
            " '13.9\\xa0km (8.6\\xa0mi)' '67.4\\xa0km (41.9\\xa0mi)'\n",
            " '38.9\\xa0km (24.2\\xa0mi)' '199.2\\xa0km (123.8\\xa0mi)'\n",
            " '20\\xa0km (12\\xa0mi)' '7.8\\xa0km (4.8\\xa0mi)' '38.7\\xa0km (24.0\\xa0mi)'\n",
            " '67.7\\xa0km (42.1\\xa0mi)' '89.3\\xa0km (55.5\\xa0mi)'\n",
            " '10.4\\xa0km (6.5\\xa0mi)' '402\\xa0km (250\\xa0mi)' '34\\xa0km (21\\xa0mi)'\n",
            " '76.6\\xa0km (47.6\\xa0mi)' '24.9\\xa0km (15.5\\xa0mi)' '61\\xa0km (38\\xa0mi)'\n",
            " '165.4\\xa0km (102.8\\xa0mi)' '31\\xa0km (19\\xa0mi)'\n",
            " '28.0\\xa0km (17.4\\xa0mi)' '39.3\\xa0km (24.4\\xa0mi)'\n",
            " '399\\xa0km (248\\xa0mi)' '22.5\\xa0km (14.0\\xa0mi)'\n",
            " '22.2\\xa0km (13.8\\xa0mi)' '59.1\\xa0km (36.7\\xa0mi)'\n",
            " '22.9\\xa0km (14.2\\xa0mi)' '191.5\\xa0km (119.0\\xa0mi)'\n",
            " '17.2\\xa0km (10.7\\xa0mi)' '206\\xa0km (128\\xa0mi)'\n",
            " '59.1\\xa0km (36.7\\xa0mi)' '67.2\\xa0km (41.8\\xa0mi)'\n",
            " '13.1\\xa0km (8.1\\xa0mi)']\n",
            "[ 19  78  10  13  98  27   9  33  59  19  27  20  22  28  41  19  89  44\n",
            "  68  75  53 119 370  59 135  43 284 238  99  15  61  74 254  55 254  62\n",
            " 133  43  99  40  32 103  20  33  94 191  93  28 116 146 403  28  85 303\n",
            "  60 154  23  15 181  21  18 254  80  66 173  51 143  27  58  39  33  15\n",
            "  74  30  60  40  29 308  28  37  23 175  93  96  49  66  48  31  63  42\n",
            " 230  11  56  11   9  24  40  21  40  36  21  10  13  20  35  22   2  18\n",
            " 123  17  10   8 112  27  73  23  36  22  28  31  87 100  46  29  99 142\n",
            "   8  40   6  11  17 108  88  22  20  56 279  86  16 129  46 163  38  39\n",
            "  71   5 101  26  31  26  33  13  38  50  37  56  11 289  15  14  72  10\n",
            "   9 134 132  42 242 100  14  37 119  18  22  60  53  13  57  39 128  17\n",
            "   6  30  52  53  15 272  45  38  14  51 145  18  16  23 424  21  13  72\n",
            "  13  47  16  98  48  49  12]\n"
          ]
        },
        {
          "output_type": "display_data",
          "data": {
            "text/plain": [
              "<Figure size 640x480 with 1 Axes>"
            ],
            "image/png": "[encoded data removed]"
          },
          "metadata": {}
        }
      ]
    },
    {
      "cell_type": "code",
      "source": [
        "import numpy as np\n",
        "import pandas as pd\n",
        "import matplotlib.pyplot as plt\n",
        "csv_file_path = \"/content/drive/MyDrive/STUDENT_DATASET.csv\"\n",
        "data_frame = pd.read_csv(csv_file_path)\n",
        "array_data = np.array(data_frame)\n",
        "x = np.array(data_frame[\"sex\"])\n",
        "y = np.array(data_frame[\"Section\"])\n",
        "print(array_data)\n",
        "print(x)\n",
        "print(y)\n",
        "plt.plot(x, y, marker=\"o\")\n",
        "plt.xlabel(\"sex\")\n",
        "plt.ylabel(\"Section\")\n",
        "plt.title(\"Graph of Column1 vs Column2\")\n",
        "plt.show()"
      ],
      "metadata": {
        "colab": {
          "base_uri": "https://localhost:8080/",
          "height": 1000
        },
        "id": "QrHZwZatgZTf",
        "outputId": "90df9f08-c04a-484f-bff1-6754999c6645"
      },
      "execution_count": null,
      "outputs": [
        {
          "output_type": "stream",
          "name": "stdout",
          "text": [
            "[[19 'female' 300 'A' 'AAA' 'Banglore' 75.0]\n",
            " [18 'male' 330 'B' 'BBB' 'Pune' 82.5]\n",
            " [28 'male' 324 'C' 'CDC' 'Mumbai' 81.0]\n",
            " [33 'male' 322 'D' 'SDC' 'Delhi' 80.5]\n",
            " [32 'male' 240 'A' 'SFG' 'Mumbai' 60.0]\n",
            " [31 'female' 250 'B' 'DFG' 'Banglore' 62.5]\n",
            " [46 'female' 390 'C' 'SDS' 'Pune' 97.5]\n",
            " [37 'female' 300 'D' 'AAB' 'Mumbai' 75.0]\n",
            " [37 'male' 325 'A' 'BBC' 'Delhi' 81.25]\n",
            " [60 'female' 311 'B' 'HHH' 'Pune' 77.75]\n",
            " [25 'male' 322 'C' 'FGF' 'Banglore' 80.5]\n",
            " [62 'female' 388 'D' 'HJI' 'Pune' 97.0]\n",
            " [23 'male' 321 'A' 'KOJ' 'Mumbai' 80.25]\n",
            " [56 'female' 234 'B' 'KLO' 'Delhi' 58.5]\n",
            " [27 'male' 250 'C' 'PLK' 'Pune' 62.5]\n",
            " [19 'male' 200 'D' 'PLI' 'Mumbai' 50.0]\n",
            " [52 'female' 280 'A' 'PLY' 'Delhi' 70.0]\n",
            " [23 'male' 281 'B' 'PLT' 'Banglore' 70.25]\n",
            " [56 'male' 276 'C' 'OIU' 'Pune' 69.0]\n",
            " [30 'male' 245 'D' 'POI' 'Mumbai' 61.25]\n",
            " [60 'female' 301 'A' 'PLO' 'Banglore' 75.25]\n",
            " [30 'female' 202 'B' 'DFT' 'Pune' 50.5]\n",
            " [18 'male' 345 'C' 'OKE' 'Mumbai' 86.25]\n",
            " [34 'female' 356 'D' 'OKW' 'Banglore' 89.0]\n",
            " [37 'male' 322 'A' 'OKQ' 'Pune' 80.5]\n",
            " [59 'female' 333 'B' 'KOW' 'Mumbai' 83.25]\n",
            " [63 'female' 222 'C' 'KOE' 'Delhi' 55.5]\n",
            " [55 'female' 345 'D' 'KPR' 'Delhi' 86.25]\n",
            " [23 'male' 312 'A' 'TYU' 'Pune' 78.0]\n",
            " [31 'male' 221 'B' 'UYT' 'Banglore' 55.25]\n",
            " [22 'male' 303 'C' 'YUT' 'Pune' 75.75]\n",
            " [18 'female' 304 'D' 'MNB' 'Banglore' 76.0]\n",
            " [19 'female' 322 'A' 'MNV' 'Delhi' 80.5]\n",
            " [63 'male' 333 'B' 'MNC' 'Pune' 83.25]\n",
            " [28 'male' 123 'C' 'MNX' 'Banglore' 30.75]\n",
            " [19 'male' 349 'D' 'MNZ' 'Pune' 87.25]\n",
            " [62 'female' 344 'A' 'ZXC' 'Mumbai' 86.0]\n",
            " [26 'male' 345 'B' 'XCV' 'Delhi' 86.25]\n",
            " [35 'male' 267 'C' 'CVB' 'Banglore' 66.75]\n",
            " [60 'male' 268 'D' 'VBN' 'Pune' 67.0]\n",
            " [24 'female' 276 'A' 'BNM' 'Mumbai' 69.0]\n",
            " [31 'female' 287 'B' 'NBV' 'Delhi' 71.75]\n",
            " [41 'male' 278 'C' 'BVC' 'Delhi' 69.5]\n",
            " [37 'female' 343 'D' 'VCX' 'Banglore' 85.75]\n",
            " [38 'male' 353 'A' 'CXZ' 'Pune' 88.25]\n",
            " [55 'male' 363 'B' 'DCV' 'Banglore' 90.75]\n",
            " [18 'female' 377 'C' 'DER' 'Pune' 94.25]\n",
            " [28 'female' 388 'D' 'FGH' 'Mumbai' 97.0]\n",
            " [60 'female' 329 'A' 'HUJ' 'Delhi' 82.25]\n",
            " [36 'male' 293 'B' 'GHU' 'Banglore' 73.25]\n",
            " [18 'female' 233 'C' 'YUH' 'Pune' 58.25]\n",
            " [21 'female' 245 'D' 'IJU' 'Mumbai' 61.25]\n",
            " [48 'male' 244 'A' 'MNK' 'Banglore' 61.0]\n",
            " [36 'male' 239 'B' 'OMN' 'Pune' 59.75]\n",
            " [40 'female' 287 'C' 'PLM' 'Mumbai' 71.75]\n",
            " [58 'male' 304 'D' 'OKN' 'Banglore' 76.0]\n",
            " [58 'female' 306 'A' 'IJB' 'Pune' 76.5]\n",
            " [18 'male' 127 'B' 'UHB' 'Mumbai' 31.75]\n",
            " [53 'female' 101 'C' 'YGV' 'Delhi' 25.25]\n",
            " [34 'female' 321 'D' 'TFC' 'Banglore' 80.25]\n",
            " [43 'male' 343 'A' 'RDX' 'Pune' 85.75]\n",
            " [25 'male' 366 'B' 'RDS' 'Mumbai' 91.5]\n",
            " [64 'male' 388 'C' 'ESX' 'Delhi' 97.0]\n",
            " [28 'female' 373 'D' 'WAX' 'Delhi' 93.25]\n",
            " [20 'female' 363 'A' 'ZAW' 'Banglore' 90.75]\n",
            " [19 'female' 353 'B' 'QSX' 'Pune' 88.25]\n",
            " [61 'female' 342 'C' 'RFB' 'Mumbai' 85.5]\n",
            " [40 'male' 324 'D' 'UJO' 'Banglore' 81.0]\n",
            " [40 'female' 353 'A' 'GHJ' 'Pune' 88.25]\n",
            " [28 'male' 363 'B' 'LKJ' 'Mumbai' 90.75]\n",
            " [27 'female' 373 'C' 'KJH' 'Delhi' 93.25]\n",
            " [31 'male' 298 'D' 'JHG' 'Pune' 74.5]\n",
            " [53 'female' 299 'A' 'HGF' 'Banglore' 74.75]\n",
            " [58 'male' 307 'B' 'GFD' 'Pune' 76.75]\n",
            " [44 'male' 389 'C' 'FDS' 'Mumbai' 97.25]\n",
            " [57 'male' 398 'D' 'DSA' 'Delhi' 99.5]\n",
            " [29 'female' 238 'A' 'ASD' 'Delhi' 59.5]\n",
            " [21 'male' 389 'B' 'SDF' 'Pune' 97.25]\n",
            " [22 'female' 398 'C' 'DFR' 'Banglore' 99.5]\n",
            " [41 'female' 288 'D' 'QWE' 'Pune' 72.0]\n",
            " [31 'male' 277 'A' 'WER' 'Delhi' 69.25]\n",
            " [45 'female' 262 'B' 'ERT' 'Pune' 65.5]\n",
            " [22 'male' 345 'C' 'TYU' 'Banglore' 86.25]\n",
            " [48 'female' 378 'D' 'YUI' 'Pune' 94.5]\n",
            " [37 'female' 383 'A' 'UIO' 'Banglore' 95.75]\n",
            " [45 'male' 343 'B' 'IOP' 'Delhi' 85.75]\n",
            " [57 'female' 333 'C' 'LMG' 'Delhi' 83.25]\n",
            " [56 'female' 323 'D' 'JDH' 'Pune' 80.75]\n",
            " [46 'female' 356 'A' 'VCB' 'Banglore' 89.0]\n",
            " [55 'female' 376 'B' 'VDF' 'Pune' 94.0]\n",
            " [21 'female' 378 'C' 'BGH' 'Banglore' 94.5]\n",
            " [53 'female' 398 'D' 'JKP' 'Delhi' 99.5]\n",
            " [59 'male' 276 'A' 'ABC' 'Pune' 69.0]\n",
            " [35 'male' 254 'B' 'DBN' 'Banglore' 63.5]\n",
            " [64 'female' 356 'C' 'NMB' 'Pune' 89.0]\n",
            " [28 'female' 344 'D' 'FDT' 'Delhi' 86.0]\n",
            " [54 'female' 245 'A' 'TAM' 'Pune' 61.25]\n",
            " [55 'male' 388 'B' 'GQP' 'Banglore' 97.0]\n",
            " [56 'male' 365 'C' 'KKK' 'Pune' 91.25]]\n",
            "['female' 'male' 'male' 'male' 'male' 'female' 'female' 'female' 'male'\n",
            " 'female' 'male' 'female' 'male' 'female' 'male' 'male' 'female' 'male'\n",
            " 'male' 'male' 'female' 'female' 'male' 'female' 'male' 'female' 'female'\n",
            " 'female' 'male' 'male' 'male' 'female' 'female' 'male' 'male' 'male'\n",
            " 'female' 'male' 'male' 'male' 'female' 'female' 'male' 'female' 'male'\n",
            " 'male' 'female' 'female' 'female' 'male' 'female' 'female' 'male' 'male'\n",
            " 'female' 'male' 'female' 'male' 'female' 'female' 'male' 'male' 'male'\n",
            " 'female' 'female' 'female' 'female' 'male' 'female' 'male' 'female'\n",
            " 'male' 'female' 'male' 'male' 'male' 'female' 'male' 'female' 'female'\n",
            " 'male' 'female' 'male' 'female' 'female' 'male' 'female' 'female'\n",
            " 'female' 'female' 'female' 'female' 'male' 'male' 'female' 'female'\n",
            " 'female' 'male' 'male']\n",
            "['A' 'B' 'C' 'D' 'A' 'B' 'C' 'D' 'A' 'B' 'C' 'D' 'A' 'B' 'C' 'D' 'A' 'B'\n",
            " 'C' 'D' 'A' 'B' 'C' 'D' 'A' 'B' 'C' 'D' 'A' 'B' 'C' 'D' 'A' 'B' 'C' 'D'\n",
            " 'A' 'B' 'C' 'D' 'A' 'B' 'C' 'D' 'A' 'B' 'C' 'D' 'A' 'B' 'C' 'D' 'A' 'B'\n",
            " 'C' 'D' 'A' 'B' 'C' 'D' 'A' 'B' 'C' 'D' 'A' 'B' 'C' 'D' 'A' 'B' 'C' 'D'\n",
            " 'A' 'B' 'C' 'D' 'A' 'B' 'C' 'D' 'A' 'B' 'C' 'D' 'A' 'B' 'C' 'D' 'A' 'B'\n",
            " 'C' 'D' 'A' 'B' 'C' 'D' 'A' 'B' 'C']\n"
          ]
        },
        {
          "output_type": "display_data",
          "data": {
            "text/plain": [
              "<Figure size 640x480 with 1 Axes>"
            ],
            "image/png": "[encoded data removed]"
          },
          "metadata": {}
        }
      ]
    },
    {
      "cell_type": "code",
      "source": [
        "import pandas as pd\n",
        "df=pd.read_csv('/content/drive/MyDrive/STUDENT_DATASET.csv')\n",
        "a=df.groupby('name')['percentage'].count()<=60\n",
        "b=df.aggregate(['sum','min','max'])\n",
        "print(b)\n",
        "print(a)"
      ],
      "metadata": {
        "colab": {
          "base_uri": "https://localhost:8080/"
        },
        "id": "f7qY5sZ2ibMC",
        "outputId": "70117cf8-3f0d-4080-c7a1-27dd55d39211"
      },
      "execution_count": null,
      "outputs": [
        {
          "output_type": "stream",
          "name": "stdout",
          "text": [
            "      age                                                sex  Marks(400)  \\\n",
            "sum  3846  femalemalemalemalemalefemalefemalefemalemalefe...       30825   \n",
            "min    18                                             female         101   \n",
            "max    64                                               male         398   \n",
            "\n",
            "                                               Section  \\\n",
            "sum  ABCDABCDABCDABCDABCDABCDABCDABCDABCDABCDABCDAB...   \n",
            "min                                                  A   \n",
            "max                                                  D   \n",
            "\n",
            "                                                  name  \\\n",
            "sum  AAABBBCDCSDCSFGDFGSDSAABBBCHHHFGFHJIKOJKLOPLKP...   \n",
            "min                                                AAA   \n",
            "max                                                ZXC   \n",
            "\n",
            "                                                  City  percentage  \n",
            "sum  BanglorePuneMumbaiDelhiMumbaiBanglorePuneMumba...     7706.25  \n",
            "min                                           Banglore       25.25  \n",
            "max                                               Pune       99.50  \n",
            "name\n",
            "AAA    True\n",
            "AAB    True\n",
            "ABC    True\n",
            "ASD    True\n",
            "BBB    True\n",
            "       ... \n",
            "YUH    True\n",
            "YUI    True\n",
            "YUT    True\n",
            "ZAW    True\n",
            "ZXC    True\n",
            "Name: percentage, Length: 98, dtype: bool\n"
          ]
        }
      ]
    },
    {
      "cell_type": "code",
      "source": [
        "import pandas as pd\n",
        "df=pd.read_csv('/content/drive/MyDrive/118 HOBBY.csv')\n",
        "b=pd.DataFrame(df)\n",
        "print(b)\n"
      ],
      "metadata": {
        "colab": {
          "base_uri": "https://localhost:8080/"
        },
        "id": "SGOTMWXZ8OXu",
        "outputId": "ff7d2501-a4c7-4bc2-dbe2-3fe449dac82c"
      },
      "execution_count": null,
      "outputs": [
        {
          "output_type": "stream",
          "name": "stdout",
          "text": [
            "   sr no     name    hobby  age division\n",
            "0      1   ramesh  reading   12        A\n",
            "1      2   rupesh  writing   23        B\n",
            "2      3   suresh  drivimg   43        C\n",
            "3      4  msngesh  driving   22        B\n",
            "4      5   rakesh  writing   11        A\n",
            "5      6   mahesh  reading   33        B\n",
            "6      7   paresh  driving   17        B\n",
            "7      8   dinesh  reading   16        C\n",
            "8      9   ritesh  reading   18        C\n",
            "9     10   salman  writing   45        A\n"
          ]
        }
      ]
    },
    {
      "cell_type": "code",
      "source": [
        "df[\"name\"]=df['name'].map(lambda name:name.upper())\n",
        "df"
      ],
      "metadata": {
        "colab": {
          "base_uri": "https://localhost:8080/",
          "height": 363
        },
        "id": "_MnWfS3n8QYX",
        "outputId": "ecdffdcb-a233-43c0-fb8b-cf6f4bbe507d"
      },
      "execution_count": null,
      "outputs": [
        {
          "output_type": "execute_result",
          "data": {
            "text/plain": [
              "   sr no     name    hobby  age division\n",
              "0      1   RAMESH  reading   12        A\n",
              "1      2   RUPESH  writing   23        B\n",
              "2      3   SURESH  drivimg   43        C\n",
              "3      4  MSNGESH  driving   22        B\n",
              "4      5   RAKESH  writing   11        A\n",
              "5      6   MAHESH  reading   33        B\n",
              "6      7   PARESH  driving   17        B\n",
              "7      8   DINESH  reading   16        C\n",
              "8      9   RITESH  reading   18        C\n",
              "9     10   SALMAN  writing   45        A"
            ],
            "text/html": [
              "\n",
              "  <div id=\"df-adb7af5a-4ee0-4275-bc34-74fd5cbedc2d\">\n",
              "    <div class=\"colab-df-container\">\n",
              "      <div>\n",
              "<style scoped>\n",
              "    .dataframe tbody tr th:only-of-type {\n",
              "        vertical-align: middle;\n",
              "    }\n",
              "\n",
              "    .dataframe tbody tr th {\n",
              "        vertical-align: top;\n",
              "    }\n",
              "\n",
              "    .dataframe thead th {\n",
              "        text-align: right;\n",
              "    }\n",
              "</style>\n",
              "<table border=\"1\" class=\"dataframe\">\n",
              "  <thead>\n",
              "    <tr style=\"text-align: right;\">\n",
              "      <th></th>\n",
              "      <th>sr no</th>\n",
              "      <th>name</th>\n",
              "      <th>hobby</th>\n",
              "      <th>age</th>\n",
              "      <th>division</th>\n",
              "    </tr>\n",
              "  </thead>\n",
              "  <tbody>\n",
              "    <tr>\n",
              "      <th>0</th>\n",
              "      <td>1</td>\n",
              "      <td>RAMESH</td>\n",
              "      <td>reading</td>\n",
              "      <td>12</td>\n",
              "      <td>A</td>\n",
              "    </tr>\n",
              "    <tr>\n",
              "      <th>1</th>\n",
              "      <td>2</td>\n",
              "      <td>RUPESH</td>\n",
              "      <td>writing</td>\n",
              "      <td>23</td>\n",
              "      <td>B</td>\n",
              "    </tr>\n",
              "    <tr>\n",
              "      <th>2</th>\n",
              "      <td>3</td>\n",
              "      <td>SURESH</td>\n",
              "      <td>drivimg</td>\n",
              "      <td>43</td>\n",
              "      <td>C</td>\n",
              "    </tr>\n",
              "    <tr>\n",
              "      <th>3</th>\n",
              "      <td>4</td>\n",
              "      <td>MSNGESH</td>\n",
              "      <td>driving</td>\n",
              "      <td>22</td>\n",
              "      <td>B</td>\n",
              "    </tr>\n",
              "    <tr>\n",
              "      <th>4</th>\n",
              "      <td>5</td>\n",
              "      <td>RAKESH</td>\n",
              "      <td>writing</td>\n",
              "      <td>11</td>\n",
              "      <td>A</td>\n",
              "    </tr>\n",
              "    <tr>\n",
              "      <th>5</th>\n",
              "      <td>6</td>\n",
              "      <td>MAHESH</td>\n",
              "      <td>reading</td>\n",
              "      <td>33</td>\n",
              "      <td>B</td>\n",
              "    </tr>\n",
              "    <tr>\n",
              "      <th>6</th>\n",
              "      <td>7</td>\n",
              "      <td>PARESH</td>\n",
              "      <td>driving</td>\n",
              "      <td>17</td>\n",
              "      <td>B</td>\n",
              "    </tr>\n",
              "    <tr>\n",
              "      <th>7</th>\n",
              "      <td>8</td>\n",
              "      <td>DINESH</td>\n",
              "      <td>reading</td>\n",
              "      <td>16</td>\n",
              "      <td>C</td>\n",
              "    </tr>\n",
              "    <tr>\n",
              "      <th>8</th>\n",
              "      <td>9</td>\n",
              "      <td>RITESH</td>\n",
              "      <td>reading</td>\n",
              "      <td>18</td>\n",
              "      <td>C</td>\n",
              "    </tr>\n",
              "    <tr>\n",
              "      <th>9</th>\n",
              "      <td>10</td>\n",
              "      <td>SALMAN</td>\n",
              "      <td>writing</td>\n",
              "      <td>45</td>\n",
              "      <td>A</td>\n",
              "    </tr>\n",
              "  </tbody>\n",
              "</table>\n",
              "</div>\n",
              "      <button class=\"colab-df-convert\" onclick=\"convertToInteractive('df-adb7af5a-4ee0-4275-bc34-74fd5cbedc2d')\"\n",
              "              title=\"Convert this dataframe to an interactive table.\"\n",
              "              style=\"display:none;\">\n",
              "        \n",
              "  <svg xmlns=\"http://www.w3.org/2000/svg\" height=\"24px\"viewBox=\"0 0 24 24\"\n",
              "       width=\"24px\">\n",
              "    <path d=\"M0 0h24v24H0V0z\" fill=\"none\"/>\n",
              "    <path d=\"M18.56 5.44l.94 2.06.94-2.06 2.06-.94-2.06-.94-.94-2.06-.94 2.06-2.06.94zm-11 1L8.5 8.5l.94-2.06 2.06-.94-2.06-.94L8.5 2.5l-.94 2.06-2.06.94zm10 10l.94 2.06.94-2.06 2.06-.94-2.06-.94-.94-2.06-.94 2.06-2.06.94z\"/><path d=\"M17.41 7.96l-1.37-1.37c-.4-.4-.92-.59-1.43-.59-.52 0-1.04.2-1.43.59L10.3 9.45l-7.72 7.72c-.78.78-.78 2.05 0 2.83L4 21.41c.39.39.9.59 1.41.59.51 0 1.02-.2 1.41-.59l7.78-7.78 2.81-2.81c.8-.78.8-2.07 0-2.86zM5.41 20L4 18.59l7.72-7.72 1.47 1.35L5.41 20z\"/>\n",
              "  </svg>\n",
              "      </button>\n",
              "      \n",
              "  <style>\n",
              "    .colab-df-container {\n",
              "      display:flex;\n",
              "      flex-wrap:wrap;\n",
              "      gap: 12px;\n",
              "    }\n",
              "\n",
              "    .colab-df-convert {\n",
              "      background-color: #E8F0FE;\n",
              "      border: none;\n",
              "      border-radius: 50%;\n",
              "      cursor: pointer;\n",
              "      display: none;\n",
              "      fill: #1967D2;\n",
              "      height: 32px;\n",
              "      padding: 0 0 0 0;\n",
              "      width: 32px;\n",
              "    }\n",
              "\n",
              "    .colab-df-convert:hover {\n",
              "      background-color: #E2EBFA;\n",
              "      box-shadow: 0px 1px 2px rgba(60, 64, 67, 0.3), 0px 1px 3px 1px rgba(60, 64, 67, 0.15);\n",
              "      fill: #174EA6;\n",
              "    }\n",
              "\n",
              "    [theme=dark] .colab-df-convert {\n",
              "      background-color: #3B4455;\n",
              "      fill: #D2E3FC;\n",
              "    }\n",
              "\n",
              "    [theme=dark] .colab-df-convert:hover {\n",
              "      background-color: #434B5C;\n",
              "      box-shadow: 0px 1px 3px 1px rgba(0, 0, 0, 0.15);\n",
              "      filter: drop-shadow(0px 1px 2px rgba(0, 0, 0, 0.3));\n",
              "      fill: #FFFFFF;\n",
              "    }\n",
              "  </style>\n",
              "\n",
              "      <script>\n",
              "        const buttonEl =\n",
              "          document.querySelector('#df-adb7af5a-4ee0-4275-bc34-74fd5cbedc2d button.colab-df-convert');\n",
              "        buttonEl.style.display =\n",
              "          google.colab.kernel.accessAllowed ? 'block' : 'none';\n",
              "\n",
              "        async function convertToInteractive(key) {\n",
              "          const element = document.querySelector('#df-adb7af5a-4ee0-4275-bc34-74fd5cbedc2d');\n",
              "          const dataTable =\n",
              "            await google.colab.kernel.invokeFunction('convertToInteractive',\n",
              "                                                     [key], {});\n",
              "          if (!dataTable) return;\n",
              "\n",
              "          const docLinkHtml = 'Like what you see? Visit the ' +\n",
              "            '<a target=\"_blank\" href=https://colab.research.google.com/notebooks/data_table.ipynb>data table notebook</a>'\n",
              "            + ' to learn more about interactive tables.';\n",
              "          element.innerHTML = '';\n",
              "          dataTable['output_type'] = 'display_data';\n",
              "          await google.colab.output.renderOutput(dataTable, element);\n",
              "          const docLink = document.createElement('div');\n",
              "          docLink.innerHTML = docLinkHtml;\n",
              "          element.appendChild(docLink);\n",
              "        }\n",
              "      </script>\n",
              "    </div>\n",
              "  </div>\n",
              "  "
            ]
          },
          "metadata": {},
          "execution_count": 2
        }
      ]
    },
    {
      "cell_type": "code",
      "source": [
        "df[\"age\"]=df['age']*3\n",
        "df"
      ],
      "metadata": {
        "colab": {
          "base_uri": "https://localhost:8080/",
          "height": 363
        },
        "id": "-HXW_rrH9It_",
        "outputId": "7f302b5f-09ef-42d1-9f60-6050703cf300"
      },
      "execution_count": null,
      "outputs": [
        {
          "output_type": "execute_result",
          "data": {
            "text/plain": [
              "   sr no     name    hobby  age division\n",
              "0      1   RAMESH  reading   36        A\n",
              "1      2   RUPESH  writing   69        B\n",
              "2      3   SURESH  drivimg  129        C\n",
              "3      4  MSNGESH  driving   66        B\n",
              "4      5   RAKESH  writing   33        A\n",
              "5      6   MAHESH  reading   99        B\n",
              "6      7   PARESH  driving   51        B\n",
              "7      8   DINESH  reading   48        C\n",
              "8      9   RITESH  reading   54        C\n",
              "9     10   SALMAN  writing  135        A"
            ],
            "text/html": [
              "\n",
              "  <div id=\"df-1222b002-dfbc-4ef8-94b1-5e0f91e6b28e\">\n",
              "    <div class=\"colab-df-container\">\n",
              "      <div>\n",
              "<style scoped>\n",
              "    .dataframe tbody tr th:only-of-type {\n",
              "        vertical-align: middle;\n",
              "    }\n",
              "\n",
              "    .dataframe tbody tr th {\n",
              "        vertical-align: top;\n",
              "    }\n",
              "\n",
              "    .dataframe thead th {\n",
              "        text-align: right;\n",
              "    }\n",
              "</style>\n",
              "<table border=\"1\" class=\"dataframe\">\n",
              "  <thead>\n",
              "    <tr style=\"text-align: right;\">\n",
              "      <th></th>\n",
              "      <th>sr no</th>\n",
              "      <th>name</th>\n",
              "      <th>hobby</th>\n",
              "      <th>age</th>\n",
              "      <th>division</th>\n",
              "    </tr>\n",
              "  </thead>\n",
              "  <tbody>\n",
              "    <tr>\n",
              "      <th>0</th>\n",
              "      <td>1</td>\n",
              "      <td>RAMESH</td>\n",
              "      <td>reading</td>\n",
              "      <td>36</td>\n",
              "      <td>A</td>\n",
              "    </tr>\n",
              "    <tr>\n",
              "      <th>1</th>\n",
              "      <td>2</td>\n",
              "      <td>RUPESH</td>\n",
              "      <td>writing</td>\n",
              "      <td>69</td>\n",
              "      <td>B</td>\n",
              "    </tr>\n",
              "    <tr>\n",
              "      <th>2</th>\n",
              "      <td>3</td>\n",
              "      <td>SURESH</td>\n",
              "      <td>drivimg</td>\n",
              "      <td>129</td>\n",
              "      <td>C</td>\n",
              "    </tr>\n",
              "    <tr>\n",
              "      <th>3</th>\n",
              "      <td>4</td>\n",
              "      <td>MSNGESH</td>\n",
              "      <td>driving</td>\n",
              "      <td>66</td>\n",
              "      <td>B</td>\n",
              "    </tr>\n",
              "    <tr>\n",
              "      <th>4</th>\n",
              "      <td>5</td>\n",
              "      <td>RAKESH</td>\n",
              "      <td>writing</td>\n",
              "      <td>33</td>\n",
              "      <td>A</td>\n",
              "    </tr>\n",
              "    <tr>\n",
              "      <th>5</th>\n",
              "      <td>6</td>\n",
              "      <td>MAHESH</td>\n",
              "      <td>reading</td>\n",
              "      <td>99</td>\n",
              "      <td>B</td>\n",
              "    </tr>\n",
              "    <tr>\n",
              "      <th>6</th>\n",
              "      <td>7</td>\n",
              "      <td>PARESH</td>\n",
              "      <td>driving</td>\n",
              "      <td>51</td>\n",
              "      <td>B</td>\n",
              "    </tr>\n",
              "    <tr>\n",
              "      <th>7</th>\n",
              "      <td>8</td>\n",
              "      <td>DINESH</td>\n",
              "      <td>reading</td>\n",
              "      <td>48</td>\n",
              "      <td>C</td>\n",
              "    </tr>\n",
              "    <tr>\n",
              "      <th>8</th>\n",
              "      <td>9</td>\n",
              "      <td>RITESH</td>\n",
              "      <td>reading</td>\n",
              "      <td>54</td>\n",
              "      <td>C</td>\n",
              "    </tr>\n",
              "    <tr>\n",
              "      <th>9</th>\n",
              "      <td>10</td>\n",
              "      <td>SALMAN</td>\n",
              "      <td>writing</td>\n",
              "      <td>135</td>\n",
              "      <td>A</td>\n",
              "    </tr>\n",
              "  </tbody>\n",
              "</table>\n",
              "</div>\n",
              "      <button class=\"colab-df-convert\" onclick=\"convertToInteractive('df-1222b002-dfbc-4ef8-94b1-5e0f91e6b28e')\"\n",
              "              title=\"Convert this dataframe to an interactive table.\"\n",
              "              style=\"display:none;\">\n",
              "        \n",
              "  <svg xmlns=\"http://www.w3.org/2000/svg\" height=\"24px\"viewBox=\"0 0 24 24\"\n",
              "       width=\"24px\">\n",
              "    <path d=\"M0 0h24v24H0V0z\" fill=\"none\"/>\n",
              "    <path d=\"M18.56 5.44l.94 2.06.94-2.06 2.06-.94-2.06-.94-.94-2.06-.94 2.06-2.06.94zm-11 1L8.5 8.5l.94-2.06 2.06-.94-2.06-.94L8.5 2.5l-.94 2.06-2.06.94zm10 10l.94 2.06.94-2.06 2.06-.94-2.06-.94-.94-2.06-.94 2.06-2.06.94z\"/><path d=\"M17.41 7.96l-1.37-1.37c-.4-.4-.92-.59-1.43-.59-.52 0-1.04.2-1.43.59L10.3 9.45l-7.72 7.72c-.78.78-.78 2.05 0 2.83L4 21.41c.39.39.9.59 1.41.59.51 0 1.02-.2 1.41-.59l7.78-7.78 2.81-2.81c.8-.78.8-2.07 0-2.86zM5.41 20L4 18.59l7.72-7.72 1.47 1.35L5.41 20z\"/>\n",
              "  </svg>\n",
              "      </button>\n",
              "      \n",
              "  <style>\n",
              "    .colab-df-container {\n",
              "      display:flex;\n",
              "      flex-wrap:wrap;\n",
              "      gap: 12px;\n",
              "    }\n",
              "\n",
              "    .colab-df-convert {\n",
              "      background-color: #E8F0FE;\n",
              "      border: none;\n",
              "      border-radius: 50%;\n",
              "      cursor: pointer;\n",
              "      display: none;\n",
              "      fill: #1967D2;\n",
              "      height: 32px;\n",
              "      padding: 0 0 0 0;\n",
              "      width: 32px;\n",
              "    }\n",
              "\n",
              "    .colab-df-convert:hover {\n",
              "      background-color: #E2EBFA;\n",
              "      box-shadow: 0px 1px 2px rgba(60, 64, 67, 0.3), 0px 1px 3px 1px rgba(60, 64, 67, 0.15);\n",
              "      fill: #174EA6;\n",
              "    }\n",
              "\n",
              "    [theme=dark] .colab-df-convert {\n",
              "      background-color: #3B4455;\n",
              "      fill: #D2E3FC;\n",
              "    }\n",
              "\n",
              "    [theme=dark] .colab-df-convert:hover {\n",
              "      background-color: #434B5C;\n",
              "      box-shadow: 0px 1px 3px 1px rgba(0, 0, 0, 0.15);\n",
              "      filter: drop-shadow(0px 1px 2px rgba(0, 0, 0, 0.3));\n",
              "      fill: #FFFFFF;\n",
              "    }\n",
              "  </style>\n",
              "\n",
              "      <script>\n",
              "        const buttonEl =\n",
              "          document.querySelector('#df-1222b002-dfbc-4ef8-94b1-5e0f91e6b28e button.colab-df-convert');\n",
              "        buttonEl.style.display =\n",
              "          google.colab.kernel.accessAllowed ? 'block' : 'none';\n",
              "\n",
              "        async function convertToInteractive(key) {\n",
              "          const element = document.querySelector('#df-1222b002-dfbc-4ef8-94b1-5e0f91e6b28e');\n",
              "          const dataTable =\n",
              "            await google.colab.kernel.invokeFunction('convertToInteractive',\n",
              "                                                     [key], {});\n",
              "          if (!dataTable) return;\n",
              "\n",
              "          const docLinkHtml = 'Like what you see? Visit the ' +\n",
              "            '<a target=\"_blank\" href=https://colab.research.google.com/notebooks/data_table.ipynb>data table notebook</a>'\n",
              "            + ' to learn more about interactive tables.';\n",
              "          element.innerHTML = '';\n",
              "          dataTable['output_type'] = 'display_data';\n",
              "          await google.colab.output.renderOutput(dataTable, element);\n",
              "          const docLink = document.createElement('div');\n",
              "          docLink.innerHTML = docLinkHtml;\n",
              "          element.appendChild(docLink);\n",
              "        }\n",
              "      </script>\n",
              "    </div>\n",
              "  </div>\n",
              "  "
            ]
          },
          "metadata": {},
          "execution_count": 3
        }
      ]
    },
    {
      "cell_type": "code",
      "source": [
        "df.columns=[col.upper() for col in df.columns]\n",
        "df"
      ],
      "metadata": {
        "colab": {
          "base_uri": "https://localhost:8080/",
          "height": 363
        },
        "id": "jLZY6vAm9YIO",
        "outputId": "f07b3c58-8347-437e-fbfc-773ce29cb7cd"
      },
      "execution_count": null,
      "outputs": [
        {
          "output_type": "execute_result",
          "data": {
            "text/plain": [
              "   SR NO     NAME    HOBBY  AGE DIVISION\n",
              "0      1   RAMESH  reading   36        A\n",
              "1      2   RUPESH  writing   69        B\n",
              "2      3   SURESH  drivimg  129        C\n",
              "3      4  MSNGESH  driving   66        B\n",
              "4      5   RAKESH  writing   33        A\n",
              "5      6   MAHESH  reading   99        B\n",
              "6      7   PARESH  driving   51        B\n",
              "7      8   DINESH  reading   48        C\n",
              "8      9   RITESH  reading   54        C\n",
              "9     10   SALMAN  writing  135        A"
            ],
            "text/html": [
              "\n",
              "  <div id=\"df-905d39de-6b52-48db-825a-bc212357e490\">\n",
              "    <div class=\"colab-df-container\">\n",
              "      <div>\n",
              "<style scoped>\n",
              "    .dataframe tbody tr th:only-of-type {\n",
              "        vertical-align: middle;\n",
              "    }\n",
              "\n",
              "    .dataframe tbody tr th {\n",
              "        vertical-align: top;\n",
              "    }\n",
              "\n",
              "    .dataframe thead th {\n",
              "        text-align: right;\n",
              "    }\n",
              "</style>\n",
              "<table border=\"1\" class=\"dataframe\">\n",
              "  <thead>\n",
              "    <tr style=\"text-align: right;\">\n",
              "      <th></th>\n",
              "      <th>SR NO</th>\n",
              "      <th>NAME</th>\n",
              "      <th>HOBBY</th>\n",
              "      <th>AGE</th>\n",
              "      <th>DIVISION</th>\n",
              "    </tr>\n",
              "  </thead>\n",
              "  <tbody>\n",
              "    <tr>\n",
              "      <th>0</th>\n",
              "      <td>1</td>\n",
              "      <td>RAMESH</td>\n",
              "      <td>reading</td>\n",
              "      <td>36</td>\n",
              "      <td>A</td>\n",
              "    </tr>\n",
              "    <tr>\n",
              "      <th>1</th>\n",
              "      <td>2</td>\n",
              "      <td>RUPESH</td>\n",
              "      <td>writing</td>\n",
              "      <td>69</td>\n",
              "      <td>B</td>\n",
              "    </tr>\n",
              "    <tr>\n",
              "      <th>2</th>\n",
              "      <td>3</td>\n",
              "      <td>SURESH</td>\n",
              "      <td>drivimg</td>\n",
              "      <td>129</td>\n",
              "      <td>C</td>\n",
              "    </tr>\n",
              "    <tr>\n",
              "      <th>3</th>\n",
              "      <td>4</td>\n",
              "      <td>MSNGESH</td>\n",
              "      <td>driving</td>\n",
              "      <td>66</td>\n",
              "      <td>B</td>\n",
              "    </tr>\n",
              "    <tr>\n",
              "      <th>4</th>\n",
              "      <td>5</td>\n",
              "      <td>RAKESH</td>\n",
              "      <td>writing</td>\n",
              "      <td>33</td>\n",
              "      <td>A</td>\n",
              "    </tr>\n",
              "    <tr>\n",
              "      <th>5</th>\n",
              "      <td>6</td>\n",
              "      <td>MAHESH</td>\n",
              "      <td>reading</td>\n",
              "      <td>99</td>\n",
              "      <td>B</td>\n",
              "    </tr>\n",
              "    <tr>\n",
              "      <th>6</th>\n",
              "      <td>7</td>\n",
              "      <td>PARESH</td>\n",
              "      <td>driving</td>\n",
              "      <td>51</td>\n",
              "      <td>B</td>\n",
              "    </tr>\n",
              "    <tr>\n",
              "      <th>7</th>\n",
              "      <td>8</td>\n",
              "      <td>DINESH</td>\n",
              "      <td>reading</td>\n",
              "      <td>48</td>\n",
              "      <td>C</td>\n",
              "    </tr>\n",
              "    <tr>\n",
              "      <th>8</th>\n",
              "      <td>9</td>\n",
              "      <td>RITESH</td>\n",
              "      <td>reading</td>\n",
              "      <td>54</td>\n",
              "      <td>C</td>\n",
              "    </tr>\n",
              "    <tr>\n",
              "      <th>9</th>\n",
              "      <td>10</td>\n",
              "      <td>SALMAN</td>\n",
              "      <td>writing</td>\n",
              "      <td>135</td>\n",
              "      <td>A</td>\n",
              "    </tr>\n",
              "  </tbody>\n",
              "</table>\n",
              "</div>\n",
              "      <button class=\"colab-df-convert\" onclick=\"convertToInteractive('df-905d39de-6b52-48db-825a-bc212357e490')\"\n",
              "              title=\"Convert this dataframe to an interactive table.\"\n",
              "              style=\"display:none;\">\n",
              "        \n",
              "  <svg xmlns=\"http://www.w3.org/2000/svg\" height=\"24px\"viewBox=\"0 0 24 24\"\n",
              "       width=\"24px\">\n",
              "    <path d=\"M0 0h24v24H0V0z\" fill=\"none\"/>\n",
              "    <path d=\"M18.56 5.44l.94 2.06.94-2.06 2.06-.94-2.06-.94-.94-2.06-.94 2.06-2.06.94zm-11 1L8.5 8.5l.94-2.06 2.06-.94-2.06-.94L8.5 2.5l-.94 2.06-2.06.94zm10 10l.94 2.06.94-2.06 2.06-.94-2.06-.94-.94-2.06-.94 2.06-2.06.94z\"/><path d=\"M17.41 7.96l-1.37-1.37c-.4-.4-.92-.59-1.43-.59-.52 0-1.04.2-1.43.59L10.3 9.45l-7.72 7.72c-.78.78-.78 2.05 0 2.83L4 21.41c.39.39.9.59 1.41.59.51 0 1.02-.2 1.41-.59l7.78-7.78 2.81-2.81c.8-.78.8-2.07 0-2.86zM5.41 20L4 18.59l7.72-7.72 1.47 1.35L5.41 20z\"/>\n",
              "  </svg>\n",
              "      </button>\n",
              "      \n",
              "  <style>\n",
              "    .colab-df-container {\n",
              "      display:flex;\n",
              "      flex-wrap:wrap;\n",
              "      gap: 12px;\n",
              "    }\n",
              "\n",
              "    .colab-df-convert {\n",
              "      background-color: #E8F0FE;\n",
              "      border: none;\n",
              "      border-radius: 50%;\n",
              "      cursor: pointer;\n",
              "      display: none;\n",
              "      fill: #1967D2;\n",
              "      height: 32px;\n",
              "      padding: 0 0 0 0;\n",
              "      width: 32px;\n",
              "    }\n",
              "\n",
              "    .colab-df-convert:hover {\n",
              "      background-color: #E2EBFA;\n",
              "      box-shadow: 0px 1px 2px rgba(60, 64, 67, 0.3), 0px 1px 3px 1px rgba(60, 64, 67, 0.15);\n",
              "      fill: #174EA6;\n",
              "    }\n",
              "\n",
              "    [theme=dark] .colab-df-convert {\n",
              "      background-color: #3B4455;\n",
              "      fill: #D2E3FC;\n",
              "    }\n",
              "\n",
              "    [theme=dark] .colab-df-convert:hover {\n",
              "      background-color: #434B5C;\n",
              "      box-shadow: 0px 1px 3px 1px rgba(0, 0, 0, 0.15);\n",
              "      filter: drop-shadow(0px 1px 2px rgba(0, 0, 0, 0.3));\n",
              "      fill: #FFFFFF;\n",
              "    }\n",
              "  </style>\n",
              "\n",
              "      <script>\n",
              "        const buttonEl =\n",
              "          document.querySelector('#df-905d39de-6b52-48db-825a-bc212357e490 button.colab-df-convert');\n",
              "        buttonEl.style.display =\n",
              "          google.colab.kernel.accessAllowed ? 'block' : 'none';\n",
              "\n",
              "        async function convertToInteractive(key) {\n",
              "          const element = document.querySelector('#df-905d39de-6b52-48db-825a-bc212357e490');\n",
              "          const dataTable =\n",
              "            await google.colab.kernel.invokeFunction('convertToInteractive',\n",
              "                                                     [key], {});\n",
              "          if (!dataTable) return;\n",
              "\n",
              "          const docLinkHtml = 'Like what you see? Visit the ' +\n",
              "            '<a target=\"_blank\" href=https://colab.research.google.com/notebooks/data_table.ipynb>data table notebook</a>'\n",
              "            + ' to learn more about interactive tables.';\n",
              "          element.innerHTML = '';\n",
              "          dataTable['output_type'] = 'display_data';\n",
              "          await google.colab.output.renderOutput(dataTable, element);\n",
              "          const docLink = document.createElement('div');\n",
              "          docLink.innerHTML = docLinkHtml;\n",
              "          element.appendChild(docLink);\n",
              "        }\n",
              "      </script>\n",
              "    </div>\n",
              "  </div>\n",
              "  "
            ]
          },
          "metadata": {},
          "execution_count": 5
        }
      ]
    },
    {
      "cell_type": "code",
      "source": [
        "print(df.columns.values)"
      ],
      "metadata": {
        "colab": {
          "base_uri": "https://localhost:8080/"
        },
        "id": "SRFKSsGq9pRO",
        "outputId": "f1d6c1be-469d-4655-c498-3380b56a167a"
      },
      "execution_count": null,
      "outputs": [
        {
          "output_type": "stream",
          "name": "stdout",
          "text": [
            "['SR NO' 'NAME' 'HOBBY' 'AGE' 'DIVISION']\n"
          ]
        }
      ]
    },
    {
      "cell_type": "code",
      "source": [
        "states=pd.Series(['ab','bc','cd'])\n",
        "df['name']=states\n",
        "df"
      ],
      "metadata": {
        "colab": {
          "base_uri": "https://localhost:8080/",
          "height": 363
        },
        "id": "v42gHjjf97uO",
        "outputId": "9c78c211-f6ff-42a7-8ad6-7c847ee1d52a"
      },
      "execution_count": null,
      "outputs": [
        {
          "output_type": "execute_result",
          "data": {
            "text/plain": [
              "   SR NO     NAME    HOBBY  AGE DIVISION name\n",
              "0      1   RAMESH  reading   36        A   ab\n",
              "1      2   RUPESH  writing   69        B   bc\n",
              "2      3   SURESH  drivimg  129        C   cd\n",
              "3      4  MSNGESH  driving   66        B  NaN\n",
              "4      5   RAKESH  writing   33        A  NaN\n",
              "5      6   MAHESH  reading   99        B  NaN\n",
              "6      7   PARESH  driving   51        B  NaN\n",
              "7      8   DINESH  reading   48        C  NaN\n",
              "8      9   RITESH  reading   54        C  NaN\n",
              "9     10   SALMAN  writing  135        A  NaN"
            ],
            "text/html": [
              "\n",
              "  <div id=\"df-a408403b-feb4-403b-93c8-d53c66e68d8a\">\n",
              "    <div class=\"colab-df-container\">\n",
              "      <div>\n",
              "<style scoped>\n",
              "    .dataframe tbody tr th:only-of-type {\n",
              "        vertical-align: middle;\n",
              "    }\n",
              "\n",
              "    .dataframe tbody tr th {\n",
              "        vertical-align: top;\n",
              "    }\n",
              "\n",
              "    .dataframe thead th {\n",
              "        text-align: right;\n",
              "    }\n",
              "</style>\n",
              "<table border=\"1\" class=\"dataframe\">\n",
              "  <thead>\n",
              "    <tr style=\"text-align: right;\">\n",
              "      <th></th>\n",
              "      <th>SR NO</th>\n",
              "      <th>NAME</th>\n",
              "      <th>HOBBY</th>\n",
              "      <th>AGE</th>\n",
              "      <th>DIVISION</th>\n",
              "      <th>name</th>\n",
              "    </tr>\n",
              "  </thead>\n",
              "  <tbody>\n",
              "    <tr>\n",
              "      <th>0</th>\n",
              "      <td>1</td>\n",
              "      <td>RAMESH</td>\n",
              "      <td>reading</td>\n",
              "      <td>36</td>\n",
              "      <td>A</td>\n",
              "      <td>ab</td>\n",
              "    </tr>\n",
              "    <tr>\n",
              "      <th>1</th>\n",
              "      <td>2</td>\n",
              "      <td>RUPESH</td>\n",
              "      <td>writing</td>\n",
              "      <td>69</td>\n",
              "      <td>B</td>\n",
              "      <td>bc</td>\n",
              "    </tr>\n",
              "    <tr>\n",
              "      <th>2</th>\n",
              "      <td>3</td>\n",
              "      <td>SURESH</td>\n",
              "      <td>drivimg</td>\n",
              "      <td>129</td>\n",
              "      <td>C</td>\n",
              "      <td>cd</td>\n",
              "    </tr>\n",
              "    <tr>\n",
              "      <th>3</th>\n",
              "      <td>4</td>\n",
              "      <td>MSNGESH</td>\n",
              "      <td>driving</td>\n",
              "      <td>66</td>\n",
              "      <td>B</td>\n",
              "      <td>NaN</td>\n",
              "    </tr>\n",
              "    <tr>\n",
              "      <th>4</th>\n",
              "      <td>5</td>\n",
              "      <td>RAKESH</td>\n",
              "      <td>writing</td>\n",
              "      <td>33</td>\n",
              "      <td>A</td>\n",
              "      <td>NaN</td>\n",
              "    </tr>\n",
              "    <tr>\n",
              "      <th>5</th>\n",
              "      <td>6</td>\n",
              "      <td>MAHESH</td>\n",
              "      <td>reading</td>\n",
              "      <td>99</td>\n",
              "      <td>B</td>\n",
              "      <td>NaN</td>\n",
              "    </tr>\n",
              "    <tr>\n",
              "      <th>6</th>\n",
              "      <td>7</td>\n",
              "      <td>PARESH</td>\n",
              "      <td>driving</td>\n",
              "      <td>51</td>\n",
              "      <td>B</td>\n",
              "      <td>NaN</td>\n",
              "    </tr>\n",
              "    <tr>\n",
              "      <th>7</th>\n",
              "      <td>8</td>\n",
              "      <td>DINESH</td>\n",
              "      <td>reading</td>\n",
              "      <td>48</td>\n",
              "      <td>C</td>\n",
              "      <td>NaN</td>\n",
              "    </tr>\n",
              "    <tr>\n",
              "      <th>8</th>\n",
              "      <td>9</td>\n",
              "      <td>RITESH</td>\n",
              "      <td>reading</td>\n",
              "      <td>54</td>\n",
              "      <td>C</td>\n",
              "      <td>NaN</td>\n",
              "    </tr>\n",
              "    <tr>\n",
              "      <th>9</th>\n",
              "      <td>10</td>\n",
              "      <td>SALMAN</td>\n",
              "      <td>writing</td>\n",
              "      <td>135</td>\n",
              "      <td>A</td>\n",
              "      <td>NaN</td>\n",
              "    </tr>\n",
              "  </tbody>\n",
              "</table>\n",
              "</div>\n",
              "      <button class=\"colab-df-convert\" onclick=\"convertToInteractive('df-a408403b-feb4-403b-93c8-d53c66e68d8a')\"\n",
              "              title=\"Convert this dataframe to an interactive table.\"\n",
              "              style=\"display:none;\">\n",
              "        \n",
              "  <svg xmlns=\"http://www.w3.org/2000/svg\" height=\"24px\"viewBox=\"0 0 24 24\"\n",
              "       width=\"24px\">\n",
              "    <path d=\"M0 0h24v24H0V0z\" fill=\"none\"/>\n",
              "    <path d=\"M18.56 5.44l.94 2.06.94-2.06 2.06-.94-2.06-.94-.94-2.06-.94 2.06-2.06.94zm-11 1L8.5 8.5l.94-2.06 2.06-.94-2.06-.94L8.5 2.5l-.94 2.06-2.06.94zm10 10l.94 2.06.94-2.06 2.06-.94-2.06-.94-.94-2.06-.94 2.06-2.06.94z\"/><path d=\"M17.41 7.96l-1.37-1.37c-.4-.4-.92-.59-1.43-.59-.52 0-1.04.2-1.43.59L10.3 9.45l-7.72 7.72c-.78.78-.78 2.05 0 2.83L4 21.41c.39.39.9.59 1.41.59.51 0 1.02-.2 1.41-.59l7.78-7.78 2.81-2.81c.8-.78.8-2.07 0-2.86zM5.41 20L4 18.59l7.72-7.72 1.47 1.35L5.41 20z\"/>\n",
              "  </svg>\n",
              "      </button>\n",
              "      \n",
              "  <style>\n",
              "    .colab-df-container {\n",
              "      display:flex;\n",
              "      flex-wrap:wrap;\n",
              "      gap: 12px;\n",
              "    }\n",
              "\n",
              "    .colab-df-convert {\n",
              "      background-color: #E8F0FE;\n",
              "      border: none;\n",
              "      border-radius: 50%;\n",
              "      cursor: pointer;\n",
              "      display: none;\n",
              "      fill: #1967D2;\n",
              "      height: 32px;\n",
              "      padding: 0 0 0 0;\n",
              "      width: 32px;\n",
              "    }\n",
              "\n",
              "    .colab-df-convert:hover {\n",
              "      background-color: #E2EBFA;\n",
              "      box-shadow: 0px 1px 2px rgba(60, 64, 67, 0.3), 0px 1px 3px 1px rgba(60, 64, 67, 0.15);\n",
              "      fill: #174EA6;\n",
              "    }\n",
              "\n",
              "    [theme=dark] .colab-df-convert {\n",
              "      background-color: #3B4455;\n",
              "      fill: #D2E3FC;\n",
              "    }\n",
              "\n",
              "    [theme=dark] .colab-df-convert:hover {\n",
              "      background-color: #434B5C;\n",
              "      box-shadow: 0px 1px 3px 1px rgba(0, 0, 0, 0.15);\n",
              "      filter: drop-shadow(0px 1px 2px rgba(0, 0, 0, 0.3));\n",
              "      fill: #FFFFFF;\n",
              "    }\n",
              "  </style>\n",
              "\n",
              "      <script>\n",
              "        const buttonEl =\n",
              "          document.querySelector('#df-a408403b-feb4-403b-93c8-d53c66e68d8a button.colab-df-convert');\n",
              "        buttonEl.style.display =\n",
              "          google.colab.kernel.accessAllowed ? 'block' : 'none';\n",
              "\n",
              "        async function convertToInteractive(key) {\n",
              "          const element = document.querySelector('#df-a408403b-feb4-403b-93c8-d53c66e68d8a');\n",
              "          const dataTable =\n",
              "            await google.colab.kernel.invokeFunction('convertToInteractive',\n",
              "                                                     [key], {});\n",
              "          if (!dataTable) return;\n",
              "\n",
              "          const docLinkHtml = 'Like what you see? Visit the ' +\n",
              "            '<a target=\"_blank\" href=https://colab.research.google.com/notebooks/data_table.ipynb>data table notebook</a>'\n",
              "            + ' to learn more about interactive tables.';\n",
              "          element.innerHTML = '';\n",
              "          dataTable['output_type'] = 'display_data';\n",
              "          await google.colab.output.renderOutput(dataTable, element);\n",
              "          const docLink = document.createElement('div');\n",
              "          docLink.innerHTML = docLinkHtml;\n",
              "          element.appendChild(docLink);\n",
              "        }\n",
              "      </script>\n",
              "    </div>\n",
              "  </div>\n",
              "  "
            ]
          },
          "metadata": {},
          "execution_count": 9
        }
      ]
    },
    {
      "cell_type": "code",
      "source": [
        "import pandas as pd\n",
        "df=pd.read_csv('/content/drive/MyDrive/118 HOBBY.csv')\n",
        "print(df)\n",
        "a=df.dropna()\n",
        "print(a)\n",
        "b=df.dropna(axis='columns')\n",
        "print(b)\n",
        "c=df.dropna(how='all')\n",
        "print(c)\n",
        "a1=df.head()\n",
        "print(a3)\n",
        "print(a1)\n",
        "b1=df[df.isna().any(axis=1)]\n",
        "print(b1)\n",
        "a3=df.dropna(how='all')\n",
        "print(a3)"
      ],
      "metadata": {
        "colab": {
          "base_uri": "https://localhost:8080/"
        },
        "id": "BxD-yjx2-X5e",
        "outputId": "87fa542f-c080-42f6-fdb6-820c29c5ed96"
      },
      "execution_count": null,
      "outputs": [
        {
          "output_type": "stream",
          "name": "stdout",
          "text": [
            "   sr no     name    hobby  age division\n",
            "0      1   ramesh  reading   12        A\n",
            "1      2   rupesh  writing   23        B\n",
            "2      3   suresh  drivimg   43        C\n",
            "3      4  msngesh  driving   22        B\n",
            "4      5   rakesh  writing   11        A\n",
            "5      6   mahesh  reading   33        B\n",
            "6      7   paresh  driving   17        B\n",
            "7      8   dinesh  reading   16        C\n",
            "8      9   ritesh  reading   18        C\n",
            "9     10   salman  writing   45        A\n",
            "   sr no     name    hobby  age division\n",
            "0      1   ramesh  reading   12        A\n",
            "1      2   rupesh  writing   23        B\n",
            "2      3   suresh  drivimg   43        C\n",
            "3      4  msngesh  driving   22        B\n",
            "4      5   rakesh  writing   11        A\n",
            "5      6   mahesh  reading   33        B\n",
            "6      7   paresh  driving   17        B\n",
            "7      8   dinesh  reading   16        C\n",
            "8      9   ritesh  reading   18        C\n",
            "9     10   salman  writing   45        A\n",
            "   sr no     name    hobby  age division\n",
            "0      1   ramesh  reading   12        A\n",
            "1      2   rupesh  writing   23        B\n",
            "2      3   suresh  drivimg   43        C\n",
            "3      4  msngesh  driving   22        B\n",
            "4      5   rakesh  writing   11        A\n",
            "5      6   mahesh  reading   33        B\n",
            "6      7   paresh  driving   17        B\n",
            "7      8   dinesh  reading   16        C\n",
            "8      9   ritesh  reading   18        C\n",
            "9     10   salman  writing   45        A\n",
            "   sr no     name    hobby  age division\n",
            "0      1   ramesh  reading   12        A\n",
            "1      2   rupesh  writing   23        B\n",
            "2      3   suresh  drivimg   43        C\n",
            "3      4  msngesh  driving   22        B\n",
            "4      5   rakesh  writing   11        A\n",
            "5      6   mahesh  reading   33        B\n",
            "6      7   paresh  driving   17        B\n",
            "7      8   dinesh  reading   16        C\n",
            "8      9   ritesh  reading   18        C\n",
            "9     10   salman  writing   45        A\n",
            "   sr no     name    hobby  age division\n",
            "0      1   ramesh  reading   12        A\n",
            "1      2   rupesh  writing   23        B\n",
            "2      3   suresh  drivimg   43        C\n",
            "3      4  msngesh  driving   22        B\n",
            "4      5   rakesh  writing   11        A\n",
            "5      6   mahesh  reading   33        B\n",
            "6      7   paresh  driving   17        B\n",
            "7      8   dinesh  reading   16        C\n",
            "8      9   ritesh  reading   18        C\n",
            "9     10   salman  writing   45        A\n",
            "   sr no     name    hobby  age division\n",
            "0      1   ramesh  reading   12        A\n",
            "1      2   rupesh  writing   23        B\n",
            "2      3   suresh  drivimg   43        C\n",
            "3      4  msngesh  driving   22        B\n",
            "4      5   rakesh  writing   11        A\n",
            "Empty DataFrame\n",
            "Columns: [sr no, name, hobby, age, division]\n",
            "Index: []\n",
            "   sr no     name    hobby  age division\n",
            "0      1   ramesh  reading   12        A\n",
            "1      2   rupesh  writing   23        B\n",
            "2      3   suresh  drivimg   43        C\n",
            "3      4  msngesh  driving   22        B\n",
            "4      5   rakesh  writing   11        A\n",
            "5      6   mahesh  reading   33        B\n",
            "6      7   paresh  driving   17        B\n",
            "7      8   dinesh  reading   16        C\n",
            "8      9   ritesh  reading   18        C\n",
            "9     10   salman  writing   45        A\n"
          ]
        }
      ]
    },
    {
      "cell_type": "code",
      "source": [
        "import pandas as pd\n",
        "df=pd.read_csv('/content/drive/MyDrive/118 HOBBY.csv')\n",
        "print(df)\n",
        "a=pd.isna('name')\n",
        "print(a)"
      ],
      "metadata": {
        "colab": {
          "base_uri": "https://localhost:8080/"
        },
        "id": "Vg_PyRHAwHd9",
        "outputId": "4c4f3991-45ec-47b0-a329-c9cc6801349d"
      },
      "execution_count": null,
      "outputs": [
        {
          "output_type": "stream",
          "name": "stdout",
          "text": [
            "   sr no     name    hobby  age division\n",
            "0      1   ramesh  reading   12        A\n",
            "1      2   rupesh  writing   23        B\n",
            "2      3   suresh  drivimg   43        C\n",
            "3      4  msngesh  driving   22        B\n",
            "4      5   rakesh  writing   11        A\n",
            "5      6   mahesh  reading   33        B\n",
            "6      7   paresh  driving   17        B\n",
            "7      8   dinesh  reading   16        C\n",
            "8      9   ritesh  reading   18        C\n",
            "9     10   salman  writing   45        A\n",
            "False\n"
          ]
        }
      ]
    },
    {
      "cell_type": "code",
      "source": [
        "import matplotlib.pyplot as plt\n",
        "import numpy as np\n",
        "\n",
        "xpoints = np.array([0,6])\n",
        "ypoints = np.array([0,250])\n",
        "\n",
        "#$plt.plot(xpoints,ypoints)\n",
        "plt.plot(xpoints,ypoints,'-.')\n",
        "plt.fill_between(xpoints,ypoints,color='red',alpha = 0.10)\n",
        "plt.show()"
      ],
      "metadata": {
        "colab": {
          "base_uri": "https://localhost:8080/",
          "height": 430
        },
        "id": "4qlyaIKnhON2",
        "outputId": "e0578972-172b-4c2d-a95b-b85b8fb197eb"
      },
      "execution_count": null,
      "outputs": [
        {
          "output_type": "display_data",
          "data": {
            "text/plain": [
              "<Figure size 640x480 with 1 Axes>"
            ],
            "image/png": "[encoded data removed]"
          },
          "metadata": {}
        }
      ]
    },
    {
      "cell_type": "code",
      "source": [
        "import numpy as np\n",
        "import pandas as pd\n",
        "import matplotlib.pyplot as plt\n",
        "csv_file_path = \"/content/drive/MyDrive/118 HOBBY.csv\"\n",
        "\n",
        "data_frame = pd.read_csv(csv_file_path)\n",
        "array_data = np.array(data_frame)\n",
        "\n",
        "x = np.array(data_frame[\"age\"])\n",
        "y = np.array(data_frame[\"name\"])\n",
        "\n",
        "print(array_data)\n",
        "\n",
        "print(x)\n",
        "print(y)\n",
        "\n",
        "plt.plot(x, y, marker=\"o\")\n",
        "plt.xlabel(\"age\")\n",
        "plt.ylabel(\"name\")\n",
        "plt.title(\"Graph of Column1 vs Column2\")\n",
        "\n",
        "plt.show()"
      ],
      "metadata": {
        "colab": {
          "base_uri": "https://localhost:8080/",
          "height": 698
        },
        "id": "z59Q6RS5nYee",
        "outputId": "c62984bd-f66d-4ec4-c337-bcbfa7a78b64"
      },
      "execution_count": null,
      "outputs": [
        {
          "output_type": "stream",
          "name": "stdout",
          "text": [
            "[[1 'ramesh' 'reading' 12 'A']\n",
            " [2 'rupesh' 'writing' 23 'B']\n",
            " [3 'suresh' 'drivimg' 43 'C']\n",
            " [4 'msngesh' 'driving' 22 'B']\n",
            " [5 'rakesh' 'writing' 11 'A']\n",
            " [6 'mahesh' 'reading' 33 'B']\n",
            " [7 'paresh' 'driving' 17 'B']\n",
            " [8 'dinesh' 'reading' 16 'C']\n",
            " [9 'ritesh' 'reading' 18 'C']\n",
            " [10 'salman' 'writing' 45 'A']]\n",
            "[12 23 43 22 11 33 17 16 18 45]\n",
            "['ramesh' 'rupesh' 'suresh' 'msngesh' 'rakesh' 'mahesh' 'paresh' 'dinesh'\n",
            " 'ritesh' 'salman']\n"
          ]
        },
        {
          "output_type": "display_data",
          "data": {
            "text/plain": [
              "<Figure size 640x480 with 1 Axes>"
            ],
            "image/png": "[encoded data removed]"
          },
          "metadata": {}
        }
      ]
    },
    {
      "cell_type": "code",
      "source": [
        "\n",
        "import numpy as np\n",
        "import time\n",
        "import matplotlib.pyplot as plt\n",
        "x = np.linspace(0, 10, 100)\n",
        "y = np.sin(x)\n",
        "plt.ion()\n",
        "figure, ax = plt.subplots(figsize=(10, 8))\n",
        "line1, = ax.plot(x, y)\n",
        "plt.xlabel(\"X-axis\")\n",
        "plt.ylabel(\"Y-axis\")\n",
        "for _ in range(50):\n",
        "\tnew_y = np.sin(x-0.5*_)\n",
        "\tline1.set_xdata(x)\n",
        "\tline1.set_ydata(new_y)\n",
        "\tfigure.canvas.draw()\n",
        "\tfigure.canvas.flush_events()\n",
        "\n",
        "\ttime.sleep(0.1)\n"
      ],
      "metadata": {
        "colab": {
          "base_uri": "https://localhost:8080/",
          "height": 689
        },
        "id": "gQNnXl4bpPom",
        "outputId": "1dbf2768-deac-4568-8aa9-25be5696dace"
      },
      "execution_count": null,
      "outputs": [
        {
          "output_type": "display_data",
          "data": {
            "text/plain": [
              "<Figure size 1000x800 with 1 Axes>"
            ],
            "image/png": "[encoded data removed]"
          },
          "metadata": {}
        }
      ]
    },
    {
      "cell_type": "code",
      "source": [
        "import numpy as np\n",
        "import pandas as pd\n",
        "import matplotlib.pyplot as plt\n",
        "\n",
        "df1 = pd.read_csv('/content/drive/MyDrive/marks.csv      ')\n",
        "a = df1.head()\n",
        "\n",
        "x = df1.iloc[:,:-1]\n",
        "y = df1.iloc[:,1]\n",
        "\n",
        "from sklearn.model_selection import train_test_split\n",
        "x_train, x_test, y_train, y_test = train_test_split(x,y,test_size = 1/3,random_state=0)\n",
        "from sklearn.linear_model import LinearRegression\n",
        "regressor = LinearRegression()\n",
        "regressor.fit(x_train,y_train)\n",
        "y_pred = regressor.predict(x_test)\n",
        "y_pred\n",
        "y_test\n",
        "\n",
        "plt.scatter(x_train, y_train, color='red')\n",
        "plt.plot(x_train, regressor.predict(x_train), color='blue')\n",
        "plt.title(\"Salary VS Experience (Traning set)\")\n",
        "plt.xlabel(\"Years of experience\")\n",
        "plt.ylabel(\"Salaries\")\n",
        "plt.show()"
      ],
      "metadata": {
        "colab": {
          "base_uri": "https://localhost:8080/",
          "height": 472
        },
        "id": "cZuJfgbx9u-n",
        "outputId": "7887ef10-6580-4bb8-f296-1d5dbb3ad810"
      },
      "execution_count": null,
      "outputs": [
        {
          "output_type": "display_data",
          "data": {
            "text/plain": [
              "<Figure size 640x480 with 1 Axes>"
            ],
            "image/png": "[encoded data removed]"
          },
          "metadata": {}
        }
      ]
    },
    {
      "cell_type": "code",
      "source": [
        "import csv\n",
        "import matplotlib.pyplot as plt\n",
        "with open('/content/drive/MyDrive/marks.csv') as csvfile:\n",
        "    reader = csv.reader(csvfile)\n",
        "    data = list(reader)\n",
        "def fun(i,j):\n",
        "  for row in data:\n",
        "    print(row)\n",
        "i = 0\n",
        "while i < len(data):\n",
        "    print(data[i])\n",
        "    i += 1\n",
        "groups = []\n",
        "for i in range(10):\n",
        "    group = []\n",
        "    for j in range(len(data)):\n",
        "        if i == j%5:\n",
        "            group.append(data[j])\n",
        "    groups.append(group)\n",
        "for group in groups:\n",
        "    print(group)\n",
        "for i in range(10):\n",
        "    plt.plot([x[0] for x in groups[i]], [x[1] for x in groups[i]])\n",
        "    plt.title(\"Group {i}\")\n",
        "    plt.show()\n",
        "fun(i,j)"
      ],
      "metadata": {
        "colab": {
          "base_uri": "https://localhost:8080/",
          "height": 1000
        },
        "id": "KtiYyZjKe6XD",
        "outputId": "e7e3723f-f4f0-4d0e-9c5f-64a2c588f2da"
      },
      "execution_count": null,
      "outputs": [
        {
          "output_type": "stream",
          "name": "stdout",
          "text": [
            "['id ', 'marks']\n",
            "['1', '66']\n",
            "['2', '45']\n",
            "['3', '67']\n",
            "['4', '78']\n",
            "['5', '99']\n",
            "['6', '66']\n",
            "['7', '55']\n",
            "['8', '44']\n",
            "['9', '36']\n",
            "['10', '66']\n",
            "[['id ', 'marks'], ['5', '99'], ['10', '66']]\n",
            "[['1', '66'], ['6', '66']]\n",
            "[['2', '45'], ['7', '55']]\n",
            "[['3', '67'], ['8', '44']]\n",
            "[['4', '78'], ['9', '36']]\n",
            "[]\n",
            "[]\n",
            "[]\n",
            "[]\n",
            "[]\n"
          ]
        },
        {
          "output_type": "display_data",
          "data": {
            "text/plain": [
              "<Figure size 640x480 with 1 Axes>"
            ],
            "image/png": "[encoded data removed]"
          },
          "metadata": {}
        },
        {
          "output_type": "display_data",
          "data": {
            "text/plain": [
              "<Figure size 640x480 with 1 Axes>"
            ],
            "image/png": "[encoded data removed]"
          },
          "metadata": {}
        },
        {
          "output_type": "display_data",
          "data": {
            "text/plain": [
              "<Figure size 640x480 with 1 Axes>"
            ],
            "image/png": "[encoded data removed]"
          },
          "metadata": {}
        },
        {
          "output_type": "display_data",
          "data": {
            "text/plain": [
              "<Figure size 640x480 with 1 Axes>"
            ],
            "image/png": "[encoded data removed]"
          },
          "metadata": {}
        },
        {
          "output_type": "display_data",
          "data": {
            "text/plain": [
              "<Figure size 640x480 with 1 Axes>"
            ],
            "image/png": "[encoded data removed]"
          },
          "metadata": {}
        },
        {
          "output_type": "display_data",
          "data": {
            "text/plain": [
              "<Figure size 640x480 with 1 Axes>"
            ],
            "image/png": "[encoded data removed]"
          },
          "metadata": {}
        },
        {
          "output_type": "display_data",
          "data": {
            "text/plain": [
              "<Figure size 640x480 with 1 Axes>"
            ],
            "image/png": "[encoded data removed]"
          },
          "metadata": {}
        },
        {
          "output_type": "display_data",
          "data": {
            "text/plain": [
              "<Figure size 640x480 with 1 Axes>"
            ],
            "image/png": "[encoded data removed]"
          },
          "metadata": {}
        },
        {
          "output_type": "display_data",
          "data": {
            "text/plain": [
              "<Figure size 640x480 with 1 Axes>"
            ],
            "image/png": "[encoded data removed]"
          },
          "metadata": {}
        },
        {
          "output_type": "display_data",
          "data": {
            "text/plain": [
              "<Figure size 640x480 with 1 Axes>"
            ],
            "image/png": "[encoded data removed]"
          },
          "metadata": {}
        },
        {
          "output_type": "stream",
          "name": "stdout",
          "text": [
            "['id ', 'marks']\n",
            "['1', '66']\n",
            "['2', '45']\n",
            "['3', '67']\n",
            "['4', '78']\n",
            "['5', '99']\n",
            "['6', '66']\n",
            "['7', '55']\n",
            "['8', '44']\n",
            "['9', '36']\n",
            "['10', '66']\n"
          ]
        }
      ]
    },
    {
      "cell_type": "code",
      "source": [
        "import matplotlib.pyplot as plt\n",
        "from sklearn.neighbors import KNeighborsClassifier\n",
        "x=[12,4,34,545,566,778,56]\n",
        "y=[32,4,5,56,7,677,878]\n",
        "classes=[0,0,0,1,1,0,1]\n",
        "plt.scatter(x,y,c=classes)\n",
        "plt.show()\n",
        "data=list(zip(x,y))\n",
        "knn=KNeighborsClassifier(n_neighbors=1)\n",
        "knn.fit(data,classes)\n",
        "new_x=8\n",
        "new_y=12\n",
        "new_point=[(new_x,new_y)]\n",
        "prediction=knn.predict(new_point)\n",
        "plt.scatter(x+[new_x],y+[new_y],c=classes+[prediction[0]])\n",
        "plt.text(x=new_x-0.7,y=new_y-0.6,s=f\"new point,class:(prediction[0])\")\n",
        "plt.show()\n"
      ],
      "metadata": {
        "colab": {
          "base_uri": "https://localhost:8080/",
          "height": 843
        },
        "id": "JcmooFDF9lMx",
        "outputId": "43293551-207d-48a0-d527-3fd5b5fe7526"
      },
      "execution_count": null,
      "outputs": [
        {
          "output_type": "display_data",
          "data": {
            "text/plain": [
              "<Figure size 640x480 with 1 Axes>"
            ],
            "image/png": "[encoded data removed]"
          },
          "metadata": {}
        },
        {
          "output_type": "display_data",
          "data": {
            "text/plain": [
              "<Figure size 640x480 with 1 Axes>"
            ],
            "image/png": "[encoded data removed]"
          },
          "metadata": {}
        }
      ]
    },
    {
      "cell_type": "code",
      "source": [
        "import matplotlib.pyplot as plt\n",
        "from sklearn.cluster import KMeans\n",
        "x = [4, 5, 10, 4, 3, 11, 14, 6, 10, 12]\n",
        "y= [21, 19, 24, 17, 16, 25, 24, 22, 21, 21]\n",
        "plt.scatter(x, y)\n",
        "plt.show()\n",
        "data = list(zip(x, y))\n",
        "inertia = []\n",
        "for i in range(1,11):\n",
        "    kmeans = KMeans(n_clusters=i)\n",
        "    kmeans.fit(data)\n",
        "    inertia.append(kmeans.inertia_)\n",
        "plt.plot(range(1,11), inertia, marker='o')\n",
        "plt.xlabel('Number of clusters')\n",
        "plt.ylabel('Inertia')\n",
        "plt.show()\n",
        "kmeans = KMeans(n_clusters=5)\n",
        "kmeans.fit(data)\n",
        "plt.scatter (x, y, c=kmeans.labels_)\n",
        "plt.show()"
      ],
      "metadata": {
        "id": "1abhT7_MKdED",
        "outputId": "7c88ce6f-2985-4e56-8546-f915168decef",
        "colab": {
          "base_uri": "https://localhost:8080/",
          "height": 1000
        }
      },
      "execution_count": null,
      "outputs": [
        {
          "output_type": "display_data",
          "data": {
            "text/plain": [
              "<Figure size 640x480 with 1 Axes>"
            ],
            "image/png": "[encoded data removed]"
          },
          "metadata": {}
        },
        {
          "output_type": "stream",
          "name": "stderr",
          "text": [
            "/usr/local/lib/python3.10/dist-packages/sklearn/cluster/_kmeans.py:870: FutureWarning: The default value of `n_init` will change from 10 to 'auto' in 1.4. Set the value of `n_init` explicitly to suppress the warning\n",
            "  warnings.warn(\n",
            "/usr/local/lib/python3.10/dist-packages/sklearn/cluster/_kmeans.py:870: FutureWarning: The default value of `n_init` will change from 10 to 'auto' in 1.4. Set the value of `n_init` explicitly to suppress the warning\n",
            "  warnings.warn(\n",
            "/usr/local/lib/python3.10/dist-packages/sklearn/cluster/_kmeans.py:870: FutureWarning: The default value of `n_init` will change from 10 to 'auto' in 1.4. Set the value of `n_init` explicitly to suppress the warning\n",
            "  warnings.warn(\n",
            "/usr/local/lib/python3.10/dist-packages/sklearn/cluster/_kmeans.py:870: FutureWarning: The default value of `n_init` will change from 10 to 'auto' in 1.4. Set the value of `n_init` explicitly to suppress the warning\n",
            "  warnings.warn(\n",
            "/usr/local/lib/python3.10/dist-packages/sklearn/cluster/_kmeans.py:870: FutureWarning: The default value of `n_init` will change from 10 to 'auto' in 1.4. Set the value of `n_init` explicitly to suppress the warning\n",
            "  warnings.warn(\n",
            "/usr/local/lib/python3.10/dist-packages/sklearn/cluster/_kmeans.py:870: FutureWarning: The default value of `n_init` will change from 10 to 'auto' in 1.4. Set the value of `n_init` explicitly to suppress the warning\n",
            "  warnings.warn(\n",
            "/usr/local/lib/python3.10/dist-packages/sklearn/cluster/_kmeans.py:870: FutureWarning: The default value of `n_init` will change from 10 to 'auto' in 1.4. Set the value of `n_init` explicitly to suppress the warning\n",
            "  warnings.warn(\n",
            "/usr/local/lib/python3.10/dist-packages/sklearn/cluster/_kmeans.py:870: FutureWarning: The default value of `n_init` will change from 10 to 'auto' in 1.4. Set the value of `n_init` explicitly to suppress the warning\n",
            "  warnings.warn(\n",
            "/usr/local/lib/python3.10/dist-packages/sklearn/cluster/_kmeans.py:870: FutureWarning: The default value of `n_init` will change from 10 to 'auto' in 1.4. Set the value of `n_init` explicitly to suppress the warning\n",
            "  warnings.warn(\n",
            "/usr/local/lib/python3.10/dist-packages/sklearn/cluster/_kmeans.py:870: FutureWarning: The default value of `n_init` will change from 10 to 'auto' in 1.4. Set the value of `n_init` explicitly to suppress the warning\n",
            "  warnings.warn(\n"
          ]
        },
        {
          "output_type": "display_data",
          "data": {
            "text/plain": [
              "<Figure size 640x480 with 1 Axes>"
            ],
            "image/png": "[encoded data removed]"
          },
          "metadata": {}
        },
        {
          "output_type": "stream",
          "name": "stderr",
          "text": [
            "/usr/local/lib/python3.10/dist-packages/sklearn/cluster/_kmeans.py:870: FutureWarning: The default value of `n_init` will change from 10 to 'auto' in 1.4. Set the value of `n_init` explicitly to suppress the warning\n",
            "  warnings.warn(\n"
          ]
        },
        {
          "output_type": "display_data",
          "data": {
            "text/plain": [
              "<Figure size 640x480 with 1 Axes>"
            ],
            "image/png": "[encoded data removed]"
          },
          "metadata": {}
        }
      ]
    },
    {
      "cell_type": "code",
      "source": [
        "import matplotlib.pyplot as plt\n",
        "from sklearn.cluster import KMeans\n",
        "x = [4, 5, 10, 4, 3, 11, 14, 6, 10, 12]\n",
        "y= [21, 14, 55,"
      ],
      "metadata": {
        "id": "yKACGKp4e2id",
        "colab": {
          "base_uri": "https://localhost:8080/",
          "height": 781
        },
        "outputId": "75d36a9e-abfa-4791-ff47-b229ac139100"
      },
      "execution_count": null,
      "outputs": [
        {
          "output_type": "error",
          "ename": "ValueError",
          "evalue": "ignored",
          "traceback": [
            "\u001b[0;31m---------------------------------------------------------------------------\u001b[0m",
            "\u001b[0;31mValueError\u001b[0m                                Traceback (most recent call last)",
            "\u001b[0;32m<ipython-input-1-3cb0eb1b25b5>\u001b[0m in \u001b[0;36m<cell line: 5>\u001b[0;34m()\u001b[0m\n\u001b[1;32m      3\u001b[0m \u001b[0mx\u001b[0m \u001b[0;34m=\u001b[0m \u001b[0;34m[\u001b[0m\u001b[0;36m4\u001b[0m\u001b[0;34m,\u001b[0m \u001b[0;36m5\u001b[0m\u001b[0;34m,\u001b[0m \u001b[0;36m10\u001b[0m\u001b[0;34m,\u001b[0m \u001b[0;36m4\u001b[0m\u001b[0;34m,\u001b[0m \u001b[0;36m3\u001b[0m\u001b[0;34m,\u001b[0m \u001b[0;36m11\u001b[0m\u001b[0;34m,\u001b[0m \u001b[0;36m14\u001b[0m\u001b[0;34m,\u001b[0m \u001b[0;36m6\u001b[0m\u001b[0;34m,\u001b[0m \u001b[0;36m10\u001b[0m\u001b[0;34m,\u001b[0m \u001b[0;36m12\u001b[0m\u001b[0;34m]\u001b[0m\u001b[0;34m\u001b[0m\u001b[0;34m\u001b[0m\u001b[0m\n\u001b[1;32m      4\u001b[0m \u001b[0my\u001b[0m\u001b[0;34m=\u001b[0m \u001b[0;34m[\u001b[0m\u001b[0;36m21\u001b[0m\u001b[0;34m,\u001b[0m \u001b[0;36m14\u001b[0m\u001b[0;34m,\u001b[0m \u001b[0;36m56\u001b[0m\u001b[0;34m,\u001b[0m \u001b[0;36m34\u001b[0m\u001b[0;34m,\u001b[0m \u001b[0;36m87\u001b[0m \u001b[0;34m,\u001b[0m\u001b[0;36m77\u001b[0m\u001b[0;34m,\u001b[0m \u001b[0;36m11\u001b[0m\u001b[0;34m,\u001b[0m \u001b[0;36m33\u001b[0m\u001b[0;34m,\u001b[0m \u001b[0;36m49\u001b[0m\u001b[0;34m,\u001b[0m \u001b[0;36m55\u001b[0m\u001b[0;34m,\u001b[0m \u001b[0;36m56\u001b[0m\u001b[0;34m]\u001b[0m\u001b[0;34m\u001b[0m\u001b[0;34m\u001b[0m\u001b[0m\n\u001b[0;32m----> 5\u001b[0;31m \u001b[0mplt\u001b[0m\u001b[0;34m.\u001b[0m\u001b[0mscatter\u001b[0m\u001b[0;34m(\u001b[0m\u001b[0mx\u001b[0m\u001b[0;34m,\u001b[0m\u001b[0my\u001b[0m\u001b[0;34m)\u001b[0m\u001b[0;34m\u001b[0m\u001b[0;34m\u001b[0m\u001b[0m\n\u001b[0m\u001b[1;32m      6\u001b[0m \u001b[0mplt\u001b[0m\u001b[0;34m.\u001b[0m\u001b[0mshow\u001b[0m\u001b[0;34m(\u001b[0m\u001b[0;34m)\u001b[0m\u001b[0;34m\u001b[0m\u001b[0;34m\u001b[0m\u001b[0m\n",
            "\u001b[0;32m/usr/local/lib/python3.10/dist-packages/matplotlib/pyplot.py\u001b[0m in \u001b[0;36mscatter\u001b[0;34m(x, y, s, c, marker, cmap, norm, vmin, vmax, alpha, linewidths, edgecolors, plotnonfinite, data, **kwargs)\u001b[0m\n\u001b[1;32m   2860\u001b[0m         \u001b[0mvmin\u001b[0m\u001b[0;34m=\u001b[0m\u001b[0;32mNone\u001b[0m\u001b[0;34m,\u001b[0m \u001b[0mvmax\u001b[0m\u001b[0;34m=\u001b[0m\u001b[0;32mNone\u001b[0m\u001b[0;34m,\u001b[0m \u001b[0malpha\u001b[0m\u001b[0;34m=\u001b[0m\u001b[0;32mNone\u001b[0m\u001b[0;34m,\u001b[0m \u001b[0mlinewidths\u001b[0m\u001b[0;34m=\u001b[0m\u001b[0;32mNone\u001b[0m\u001b[0;34m,\u001b[0m \u001b[0;34m*\u001b[0m\u001b[0;34m,\u001b[0m\u001b[0;34m\u001b[0m\u001b[0;34m\u001b[0m\u001b[0m\n\u001b[1;32m   2861\u001b[0m         edgecolors=None, plotnonfinite=False, data=None, **kwargs):\n\u001b[0;32m-> 2862\u001b[0;31m     __ret = gca().scatter(\n\u001b[0m\u001b[1;32m   2863\u001b[0m         \u001b[0mx\u001b[0m\u001b[0;34m,\u001b[0m \u001b[0my\u001b[0m\u001b[0;34m,\u001b[0m \u001b[0ms\u001b[0m\u001b[0;34m=\u001b[0m\u001b[0ms\u001b[0m\u001b[0;34m,\u001b[0m \u001b[0mc\u001b[0m\u001b[0;34m=\u001b[0m\u001b[0mc\u001b[0m\u001b[0;34m,\u001b[0m \u001b[0mmarker\u001b[0m\u001b[0;34m=\u001b[0m\u001b[0mmarker\u001b[0m\u001b[0;34m,\u001b[0m \u001b[0mcmap\u001b[0m\u001b[0;34m=\u001b[0m\u001b[0mcmap\u001b[0m\u001b[0;34m,\u001b[0m \u001b[0mnorm\u001b[0m\u001b[0;34m=\u001b[0m\u001b[0mnorm\u001b[0m\u001b[0;34m,\u001b[0m\u001b[0;34m\u001b[0m\u001b[0;34m\u001b[0m\u001b[0m\n\u001b[1;32m   2864\u001b[0m         \u001b[0mvmin\u001b[0m\u001b[0;34m=\u001b[0m\u001b[0mvmin\u001b[0m\u001b[0;34m,\u001b[0m \u001b[0mvmax\u001b[0m\u001b[0;34m=\u001b[0m\u001b[0mvmax\u001b[0m\u001b[0;34m,\u001b[0m \u001b[0malpha\u001b[0m\u001b[0;34m=\u001b[0m\u001b[0malpha\u001b[0m\u001b[0;34m,\u001b[0m \u001b[0mlinewidths\u001b[0m\u001b[0;34m=\u001b[0m\u001b[0mlinewidths\u001b[0m\u001b[0;34m,\u001b[0m\u001b[0;34m\u001b[0m\u001b[0;34m\u001b[0m\u001b[0m\n",
            "\u001b[0;32m/usr/local/lib/python3.10/dist-packages/matplotlib/__init__.py\u001b[0m in \u001b[0;36minner\u001b[0;34m(ax, data, *args, **kwargs)\u001b[0m\n\u001b[1;32m   1440\u001b[0m     \u001b[0;32mdef\u001b[0m \u001b[0minner\u001b[0m\u001b[0;34m(\u001b[0m\u001b[0max\u001b[0m\u001b[0;34m,\u001b[0m \u001b[0;34m*\u001b[0m\u001b[0margs\u001b[0m\u001b[0;34m,\u001b[0m \u001b[0mdata\u001b[0m\u001b[0;34m=\u001b[0m\u001b[0;32mNone\u001b[0m\u001b[0;34m,\u001b[0m \u001b[0;34m**\u001b[0m\u001b[0mkwargs\u001b[0m\u001b[0;34m)\u001b[0m\u001b[0;34m:\u001b[0m\u001b[0;34m\u001b[0m\u001b[0;34m\u001b[0m\u001b[0m\n\u001b[1;32m   1441\u001b[0m         \u001b[0;32mif\u001b[0m \u001b[0mdata\u001b[0m \u001b[0;32mis\u001b[0m \u001b[0;32mNone\u001b[0m\u001b[0;34m:\u001b[0m\u001b[0;34m\u001b[0m\u001b[0;34m\u001b[0m\u001b[0m\n\u001b[0;32m-> 1442\u001b[0;31m             \u001b[0;32mreturn\u001b[0m \u001b[0mfunc\u001b[0m\u001b[0;34m(\u001b[0m\u001b[0max\u001b[0m\u001b[0;34m,\u001b[0m \u001b[0;34m*\u001b[0m\u001b[0mmap\u001b[0m\u001b[0;34m(\u001b[0m\u001b[0msanitize_sequence\u001b[0m\u001b[0;34m,\u001b[0m \u001b[0margs\u001b[0m\u001b[0;34m)\u001b[0m\u001b[0;34m,\u001b[0m \u001b[0;34m**\u001b[0m\u001b[0mkwargs\u001b[0m\u001b[0;34m)\u001b[0m\u001b[0;34m\u001b[0m\u001b[0;34m\u001b[0m\u001b[0m\n\u001b[0m\u001b[1;32m   1443\u001b[0m \u001b[0;34m\u001b[0m\u001b[0m\n\u001b[1;32m   1444\u001b[0m         \u001b[0mbound\u001b[0m \u001b[0;34m=\u001b[0m \u001b[0mnew_sig\u001b[0m\u001b[0;34m.\u001b[0m\u001b[0mbind\u001b[0m\u001b[0;34m(\u001b[0m\u001b[0max\u001b[0m\u001b[0;34m,\u001b[0m \u001b[0;34m*\u001b[0m\u001b[0margs\u001b[0m\u001b[0;34m,\u001b[0m \u001b[0;34m**\u001b[0m\u001b[0mkwargs\u001b[0m\u001b[0;34m)\u001b[0m\u001b[0;34m\u001b[0m\u001b[0;34m\u001b[0m\u001b[0m\n",
            "\u001b[0;32m/usr/local/lib/python3.10/dist-packages/matplotlib/axes/_axes.py\u001b[0m in \u001b[0;36mscatter\u001b[0;34m(self, x, y, s, c, marker, cmap, norm, vmin, vmax, alpha, linewidths, edgecolors, plotnonfinite, **kwargs)\u001b[0m\n\u001b[1;32m   4582\u001b[0m         \u001b[0my\u001b[0m \u001b[0;34m=\u001b[0m \u001b[0mnp\u001b[0m\u001b[0;34m.\u001b[0m\u001b[0mma\u001b[0m\u001b[0;34m.\u001b[0m\u001b[0mravel\u001b[0m\u001b[0;34m(\u001b[0m\u001b[0my\u001b[0m\u001b[0;34m)\u001b[0m\u001b[0;34m\u001b[0m\u001b[0;34m\u001b[0m\u001b[0m\n\u001b[1;32m   4583\u001b[0m         \u001b[0;32mif\u001b[0m \u001b[0mx\u001b[0m\u001b[0;34m.\u001b[0m\u001b[0msize\u001b[0m \u001b[0;34m!=\u001b[0m \u001b[0my\u001b[0m\u001b[0;34m.\u001b[0m\u001b[0msize\u001b[0m\u001b[0;34m:\u001b[0m\u001b[0;34m\u001b[0m\u001b[0;34m\u001b[0m\u001b[0m\n\u001b[0;32m-> 4584\u001b[0;31m             \u001b[0;32mraise\u001b[0m \u001b[0mValueError\u001b[0m\u001b[0;34m(\u001b[0m\u001b[0;34m\"x and y must be the same size\"\u001b[0m\u001b[0;34m)\u001b[0m\u001b[0;34m\u001b[0m\u001b[0;34m\u001b[0m\u001b[0m\n\u001b[0m\u001b[1;32m   4585\u001b[0m \u001b[0;34m\u001b[0m\u001b[0m\n\u001b[1;32m   4586\u001b[0m         \u001b[0;32mif\u001b[0m \u001b[0ms\u001b[0m \u001b[0;32mis\u001b[0m \u001b[0;32mNone\u001b[0m\u001b[0;34m:\u001b[0m\u001b[0;34m\u001b[0m\u001b[0;34m\u001b[0m\u001b[0m\n",
            "\u001b[0;31mValueError\u001b[0m: x and y must be the same size"
          ]
        },
        {
          "output_type": "display_data",
          "data": {
            "text/plain": [
              "<Figure size 640x480 with 1 Axes>"
            ],
            "image/png": "[encoded data removed]"
          },
          "metadata": {}
        }
      ]
    },
    {
      "cell_type": "code",
      "source": [
        "import pandas as pd\n",
        "import matplotlib.pyplot as plt\n",
        "import seaborn as sns\n",
        "from sklearn.linear_model import LinearRegression\n",
        "\n",
        "# Load the Hotel Dataset into a pandas DataFrame\n",
        "df = pd.read_csv('hotel_dataset.csv')\n",
        "\n",
        "# 1. Display the hotels booked for 4 days\n",
        "hotels_4_days = df[df['days'] == 4]['hotel_name']\n",
        "print(\"Hotels booked for 4 days:\")\n",
        "print(hotels_4_days)\n",
        "\n",
        "# 2. Display hotel names with a price range between 200 and 300\n",
        "hotels_price_range = df[(df['price'] >= 200) & (df['price'] <= 300)]['hotel_name']\n",
        "print(\"Hotels with a price range between 200 and 300:\")\n",
        "print(hotels_price_range)\n",
        "\n",
        "# 3. Display the number of hotels region-wise\n",
        "hotels_per_region = df['region'].value_counts()\n",
        "print(\"Number of hotels per region:\")\n",
        "print(hotels_per_region)\n",
        "\n",
        "# 4. Display the average total at the hotel \"Salvador\"\n",
        "average_total_salvador = df[df['hotel_name'] == 'Salvador']['total'].mean()\n",
        "print(\"Average total at the hotel 'Salvador':\", average_total_salvador)\n",
        "\n",
        "# 5. Plot the bar chart for days vs. total\n",
        "plt.figure(figsize=(8, 6))\n",
        "sns.barplot(data=df, x='days', y='total')\n",
        "plt.xlabel('Days')\n",
        "plt.ylabel('Total')\n",
        "plt.title('Days vs. Total')\n",
        "plt.show()\n",
        "\n",
        "# 6. Plot a suitable graph to display average price vs. place\n",
        "plt.figure(figsize=(10, 6))\n",
        "sns.boxplot(data=df, x='place', y='price')\n",
        "plt.xlabel('Place')\n",
        "plt.ylabel('Price')\n",
        "plt.title('Average Price vs. Place')\n",
        "plt.show()\n",
        "\n",
        "# 7. Apply linear regression on days and total\n",
        "X = df[['days']]\n",
        "y = df['total']\n",
        "\n",
        "model = LinearRegression()\n",
        "model.fit(X, y)\n",
        "\n",
        "# Example usage: Predict total for 5 days\n",
        "predicted_total = model.predict([[5]])\n",
        "print(\"Predicted total for 5 days:\", predicted_total)\n"
      ],
      "metadata": {
        "id": "66XLIqj4_lQ4"
      },
      "execution_count": null,
      "outputs": []
    }
  ],
  "metadata": {
    "colab": {
      "provenance": []
    },
    "kernelspec": {
      "display_name": "Python 3",
      "name": "python3"
    },
    "language_info": {
      "name": "python"
    }
  },
  "nbformat": 4,
  "nbformat_minor": 0
}